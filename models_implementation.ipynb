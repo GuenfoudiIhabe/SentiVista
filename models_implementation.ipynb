{
 "cells": [
  {
   "cell_type": "markdown",
   "id": "7eea83c9",
   "metadata": {},
   "source": [
    "# SentiVista: Comparing Classical ML and Transformer-based Models\n",
    "\n",
    "This notebook implements and compares different sentiment analysis approaches:\n",
    "1. Classical ML models (Naive Bayes, Logistic Regression)\n",
    "2. Fine-tuned RoBERTa transformer model\n",
    "\n",
    "All models are evaluated on the Sentiment140 dataset using the same metrics for fair comparison."
   ]
  },
  {
   "cell_type": "markdown",
   "id": "b8382b7b",
   "metadata": {},
   "source": [
    "## Setup and Import Libraries"
   ]
  },
  {
   "cell_type": "code",
   "execution_count": 11,
   "id": "ce73bc89",
   "metadata": {},
   "outputs": [
    {
     "name": "stdout",
     "output_type": "stream",
     "text": [
      "Requirement already satisfied: datasets in c:\\users\\queri\\anaconda3\\lib\\site-packages (3.1.0)\n",
      "Requirement already satisfied: emoji in c:\\users\\queri\\anaconda3\\lib\\site-packages (2.14.1)\n",
      "Requirement already satisfied: evaluate in c:\\users\\queri\\anaconda3\\lib\\site-packages (0.4.3)\n",
      "Requirement already satisfied: transformers==4.40.0 in c:\\users\\queri\\anaconda3\\lib\\site-packages (4.40.0)\n",
      "Requirement already satisfied: tqdm in c:\\users\\queri\\anaconda3\\lib\\site-packages (4.66.5)\n",
      "Requirement already satisfied: matplotlib in c:\\users\\queri\\anaconda3\\lib\\site-packages (3.9.2)\n",
      "Requirement already satisfied: seaborn in c:\\users\\queri\\anaconda3\\lib\\site-packages (0.13.2)\n",
      "Requirement already satisfied: joblib in c:\\users\\queri\\anaconda3\\lib\\site-packages (1.4.2)\n",
      "Requirement already satisfied: filelock in c:\\users\\queri\\anaconda3\\lib\\site-packages (from transformers==4.40.0) (3.16.1)\n",
      "Requirement already satisfied: huggingface-hub<1.0,>=0.19.3 in c:\\users\\queri\\anaconda3\\lib\\site-packages (from transformers==4.40.0) (0.30.2)\n",
      "Requirement already satisfied: numpy>=1.17 in c:\\users\\queri\\anaconda3\\lib\\site-packages (from transformers==4.40.0) (1.26.4)\n",
      "Requirement already satisfied: packaging>=20.0 in c:\\users\\queri\\anaconda3\\lib\\site-packages (from transformers==4.40.0) (24.1)\n",
      "Requirement already satisfied: pyyaml>=5.1 in c:\\users\\queri\\anaconda3\\lib\\site-packages (from transformers==4.40.0) (6.0.1)\n",
      "Requirement already satisfied: regex!=2019.12.17 in c:\\users\\queri\\anaconda3\\lib\\site-packages (from transformers==4.40.0) (2024.9.11)\n",
      "Requirement already satisfied: requests in c:\\users\\queri\\anaconda3\\lib\\site-packages (from transformers==4.40.0) (2.32.3)\n",
      "Requirement already satisfied: tokenizers<0.20,>=0.19 in c:\\users\\queri\\anaconda3\\lib\\site-packages (from transformers==4.40.0) (0.19.1)\n",
      "Requirement already satisfied: safetensors>=0.4.1 in c:\\users\\queri\\anaconda3\\lib\\site-packages (from transformers==4.40.0) (0.5.3)\n",
      "Requirement already satisfied: pyarrow>=15.0.0 in c:\\users\\queri\\anaconda3\\lib\\site-packages (from datasets) (16.1.0)\n",
      "Requirement already satisfied: dill<0.3.9,>=0.3.0 in c:\\users\\queri\\anaconda3\\lib\\site-packages (from datasets) (0.3.8)\n",
      "Requirement already satisfied: pandas in c:\\users\\queri\\anaconda3\\lib\\site-packages (from datasets) (2.2.2)\n",
      "Requirement already satisfied: xxhash in c:\\users\\queri\\anaconda3\\lib\\site-packages (from datasets) (3.5.0)\n",
      "Requirement already satisfied: multiprocess<0.70.17 in c:\\users\\queri\\anaconda3\\lib\\site-packages (from datasets) (0.70.16)\n",
      "Requirement already satisfied: fsspec<=2024.9.0,>=2023.1.0 in c:\\users\\queri\\anaconda3\\lib\\site-packages (from fsspec[http]<=2024.9.0,>=2023.1.0->datasets) (2024.6.1)\n",
      "Requirement already satisfied: aiohttp in c:\\users\\queri\\anaconda3\\lib\\site-packages (from datasets) (3.10.5)\n",
      "Requirement already satisfied: colorama in c:\\users\\queri\\anaconda3\\lib\\site-packages (from tqdm) (0.4.6)\n",
      "Requirement already satisfied: contourpy>=1.0.1 in c:\\users\\queri\\anaconda3\\lib\\site-packages (from matplotlib) (1.2.0)\n",
      "Requirement already satisfied: cycler>=0.10 in c:\\users\\queri\\anaconda3\\lib\\site-packages (from matplotlib) (0.11.0)\n",
      "Requirement already satisfied: fonttools>=4.22.0 in c:\\users\\queri\\anaconda3\\lib\\site-packages (from matplotlib) (4.51.0)\n",
      "Requirement already satisfied: kiwisolver>=1.3.1 in c:\\users\\queri\\anaconda3\\lib\\site-packages (from matplotlib) (1.4.4)\n",
      "Requirement already satisfied: pillow>=8 in c:\\users\\queri\\anaconda3\\lib\\site-packages (from matplotlib) (10.4.0)\n",
      "Requirement already satisfied: pyparsing>=2.3.1 in c:\\users\\queri\\anaconda3\\lib\\site-packages (from matplotlib) (3.1.2)\n",
      "Requirement already satisfied: python-dateutil>=2.7 in c:\\users\\queri\\anaconda3\\lib\\site-packages (from matplotlib) (2.9.0.post0)\n",
      "Requirement already satisfied: aiohappyeyeballs>=2.3.0 in c:\\users\\queri\\anaconda3\\lib\\site-packages (from aiohttp->datasets) (2.4.0)\n",
      "Requirement already satisfied: aiosignal>=1.1.2 in c:\\users\\queri\\anaconda3\\lib\\site-packages (from aiohttp->datasets) (1.2.0)\n",
      "Requirement already satisfied: attrs>=17.3.0 in c:\\users\\queri\\anaconda3\\lib\\site-packages (from aiohttp->datasets) (23.1.0)\n",
      "Requirement already satisfied: frozenlist>=1.1.1 in c:\\users\\queri\\anaconda3\\lib\\site-packages (from aiohttp->datasets) (1.4.0)\n",
      "Requirement already satisfied: multidict<7.0,>=4.5 in c:\\users\\queri\\anaconda3\\lib\\site-packages (from aiohttp->datasets) (6.0.4)\n",
      "Requirement already satisfied: yarl<2.0,>=1.0 in c:\\users\\queri\\anaconda3\\lib\\site-packages (from aiohttp->datasets) (1.11.0)\n",
      "Requirement already satisfied: typing-extensions>=3.7.4.3 in c:\\users\\queri\\anaconda3\\lib\\site-packages (from huggingface-hub<1.0,>=0.19.3->transformers==4.40.0) (4.13.1)\n",
      "Requirement already satisfied: pytz>=2020.1 in c:\\users\\queri\\anaconda3\\lib\\site-packages (from pandas->datasets) (2024.1)\n",
      "Requirement already satisfied: tzdata>=2022.7 in c:\\users\\queri\\anaconda3\\lib\\site-packages (from pandas->datasets) (2023.3)\n",
      "Requirement already satisfied: six>=1.5 in c:\\users\\queri\\anaconda3\\lib\\site-packages (from python-dateutil>=2.7->matplotlib) (1.16.0)\n",
      "Requirement already satisfied: charset-normalizer<4,>=2 in c:\\users\\queri\\anaconda3\\lib\\site-packages (from requests->transformers==4.40.0) (3.3.2)\n",
      "Requirement already satisfied: idna<4,>=2.5 in c:\\users\\queri\\anaconda3\\lib\\site-packages (from requests->transformers==4.40.0) (3.7)\n",
      "Requirement already satisfied: urllib3<3,>=1.21.1 in c:\\users\\queri\\anaconda3\\lib\\site-packages (from requests->transformers==4.40.0) (2.2.3)\n",
      "Requirement already satisfied: certifi>=2017.4.17 in c:\\users\\queri\\anaconda3\\lib\\site-packages (from requests->transformers==4.40.0) (2024.12.14)\n",
      "Setup complete!\n"
     ]
    },
    {
     "name": "stderr",
     "output_type": "stream",
     "text": [
      "[nltk_data] Downloading package stopwords to\n",
      "[nltk_data]     C:\\Users\\queri\\AppData\\Roaming\\nltk_data...\n",
      "[nltk_data]   Package stopwords is already up-to-date!\n",
      "[nltk_data] Downloading package punkt to\n",
      "[nltk_data]     C:\\Users\\queri\\AppData\\Roaming\\nltk_data...\n",
      "[nltk_data]   Package punkt is already up-to-date!\n",
      "[nltk_data] Downloading package wordnet to\n",
      "[nltk_data]     C:\\Users\\queri\\AppData\\Roaming\\nltk_data...\n",
      "[nltk_data]   Package wordnet is already up-to-date!\n"
     ]
    }
   ],
   "source": [
    "# Install required libraries\n",
    "!pip install datasets emoji evaluate transformers==4.40.0 tqdm matplotlib seaborn joblib\n",
    "\n",
    "# Import common libraries\n",
    "import pandas as pd\n",
    "import numpy as np\n",
    "import matplotlib.pyplot as plt\n",
    "import seaborn as sns\n",
    "import re\n",
    "import nltk\n",
    "from tqdm import tqdm\n",
    "import joblib\n",
    "import emoji\n",
    "import torch\n",
    "\n",
    "# NLP and ML libraries\n",
    "from nltk.corpus import stopwords\n",
    "from nltk.stem import PorterStemmer, WordNetLemmatizer\n",
    "from sklearn.model_selection import train_test_split\n",
    "from sklearn.feature_extraction.text import CountVectorizer, TfidfVectorizer\n",
    "from sklearn.naive_bayes import MultinomialNB\n",
    "from sklearn.linear_model import LogisticRegression\n",
    "from sklearn.metrics import accuracy_score, precision_score, recall_score, f1_score\n",
    "from sklearn.metrics import confusion_matrix, classification_report\n",
    "\n",
    "# Transformer-specific imports\n",
    "from transformers import AutoTokenizer, AutoModelForSequenceClassification\n",
    "from transformers import TrainingArguments, Trainer\n",
    "from datasets import Dataset\n",
    "import evaluate\n",
    "\n",
    "# Download NLTK resources\n",
    "nltk.download('stopwords')\n",
    "nltk.download('punkt')\n",
    "nltk.download('wordnet')\n",
    "\n",
    "print(\"Setup complete!\")"
   ]
  },
  {
   "cell_type": "markdown",
   "id": "0f38912d",
   "metadata": {},
   "source": [
    "## Data Loading and Preprocessing"
   ]
  },
  {
   "cell_type": "code",
   "execution_count": 12,
   "id": "13cfd01e",
   "metadata": {},
   "outputs": [
    {
     "name": "stdout",
     "output_type": "stream",
     "text": [
      "Dataset shape: (1599999, 6)\n",
      "Target distribution:\n",
      "target\n",
      "4    800000\n",
      "0    799999\n",
      "Name: count, dtype: int64\n"
     ]
    },
    {
     "data": {
      "text/html": [
       "<div>\n",
       "<style scoped>\n",
       "    .dataframe tbody tr th:only-of-type {\n",
       "        vertical-align: middle;\n",
       "    }\n",
       "\n",
       "    .dataframe tbody tr th {\n",
       "        vertical-align: top;\n",
       "    }\n",
       "\n",
       "    .dataframe thead th {\n",
       "        text-align: right;\n",
       "    }\n",
       "</style>\n",
       "<table border=\"1\" class=\"dataframe\">\n",
       "  <thead>\n",
       "    <tr style=\"text-align: right;\">\n",
       "      <th></th>\n",
       "      <th>target</th>\n",
       "      <th>id</th>\n",
       "      <th>date</th>\n",
       "      <th>flag</th>\n",
       "      <th>user</th>\n",
       "      <th>text</th>\n",
       "    </tr>\n",
       "  </thead>\n",
       "  <tbody>\n",
       "    <tr>\n",
       "      <th>0</th>\n",
       "      <td>0</td>\n",
       "      <td>1467810672</td>\n",
       "      <td>Mon Apr 06 22:19:49 PDT 2009</td>\n",
       "      <td>NO_QUERY</td>\n",
       "      <td>scotthamilton</td>\n",
       "      <td>is upset that he can't update his Facebook by ...</td>\n",
       "    </tr>\n",
       "    <tr>\n",
       "      <th>1</th>\n",
       "      <td>0</td>\n",
       "      <td>1467810917</td>\n",
       "      <td>Mon Apr 06 22:19:53 PDT 2009</td>\n",
       "      <td>NO_QUERY</td>\n",
       "      <td>mattycus</td>\n",
       "      <td>@Kenichan I dived many times for the ball. Man...</td>\n",
       "    </tr>\n",
       "    <tr>\n",
       "      <th>2</th>\n",
       "      <td>0</td>\n",
       "      <td>1467811184</td>\n",
       "      <td>Mon Apr 06 22:19:57 PDT 2009</td>\n",
       "      <td>NO_QUERY</td>\n",
       "      <td>ElleCTF</td>\n",
       "      <td>my whole body feels itchy and like its on fire</td>\n",
       "    </tr>\n",
       "    <tr>\n",
       "      <th>3</th>\n",
       "      <td>0</td>\n",
       "      <td>1467811193</td>\n",
       "      <td>Mon Apr 06 22:19:57 PDT 2009</td>\n",
       "      <td>NO_QUERY</td>\n",
       "      <td>Karoli</td>\n",
       "      <td>@nationwideclass no, it's not behaving at all....</td>\n",
       "    </tr>\n",
       "    <tr>\n",
       "      <th>4</th>\n",
       "      <td>0</td>\n",
       "      <td>1467811372</td>\n",
       "      <td>Mon Apr 06 22:20:00 PDT 2009</td>\n",
       "      <td>NO_QUERY</td>\n",
       "      <td>joy_wolf</td>\n",
       "      <td>@Kwesidei not the whole crew</td>\n",
       "    </tr>\n",
       "  </tbody>\n",
       "</table>\n",
       "</div>"
      ],
      "text/plain": [
       "   target          id                          date      flag           user  \\\n",
       "0       0  1467810672  Mon Apr 06 22:19:49 PDT 2009  NO_QUERY  scotthamilton   \n",
       "1       0  1467810917  Mon Apr 06 22:19:53 PDT 2009  NO_QUERY       mattycus   \n",
       "2       0  1467811184  Mon Apr 06 22:19:57 PDT 2009  NO_QUERY        ElleCTF   \n",
       "3       0  1467811193  Mon Apr 06 22:19:57 PDT 2009  NO_QUERY         Karoli   \n",
       "4       0  1467811372  Mon Apr 06 22:20:00 PDT 2009  NO_QUERY       joy_wolf   \n",
       "\n",
       "                                                text  \n",
       "0  is upset that he can't update his Facebook by ...  \n",
       "1  @Kenichan I dived many times for the ball. Man...  \n",
       "2    my whole body feels itchy and like its on fire   \n",
       "3  @nationwideclass no, it's not behaving at all....  \n",
       "4                      @Kwesidei not the whole crew   "
      ]
     },
     "execution_count": 12,
     "metadata": {},
     "output_type": "execute_result"
    }
   ],
   "source": [
    "# Load Sentiment140 Dataset\n",
    "df = pd.read_csv('sentiment140.csv', encoding='ISO-8859-1')\n",
    "df.columns = ['target', 'id', 'date', 'flag', 'user', 'text']\n",
    "\n",
    "# Display dataset info\n",
    "print(f\"Dataset shape: {df.shape}\")\n",
    "print(f\"Target distribution:\\n{df['target'].value_counts()}\")\n",
    "df.head()"
   ]
  },
  {
   "cell_type": "code",
   "execution_count": 13,
   "id": "3dfcec7f",
   "metadata": {},
   "outputs": [
    {
     "name": "stdout",
     "output_type": "stream",
     "text": [
      "Sampled dataset shape: (20000, 8)\n",
      "Sampled target distribution:\n",
      "label\n",
      "0    10000\n",
      "2    10000\n",
      "Name: count, dtype: int64\n"
     ]
    },
    {
     "name": "stderr",
     "output_type": "stream",
     "text": [
      "C:\\Users\\queri\\AppData\\Local\\Temp\\ipykernel_37952\\712547628.py:32: DeprecationWarning: DataFrameGroupBy.apply operated on the grouping columns. This behavior is deprecated, and in a future version of pandas the grouping columns will be excluded from the operation. Either pass `include_groups=False` to exclude the groupings or explicitly select the grouping columns after groupby to silence this warning.\n",
      "  sampled_df = df.groupby('label').apply(lambda x: x.sample(n=10000, random_state=42)).reset_index(drop=True)\n"
     ]
    },
    {
     "data": {
      "text/html": [
       "<div>\n",
       "<style scoped>\n",
       "    .dataframe tbody tr th:only-of-type {\n",
       "        vertical-align: middle;\n",
       "    }\n",
       "\n",
       "    .dataframe tbody tr th {\n",
       "        vertical-align: top;\n",
       "    }\n",
       "\n",
       "    .dataframe thead th {\n",
       "        text-align: right;\n",
       "    }\n",
       "</style>\n",
       "<table border=\"1\" class=\"dataframe\">\n",
       "  <thead>\n",
       "    <tr style=\"text-align: right;\">\n",
       "      <th></th>\n",
       "      <th>text</th>\n",
       "      <th>cleaned_text</th>\n",
       "      <th>target</th>\n",
       "      <th>label</th>\n",
       "    </tr>\n",
       "  </thead>\n",
       "  <tbody>\n",
       "    <tr>\n",
       "      <th>0</th>\n",
       "      <td>@dickiemaxx  Win a few; lose  few  a  with a</td>\n",
       "      <td>win lose</td>\n",
       "      <td>0</td>\n",
       "      <td>0</td>\n",
       "    </tr>\n",
       "    <tr>\n",
       "      <th>1</th>\n",
       "      <td>@lavjonas tokio hotel and won tokio hotel that...</td>\n",
       "      <td>tokio hotel tokio hotel bad</td>\n",
       "      <td>0</td>\n",
       "      <td>0</td>\n",
       "    </tr>\n",
       "    <tr>\n",
       "      <th>2</th>\n",
       "      <td>Right, off to work  Only 5 hours to go until I...</td>\n",
       "      <td>right work hour go free xd</td>\n",
       "      <td>0</td>\n",
       "      <td>0</td>\n",
       "    </tr>\n",
       "    <tr>\n",
       "      <th>3</th>\n",
       "      <td>@daibarnes and guess who's landed that plum jo...</td>\n",
       "      <td>guess land plum job moi host big conf juli st ...</td>\n",
       "      <td>0</td>\n",
       "      <td>0</td>\n",
       "    </tr>\n",
       "    <tr>\n",
       "      <th>4</th>\n",
       "      <td>@rabbit_rabid can't sleep... come give me hug...</td>\n",
       "      <td>sleep come give hug</td>\n",
       "      <td>0</td>\n",
       "      <td>0</td>\n",
       "    </tr>\n",
       "  </tbody>\n",
       "</table>\n",
       "</div>"
      ],
      "text/plain": [
       "                                                text  \\\n",
       "0      @dickiemaxx  Win a few; lose  few  a  with a    \n",
       "1  @lavjonas tokio hotel and won tokio hotel that...   \n",
       "2  Right, off to work  Only 5 hours to go until I...   \n",
       "3  @daibarnes and guess who's landed that plum jo...   \n",
       "4  @rabbit_rabid can't sleep... come give me hug...    \n",
       "\n",
       "                                        cleaned_text  target  label  \n",
       "0                                           win lose       0      0  \n",
       "1                        tokio hotel tokio hotel bad       0      0  \n",
       "2                         right work hour go free xd       0      0  \n",
       "3  guess land plum job moi host big conf juli st ...       0      0  \n",
       "4                                sleep come give hug       0      0  "
      ]
     },
     "execution_count": 13,
     "metadata": {},
     "output_type": "execute_result"
    }
   ],
   "source": [
    "# Common preprocessing function for both classical and transformer models\n",
    "stop_words = set(stopwords.words('english'))\n",
    "stemmer = PorterStemmer()\n",
    "lemmatizer = WordNetLemmatizer()\n",
    "\n",
    "def clean_tweet(tweet):\n",
    "    tweet = re.sub(r'http\\S+|www\\S+|https\\S+', '', tweet, flags=re.MULTILINE)\n",
    "    tweet = re.sub(r'@\\w+', '', tweet)\n",
    "    tweet = re.sub(r'\\W', ' ', tweet)\n",
    "    tweet = re.sub(r'\\d', '', tweet)\n",
    "    tweet = re.sub(r'\\s+', ' ', tweet).strip()\n",
    "    tokens = tweet.split()\n",
    "    tokens = [lemmatizer.lemmatize(stemmer.stem(word)) for word in tokens if word.lower() not in stop_words]\n",
    "    tweet = ' '.join(tokens)\n",
    "    return tweet\n",
    "\n",
    "# Preprocess the text\n",
    "df['cleaned_text'] = df['text'].apply(clean_tweet)\n",
    "\n",
    "# Add target mapping for RoBERTa (0=negative, 1=neutral, 2=positive)\n",
    "def map_target(val):\n",
    "    if val == 0:\n",
    "        return 0  # negative\n",
    "    elif val == 2:\n",
    "        return 1  # neutral\n",
    "    else:  # val == 4 in original dataset\n",
    "        return 2  # positive\n",
    "\n",
    "df['label'] = df['target'].apply(map_target)\n",
    "\n",
    "# Sample the dataset for faster experimentation (comment out for full training)\n",
    "sampled_df = df.groupby('label').apply(lambda x: x.sample(n=10000, random_state=42)).reset_index(drop=True)\n",
    "print(f\"Sampled dataset shape: {sampled_df.shape}\")\n",
    "print(f\"Sampled target distribution:\\n{sampled_df['label'].value_counts()}\")\n",
    "\n",
    "# Display examples\n",
    "sampled_df[['text', 'cleaned_text', 'target', 'label']].head()"
   ]
  },
  {
   "cell_type": "markdown",
   "id": "a4b57ba1",
   "metadata": {},
   "source": [
    "## Common Train-Test Split\n",
    "\n",
    "We'll create a common train-test split that will be used by all models for fair comparison."
   ]
  },
  {
   "cell_type": "code",
   "execution_count": 14,
   "id": "645b976b",
   "metadata": {},
   "outputs": [
    {
     "name": "stdout",
     "output_type": "stream",
     "text": [
      "Train set: (16000, 8), Test set: (4000, 8)\n",
      "Train label distribution:\n",
      "label\n",
      "2    8000\n",
      "0    8000\n",
      "Name: count, dtype: int64\n",
      "Test label distribution:\n",
      "label\n",
      "2    2000\n",
      "0    2000\n",
      "Name: count, dtype: int64\n"
     ]
    }
   ],
   "source": [
    "# Create a common train/test split for consistent evaluation\n",
    "train_df, test_df = train_test_split(\n",
    "    sampled_df, \n",
    "    test_size=0.2, \n",
    "    stratify=sampled_df['label'], \n",
    "    random_state=42\n",
    ")\n",
    "\n",
    "print(f\"Train set: {train_df.shape}, Test set: {test_df.shape}\")\n",
    "print(f\"Train label distribution:\\n{train_df['label'].value_counts()}\")\n",
    "print(f\"Test label distribution:\\n{test_df['label'].value_counts()}\")"
   ]
  },
  {
   "cell_type": "markdown",
   "id": "f7c0b23e",
   "metadata": {},
   "source": [
    "## Part 1: Classical ML Models"
   ]
  },
  {
   "cell_type": "markdown",
   "id": "f0c1502a",
   "metadata": {},
   "source": [
    "### Feature Engineering for Classical Models"
   ]
  },
  {
   "cell_type": "code",
   "execution_count": 15,
   "id": "2df367aa",
   "metadata": {},
   "outputs": [
    {
     "name": "stdout",
     "output_type": "stream",
     "text": [
      "Feature matrix shapes - Train: (16000, 10003), Test: (4000, 10003)\n"
     ]
    }
   ],
   "source": [
    "# TF-IDF Vectorization\n",
    "tfidf_vectorizer = TfidfVectorizer(max_features=10000)\n",
    "X_train_tfidf = tfidf_vectorizer.fit_transform(train_df['cleaned_text'])\n",
    "X_test_tfidf = tfidf_vectorizer.transform(test_df['cleaned_text'])\n",
    "\n",
    "# Additional features\n",
    "train_df['tweet_length'] = train_df['text'].apply(len)\n",
    "train_df['hashtag_count'] = train_df['text'].apply(lambda x: len([word for word in x.split() if word.startswith('#')]))\n",
    "train_df['mention_count'] = train_df['text'].apply(lambda x: len([word for word in x.split() if word.startswith('@')]))\n",
    "\n",
    "test_df['tweet_length'] = test_df['text'].apply(len)\n",
    "test_df['hashtag_count'] = test_df['text'].apply(lambda x: len([word for word in x.split() if word.startswith('#')]))\n",
    "test_df['mention_count'] = test_df['text'].apply(lambda x: len([word for word in x.split() if word.startswith('@')]))\n",
    "\n",
    "# Combine TF-IDF with additional features\n",
    "from scipy.sparse import hstack\n",
    "X_train_additional = train_df[['tweet_length', 'hashtag_count', 'mention_count']].values\n",
    "X_test_additional = test_df[['tweet_length', 'hashtag_count', 'mention_count']].values\n",
    "\n",
    "X_train_combined = hstack([X_train_tfidf, X_train_additional])\n",
    "X_test_combined = hstack([X_test_tfidf, X_test_additional])\n",
    "\n",
    "# Target values\n",
    "y_train_classical = train_df['target']  # Original 0/4 targets for classical models\n",
    "y_test_classical = test_df['target']\n",
    "\n",
    "print(f\"Feature matrix shapes - Train: {X_train_combined.shape}, Test: {X_test_combined.shape}\")"
   ]
  },
  {
   "cell_type": "markdown",
   "id": "9659246a",
   "metadata": {},
   "source": [
    "### Train Classical Models"
   ]
  },
  {
   "cell_type": "code",
   "execution_count": 16,
   "id": "47016d5e",
   "metadata": {},
   "outputs": [
    {
     "name": "stdout",
     "output_type": "stream",
     "text": [
      "Training Naive Bayes...\n",
      "Training Logistic Regression...\n",
      "Classical models training complete!\n"
     ]
    }
   ],
   "source": [
    "# Define a dictionary to store all models and their results\n",
    "models = {}\n",
    "results = {}\n",
    "\n",
    "# Train Naive Bayes\n",
    "print(\"Training Naive Bayes...\")\n",
    "nb_model = MultinomialNB()\n",
    "nb_model.fit(X_train_combined, y_train_classical)\n",
    "models['Naive Bayes'] = nb_model\n",
    "\n",
    "# Train Logistic Regression\n",
    "print(\"Training Logistic Regression...\")\n",
    "lr_model = LogisticRegression(max_iter=1000, solver='liblinear')\n",
    "lr_model.fit(X_train_combined, y_train_classical)\n",
    "models['Logistic Regression'] = lr_model\n",
    "\n",
    "print(\"Classical models training complete!\")"
   ]
  },
  {
   "cell_type": "markdown",
   "id": "2017493b",
   "metadata": {},
   "source": [
    "## Part 2: RoBERTa Transformer Model"
   ]
  },
  {
   "cell_type": "markdown",
   "id": "380d9b95",
   "metadata": {},
   "source": [
    "### Prepare Data for RoBERTa"
   ]
  },
  {
   "cell_type": "code",
   "execution_count": 17,
   "id": "1a8f819e",
   "metadata": {},
   "outputs": [
    {
     "name": "stderr",
     "output_type": "stream",
     "text": [
      "c:\\Users\\queri\\anaconda3\\Lib\\site-packages\\huggingface_hub\\file_download.py:896: FutureWarning: `resume_download` is deprecated and will be removed in version 1.0.0. Downloads always resume when possible. If you want to force a new download, use `force_download=True`.\n",
      "  warnings.warn(\n"
     ]
    },
    {
     "data": {
      "application/vnd.jupyter.widget-view+json": {
       "model_id": "9fb8e9301a004b559c640b8a81926c5f",
       "version_major": 2,
       "version_minor": 0
      },
      "text/plain": [
       "Map:   0%|          | 0/16000 [00:00<?, ? examples/s]"
      ]
     },
     "metadata": {},
     "output_type": "display_data"
    },
    {
     "data": {
      "application/vnd.jupyter.widget-view+json": {
       "model_id": "f7988fa5d30e4a9abd5297e95b0f3527",
       "version_major": 2,
       "version_minor": 0
      },
      "text/plain": [
       "Map:   0%|          | 0/4000 [00:00<?, ? examples/s]"
      ]
     },
     "metadata": {},
     "output_type": "display_data"
    },
    {
     "name": "stdout",
     "output_type": "stream",
     "text": [
      "Data preparation for RoBERTa complete!\n"
     ]
    }
   ],
   "source": [
    "# Set up tokenizer for RoBERTa\n",
    "model_name = \"cardiffnlp/twitter-roberta-base-sentiment\"\n",
    "tokenizer = AutoTokenizer.from_pretrained(model_name)\n",
    "\n",
    "def tokenize_function(examples):\n",
    "    return tokenizer(examples['cleaned_text'], truncation=True, padding='max_length', max_length=128)\n",
    "\n",
    "# Convert to HuggingFace datasets\n",
    "train_dataset = Dataset.from_pandas(train_df[['cleaned_text', 'label']].reset_index(drop=True))\n",
    "test_dataset = Dataset.from_pandas(test_df[['cleaned_text', 'label']].reset_index(drop=True))\n",
    "\n",
    "# Tokenize the datasets\n",
    "train_dataset = train_dataset.map(tokenize_function, batched=True)\n",
    "test_dataset = test_dataset.map(tokenize_function, batched=True)\n",
    "\n",
    "# Set format for PyTorch\n",
    "train_dataset.set_format(type='torch', columns=['input_ids', 'attention_mask', 'label'])\n",
    "test_dataset.set_format(type='torch', columns=['input_ids', 'attention_mask', 'label'])\n",
    "\n",
    "print(\"Data preparation for RoBERTa complete!\")"
   ]
  },
  {
   "cell_type": "markdown",
   "id": "b7b6753d",
   "metadata": {},
   "source": [
    "### Train RoBERTa Model"
   ]
  },
  {
   "cell_type": "code",
   "execution_count": 18,
   "id": "ba316d46",
   "metadata": {},
   "outputs": [
    {
     "name": "stderr",
     "output_type": "stream",
     "text": [
      "c:\\Users\\queri\\anaconda3\\Lib\\site-packages\\huggingface_hub\\file_download.py:896: FutureWarning: `resume_download` is deprecated and will be removed in version 1.0.0. Downloads always resume when possible. If you want to force a new download, use `force_download=True`.\n",
      "  warnings.warn(\n"
     ]
    },
    {
     "name": "stdout",
     "output_type": "stream",
     "text": [
      "Training RoBERTa model...\n"
     ]
    },
    {
     "data": {
      "application/vnd.jupyter.widget-view+json": {
       "model_id": "33f8b214f5304492bd6084b0523022b3",
       "version_major": 2,
       "version_minor": 0
      },
      "text/plain": [
       "  0%|          | 0/500 [00:00<?, ?it/s]"
      ]
     },
     "metadata": {},
     "output_type": "display_data"
    },
    {
     "name": "stdout",
     "output_type": "stream",
     "text": [
      "{'loss': 0.6029, 'grad_norm': 9.252849578857422, 'learning_rate': 4e-05, 'epoch': 0.2}\n",
      "{'loss': 0.5432, 'grad_norm': 5.744284629821777, 'learning_rate': 3e-05, 'epoch': 0.4}\n",
      "{'loss': 0.5432, 'grad_norm': 5.744284629821777, 'learning_rate': 3e-05, 'epoch': 0.4}\n",
      "{'loss': 0.528, 'grad_norm': 8.502288818359375, 'learning_rate': 2e-05, 'epoch': 0.6}\n",
      "{'loss': 0.528, 'grad_norm': 8.502288818359375, 'learning_rate': 2e-05, 'epoch': 0.6}\n",
      "{'loss': 0.5203, 'grad_norm': 6.295339584350586, 'learning_rate': 1e-05, 'epoch': 0.8}\n",
      "{'loss': 0.5203, 'grad_norm': 6.295339584350586, 'learning_rate': 1e-05, 'epoch': 0.8}\n",
      "{'loss': 0.4992, 'grad_norm': 5.538912773132324, 'learning_rate': 0.0, 'epoch': 1.0}\n",
      "{'loss': 0.4992, 'grad_norm': 5.538912773132324, 'learning_rate': 0.0, 'epoch': 1.0}\n"
     ]
    },
    {
     "data": {
      "application/vnd.jupyter.widget-view+json": {
       "model_id": "5a3a9a9845a74730832b105cea08884a",
       "version_major": 2,
       "version_minor": 0
      },
      "text/plain": [
       "  0%|          | 0/125 [00:00<?, ?it/s]"
      ]
     },
     "metadata": {},
     "output_type": "display_data"
    },
    {
     "name": "stdout",
     "output_type": "stream",
     "text": [
      "{'eval_loss': 0.49395081400871277, 'eval_accuracy': 0.7585, 'eval_runtime': 14.5705, 'eval_samples_per_second': 274.527, 'eval_steps_per_second': 8.579, 'epoch': 1.0}\n",
      "{'train_runtime': 201.5032, 'train_samples_per_second': 79.403, 'train_steps_per_second': 2.481, 'train_loss': 0.538746109008789, 'epoch': 1.0}\n",
      "RoBERTa model training complete!\n",
      "{'train_runtime': 201.5032, 'train_samples_per_second': 79.403, 'train_steps_per_second': 2.481, 'train_loss': 0.538746109008789, 'epoch': 1.0}\n",
      "RoBERTa model training complete!\n"
     ]
    }
   ],
   "source": [
    "# Load the pre-trained model\n",
    "roberta_model = AutoModelForSequenceClassification.from_pretrained(model_name, num_labels=3)\n",
    "\n",
    "# Define training arguments\n",
    "training_args = TrainingArguments(\n",
    "    output_dir='./results',\n",
    "    num_train_epochs=1,  # Reduced for demonstration, increase for better results\n",
    "    per_device_train_batch_size=32,\n",
    "    per_device_eval_batch_size=32,\n",
    "    evaluation_strategy='epoch',\n",
    "    save_strategy='epoch',\n",
    "    logging_dir='./logs',\n",
    "    logging_steps=100,\n",
    "    load_best_model_at_end=True,\n",
    "    metric_for_best_model='eval_loss',\n",
    "    save_total_limit=1,\n",
    "    report_to='none'  # Disable wandb reporting\n",
    ")\n",
    "\n",
    "# Define metrics\n",
    "accuracy_metric = evaluate.load('accuracy')\n",
    "\n",
    "def compute_metrics(eval_pred):\n",
    "    logits, labels = eval_pred\n",
    "    predictions = np.argmax(logits, axis=-1)\n",
    "    return accuracy_metric.compute(predictions=predictions, references=labels)\n",
    "\n",
    "# Create Trainer\n",
    "trainer = Trainer(\n",
    "    model=roberta_model,\n",
    "    args=training_args,\n",
    "    train_dataset=train_dataset,\n",
    "    eval_dataset=test_dataset,\n",
    "    compute_metrics=compute_metrics\n",
    ")\n",
    "\n",
    "# Train the model\n",
    "print(\"Training RoBERTa model...\")\n",
    "trainer.train()\n",
    "\n",
    "models['RoBERTa'] = trainer.model\n",
    "print(\"RoBERTa model training complete!\")"
   ]
  },
  {
   "cell_type": "markdown",
   "id": "2211a230",
   "metadata": {},
   "source": [
    "## Model Evaluation and Comparison"
   ]
  },
  {
   "cell_type": "code",
   "execution_count": 19,
   "id": "9422469a",
   "metadata": {},
   "outputs": [
    {
     "name": "stdout",
     "output_type": "stream",
     "text": [
      "Naive Bayes Metrics:\n",
      "  Accuracy: 0.7238\n",
      "  Precision: 0.7330\n",
      "  Recall: 0.7040\n",
      "  F1 Score: 0.7182\n",
      "\n",
      "Classification Report:\n",
      "              precision    recall  f1-score   support\n",
      "\n",
      "    Negative       0.72      0.74      0.73      2000\n",
      "    Positive       0.73      0.70      0.72      2000\n",
      "\n",
      "    accuracy                           0.72      4000\n",
      "   macro avg       0.72      0.72      0.72      4000\n",
      "weighted avg       0.72      0.72      0.72      4000\n",
      "\n",
      "Logistic Regression Metrics:\n",
      "  Accuracy: 0.7388\n",
      "  Precision: 0.7374\n",
      "  Recall: 0.7415\n",
      "  F1 Score: 0.7395\n",
      "\n",
      "Classification Report:\n",
      "              precision    recall  f1-score   support\n",
      "\n",
      "    Negative       0.74      0.74      0.74      2000\n",
      "    Positive       0.74      0.74      0.74      2000\n",
      "\n",
      "    accuracy                           0.74      4000\n",
      "   macro avg       0.74      0.74      0.74      4000\n",
      "weighted avg       0.74      0.74      0.74      4000\n",
      "\n"
     ]
    }
   ],
   "source": [
    "# Function to evaluate classical models\n",
    "def evaluate_classical_model(model_name, model, X_test, y_test):\n",
    "    y_pred = model.predict(X_test)\n",
    "    \n",
    "    # For classical models, the target is binary (0/4)\n",
    "    # Adjust the pos_label based on your dataset\n",
    "    pos_label = 4 if 4 in set(y_test) else 1\n",
    "    \n",
    "    accuracy = accuracy_score(y_test, y_pred)\n",
    "    precision = precision_score(y_test, y_pred, pos_label=pos_label)\n",
    "    recall = recall_score(y_test, y_pred, pos_label=pos_label)\n",
    "    f1 = f1_score(y_test, y_pred, pos_label=pos_label)\n",
    "    \n",
    "    results[model_name] = {\n",
    "        'accuracy': accuracy,\n",
    "        'precision': precision,\n",
    "        'recall': recall,\n",
    "        'f1_score': f1,\n",
    "        'confusion_matrix': confusion_matrix(y_test, y_pred)\n",
    "    }\n",
    "    \n",
    "    print(f\"{model_name} Metrics:\")\n",
    "    print(f\"  Accuracy: {accuracy:.4f}\")\n",
    "    print(f\"  Precision: {precision:.4f}\")\n",
    "    print(f\"  Recall: {recall:.4f}\")\n",
    "    print(f\"  F1 Score: {f1:.4f}\")\n",
    "    \n",
    "    # Get unique classes and create appropriate target_names\n",
    "    unique_classes = sorted(np.unique(np.concatenate([y_test.unique(), np.unique(y_pred)])))\n",
    "    \n",
    "    # Determine appropriate target names based on the number of classes\n",
    "    if len(unique_classes) == 2:\n",
    "        if 0 in unique_classes and 4 in unique_classes:  # Original Sentiment140 format\n",
    "            target_names = ['Negative', 'Positive']\n",
    "            print(f\"\\nClassification Report:\")\n",
    "            print(classification_report(y_test, y_pred, target_names=target_names, labels=[0, 4]))\n",
    "        else:  # Any other binary format\n",
    "            target_names = ['Negative', 'Positive']\n",
    "            print(f\"\\nClassification Report:\")\n",
    "            print(classification_report(y_test, y_pred, target_names=target_names))\n",
    "    elif len(unique_classes) == 3:  # Three class case\n",
    "        target_names = ['Negative', 'Neutral', 'Positive']\n",
    "        print(f\"\\nClassification Report:\")\n",
    "        print(classification_report(y_test, y_pred, target_names=target_names))\n",
    "    else:  # Generic case\n",
    "        print(f\"\\nClassification Report:\")\n",
    "        print(classification_report(y_test, y_pred))\n",
    "\n",
    "# Evaluate classical models\n",
    "for name, model in models.items():\n",
    "    if name in ['Naive Bayes', 'Logistic Regression']:\n",
    "        evaluate_classical_model(name, model, X_test_combined, y_test_classical)"
   ]
  },
  {
   "cell_type": "code",
   "execution_count": 20,
   "id": "1858431b",
   "metadata": {},
   "outputs": [
    {
     "data": {
      "application/vnd.jupyter.widget-view+json": {
       "model_id": "a0c3c3eb01114ea7bc3e006c7913a876",
       "version_major": 2,
       "version_minor": 0
      },
      "text/plain": [
       "  0%|          | 0/125 [00:00<?, ?it/s]"
      ]
     },
     "metadata": {},
     "output_type": "display_data"
    },
    {
     "name": "stdout",
     "output_type": "stream",
     "text": [
      "RoBERTa Evaluation Results:\n",
      "{'eval_loss': 0.49395081400871277, 'eval_accuracy': 0.7585, 'eval_runtime': 14.7404, 'eval_samples_per_second': 271.363, 'eval_steps_per_second': 8.48, 'epoch': 1.0}\n"
     ]
    },
    {
     "data": {
      "application/vnd.jupyter.widget-view+json": {
       "model_id": "1bb66ba4f68d45d6a31415b9c31dc2a7",
       "version_major": 2,
       "version_minor": 0
      },
      "text/plain": [
       "  0%|          | 0/125 [00:00<?, ?it/s]"
      ]
     },
     "metadata": {},
     "output_type": "display_data"
    },
    {
     "name": "stdout",
     "output_type": "stream",
     "text": [
      "\n",
      "RoBERTa Detailed Metrics:\n",
      "  Accuracy: 0.7585\n",
      "  Precision: 0.7590\n",
      "  Recall: 0.7585\n",
      "  F1 Score: 0.7584\n",
      "\n",
      "Classification Report:\n",
      "              precision    recall  f1-score   support\n",
      "\n",
      "           0       0.77      0.74      0.75      2000\n",
      "           2       0.75      0.78      0.76      2000\n",
      "\n",
      "    accuracy                           0.76      4000\n",
      "   macro avg       0.76      0.76      0.76      4000\n",
      "weighted avg       0.76      0.76      0.76      4000\n",
      "\n"
     ]
    }
   ],
   "source": [
    "# Evaluate RoBERTa model\n",
    "roberta_eval_results = trainer.evaluate()\n",
    "print(\"RoBERTa Evaluation Results:\")\n",
    "print(roberta_eval_results)\n",
    "\n",
    "# Get predictions for confusion matrix and detailed metrics\n",
    "raw_pred, _, _ = trainer.predict(test_dataset)\n",
    "y_pred_roberta = np.argmax(raw_pred, axis=1)\n",
    "y_test_roberta = test_df['label'].values\n",
    "\n",
    "# Calculate metrics (need to handle multiclass case)\n",
    "roberta_accuracy = accuracy_score(y_test_roberta, y_pred_roberta)\n",
    "roberta_precision = precision_score(y_test_roberta, y_pred_roberta, average='weighted')\n",
    "roberta_recall = recall_score(y_test_roberta, y_pred_roberta, average='weighted')\n",
    "roberta_f1 = f1_score(y_test_roberta, y_pred_roberta, average='weighted')\n",
    "\n",
    "results['RoBERTa'] = {\n",
    "    'accuracy': roberta_accuracy,\n",
    "    'precision': roberta_precision,\n",
    "    'recall': roberta_recall,\n",
    "    'f1_score': roberta_f1,\n",
    "    'confusion_matrix': confusion_matrix(y_test_roberta, y_pred_roberta)\n",
    "}\n",
    "\n",
    "print(f\"\\nRoBERTa Detailed Metrics:\")\n",
    "print(f\"  Accuracy: {roberta_accuracy:.4f}\")\n",
    "print(f\"  Precision: {roberta_precision:.4f}\")\n",
    "print(f\"  Recall: {roberta_recall:.4f}\")\n",
    "print(f\"  F1 Score: {roberta_f1:.4f}\")\n",
    "\n",
    "print(f\"\\nClassification Report:\")\n",
    "# Check how many unique classes are in the test and prediction data\n",
    "unique_classes = np.unique(np.concatenate([y_test_roberta, y_pred_roberta]))\n",
    "if len(unique_classes) == 3:\n",
    "    print(classification_report(y_test_roberta, y_pred_roberta, target_names=['Negative', 'Neutral', 'Positive']))\n",
    "else:\n",
    "    # If not exactly 3 classes, use default labeling\n",
    "    print(classification_report(y_test_roberta, y_pred_roberta))"
   ]
  },
  {
   "cell_type": "markdown",
   "id": "baddcb85",
   "metadata": {},
   "source": [
    "### Visualize Results"
   ]
  },
  {
   "cell_type": "code",
   "execution_count": 21,
   "id": "eafcea37",
   "metadata": {},
   "outputs": [
    {
     "data": {
      "image/png": "[encoded data removed]",
      "text/plain": [
       "<Figure size 1500x500 with 6 Axes>"
      ]
     },
     "metadata": {},
     "output_type": "display_data"
    },
    {
     "data": {
      "image/png": "[encoded data removed]",
      "text/plain": [
       "<Figure size 1200x600 with 1 Axes>"
      ]
     },
     "metadata": {},
     "output_type": "display_data"
    }
   ],
   "source": [
    "# Plot confusion matrices\n",
    "plt.figure(figsize=(15, 5))\n",
    "for i, (name, result) in enumerate(results.items()):\n",
    "    plt.subplot(1, 3, i+1)\n",
    "    cm = result['confusion_matrix']\n",
    "    \n",
    "    # For RoBERTa, we have 3 classes\n",
    "    if name == 'RoBERTa':\n",
    "        labels = ['Negative', 'Neutral', 'Positive']\n",
    "    else:\n",
    "        labels = ['Negative', 'Positive']\n",
    "    \n",
    "    sns.heatmap(cm, annot=True, fmt='d', cmap='Blues', xticklabels=labels, yticklabels=labels)\n",
    "    plt.title(f'{name} Confusion Matrix')\n",
    "    plt.ylabel('Actual')\n",
    "    plt.xlabel('Predicted')\n",
    "\n",
    "plt.tight_layout()\n",
    "plt.show()\n",
    "\n",
    "# Plot comparative metrics\n",
    "metrics = ['accuracy', 'precision', 'recall', 'f1_score']\n",
    "model_names = list(results.keys())\n",
    "\n",
    "# Create a DataFrame for easy plotting\n",
    "comparison_df = pd.DataFrame(index=model_names, columns=metrics)\n",
    "for model in model_names:\n",
    "    for metric in metrics:\n",
    "        comparison_df.loc[model, metric] = results[model][metric]\n",
    "\n",
    "# Bar chart\n",
    "comparison_df.plot(kind='bar', figsize=(12, 6))\n",
    "plt.title('Model Performance Comparison')\n",
    "plt.ylabel('Score')\n",
    "plt.xticks(rotation=0)\n",
    "plt.ylim(0, 1.0)\n",
    "plt.legend(title='Metrics')\n",
    "plt.grid(axis='y', linestyle='--', alpha=0.7)\n",
    "plt.show()"
   ]
  },
  {
   "cell_type": "markdown",
   "id": "09e69b05",
   "metadata": {},
   "source": [
    "## Inference Examples"
   ]
  },
  {
   "cell_type": "code",
   "execution_count": 22,
   "id": "84278e04",
   "metadata": {},
   "outputs": [
    {
     "name": "stdout",
     "output_type": "stream",
     "text": [
      "Text: I absolutely love this product! It's amazing and works perfectly.\n",
      "Cleaned text: absolut love product amaz work perfectli\n",
      "\n",
      "Model Predictions:\n",
      "Naive Bayes: Positive\n",
      "Logistic Regression: Positive\n",
      "RoBERTa: LABEL_2 (confidence: 0.9443)\n",
      "\n",
      "--------------------------------------------------\n",
      "Text: This is the worst experience ever. I'm never coming back.\n",
      "Cleaned text: worst experi ever never come back\n",
      "\n",
      "Model Predictions:\n",
      "Naive Bayes: Negative\n",
      "Logistic Regression: Negative\n",
      "RoBERTa: LABEL_0 (confidence: 0.9879)\n",
      "\n",
      "--------------------------------------------------\n",
      "Text: The weather is nice today, but I'm feeling kind of tired.\n",
      "Cleaned text: weather nice today feel kind tire\n",
      "\n",
      "Model Predictions:\n",
      "Naive Bayes: Negative\n",
      "Logistic Regression: Negative\n",
      "RoBERTa: LABEL_0 (confidence: 0.8596)\n",
      "\n",
      "--------------------------------------------------\n",
      "Text: Just had an awesome lunch with my friends! 😊\n",
      "Cleaned text: awesom lunch friend\n",
      "\n",
      "Model Predictions:\n",
      "Naive Bayes: Positive\n",
      "Logistic Regression: Positive\n",
      "RoBERTa: LABEL_2 (confidence: 0.9544)\n",
      "\n",
      "--------------------------------------------------\n",
      "Text: @Twitter This update is confusing and hard to use #frustrated\n",
      "Cleaned text: updat confus hard use frustrat\n",
      "\n",
      "Model Predictions:\n",
      "Naive Bayes: Negative\n",
      "Logistic Regression: Negative\n",
      "RoBERTa: LABEL_0 (confidence: 0.8820)\n",
      "\n",
      "--------------------------------------------------\n"
     ]
    }
   ],
   "source": [
    "# Function to run inference with all models\n",
    "def compare_predictions(text):\n",
    "    # Clean text for classical models\n",
    "    cleaned_text = clean_tweet(text)\n",
    "    \n",
    "    # Additional features for classical models\n",
    "    text_len = len(text)\n",
    "    hashtag_count = len([word for word in text.split() if word.startswith('#')])\n",
    "    mention_count = len([word for word in text.split() if word.startswith('@')])\n",
    "    \n",
    "    # Classical model predictions\n",
    "    tfidf_vector = tfidf_vectorizer.transform([cleaned_text])\n",
    "    additional_features = np.array([[text_len, hashtag_count, mention_count]])\n",
    "    combined_features = hstack([tfidf_vector, additional_features])\n",
    "    \n",
    "    # Get predictions from classical models\n",
    "    nb_prediction = models['Naive Bayes'].predict(combined_features)[0]\n",
    "    lr_prediction = models['Logistic Regression'].predict(combined_features)[0]\n",
    "    \n",
    "    # Convert binary predictions to labels\n",
    "    nb_label = \"Positive\" if nb_prediction == 4 else \"Negative\"\n",
    "    lr_label = \"Positive\" if lr_prediction == 4 else \"Negative\"\n",
    "    \n",
    "    # RoBERTa prediction using pipeline\n",
    "    from transformers import pipeline\n",
    "    roberta_pipe = pipeline(\"sentiment-analysis\", model=trainer.model, tokenizer=tokenizer)\n",
    "    roberta_result = roberta_pipe(text)[0]\n",
    "    roberta_label = roberta_result['label']\n",
    "    roberta_score = roberta_result['score']\n",
    "    \n",
    "    # Print results\n",
    "    print(f\"Text: {text}\")\n",
    "    print(f\"Cleaned text: {cleaned_text}\")\n",
    "    print(f\"\\nModel Predictions:\")\n",
    "    print(f\"Naive Bayes: {nb_label}\")\n",
    "    print(f\"Logistic Regression: {lr_label}\")\n",
    "    print(f\"RoBERTa: {roberta_label} (confidence: {roberta_score:.4f})\")\n",
    "    print(\"\\n\" + \"-\"*50)\n",
    "\n",
    "# Test with some examples\n",
    "test_texts = [\n",
    "    \"I absolutely love this product! It's amazing and works perfectly.\",\n",
    "    \"This is the worst experience ever. I'm never coming back.\",\n",
    "    \"The weather is nice today, but I'm feeling kind of tired.\",\n",
    "    \"Just had an awesome lunch with my friends! 😊\",\n",
    "    \"@Twitter This update is confusing and hard to use #frustrated\"\n",
    "]\n",
    "\n",
    "for text in test_texts:\n",
    "    compare_predictions(text)"
   ]
  },
  {
   "cell_type": "markdown",
   "id": "3333d83c",
   "metadata": {},
   "source": [
    "## Save Models for Deployment"
   ]
  },
  {
   "cell_type": "code",
   "execution_count": null,
   "id": "61de36b8",
   "metadata": {},
   "outputs": [
    {
     "name": "stdout",
     "output_type": "stream",
     "text": [
      "All models saved successfully\n"
     ]
    },
    {
     "ename": "",
     "evalue": "",
     "output_type": "error",
     "traceback": [
      "\u001b[1;31mThe Kernel crashed while executing code in the current cell or a previous cell. \n",
      "\u001b[1;31mPlease review the code in the cell(s) to identify a possible cause of the failure. \n",
      "\u001b[1;31mClick <a href='https://aka.ms/vscodeJupyterKernelCrash'>here</a> for more info. \n",
      "\u001b[1;31mView Jupyter <a href='command:jupyter.viewOutput'>log</a> for further details."
     ]
    }
   ],
   "source": [
    "import os\n",
    "\n",
    "# Create directory for saved models\n",
    "os.makedirs('./saved_models', exist_ok=True)\n",
    "\n",
    "# Save classical models\n",
    "joblib.dump(models['Naive Bayes'], './saved_models/naive_bayes_model.pkl')\n",
    "joblib.dump(models['Logistic Regression'], './saved_models/logistic_regression_model.pkl')\n",
    "joblib.dump(tfidf_vectorizer, './saved_models/tfidf_vectorizer.pkl')\n",
    "\n",
    "# Save preprocessing function for deployment\n",
    "joblib.dump(clean_tweet, './saved_models/tweet_cleaner.pkl')\n",
    "\n",
    "# Save RoBERTa model\n",
    "roberta_path = './saved_models/roberta_model'\n",
    "trainer.model.save_pretrained(roberta_path)\n",
    "tokenizer.save_pretrained(roberta_path)\n",
    "\n",
    "print(\"All models saved successfully\")"
   ]
  }
 ],
 "metadata": {
  "kernelspec": {
   "display_name": "base",
   "language": "python",
   "name": "python3"
  },
  "language_info": {
   "codemirror_mode": {
    "name": "ipython",
    "version": 3
   },
   "file_extension": ".py",
   "mimetype": "text/x-python",
   "name": "python",
   "nbconvert_exporter": "python",
   "pygments_lexer": "ipython3",
   "version": "3.12.7"
  }
 },
 "nbformat": 4,
 "nbformat_minor": 5
}
