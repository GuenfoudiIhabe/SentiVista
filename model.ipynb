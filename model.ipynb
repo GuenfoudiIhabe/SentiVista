{
 "cells": [
  {
   "cell_type": "markdown",
   "metadata": {},
   "source": [
    "# Import Libraries and Setup\n"
   ]
  },
  {
   "cell_type": "code",
   "execution_count": null,
   "metadata": {},
   "outputs": [
    {
     "name": "stderr",
     "output_type": "stream",
     "text": [
      "[nltk_data] Downloading package stopwords to\n",
      "[nltk_data]     C:\\Users\\queri\\AppData\\Roaming\\nltk_data...\n",
      "[nltk_data]   Package stopwords is already up-to-date!\n",
      "[nltk_data] Downloading package punkt to\n",
      "[nltk_data]     C:\\Users\\queri\\AppData\\Roaming\\nltk_data...\n",
      "[nltk_data]   Package punkt is already up-to-date!\n"
     ]
    },
    {
     "data": {
      "text/plain": [
       "True"
      ]
     },
     "execution_count": 31,
     "metadata": {},
     "output_type": "execute_result"
    }
   ],
   "source": [
    "import pandas as pd\n",
    "import numpy as np\n",
    "import matplotlib.pyplot as plt\n",
    "import seaborn as sns\n",
    "import nltk\n",
    "from sklearn.model_selection import train_test_split\n",
    "from sklearn.feature_extraction.text import CountVectorizer, TfidfVectorizer\n",
    "from sklearn.naive_bayes import MultinomialNB\n",
    "from sklearn.metrics import accuracy_score, precision_score, recall_score, f1_score\n",
    "\n",
    "nltk.download('stopwords')\n",
    "nltk.download('punkt')"
   ]
  },
  {
   "cell_type": "markdown",
   "metadata": {},
   "source": [
    "# Data Preprocessing\n",
    "Clean tweets by removing URLs, mentions, special characters, and stopwords. Implement tokenization, stemming/lemmatization, and handle emojis."
   ]
  },
  {
   "cell_type": "code",
   "execution_count": null,
   "metadata": {},
   "outputs": [
    {
     "name": "stdout",
     "output_type": "stream",
     "text": [
      "Requirement already satisfied: emoji in c:\\users\\queri\\anaconda3\\lib\\site-packages (2.14.1)\n",
      "Note: you may need to restart the kernel to use updated packages.\n"
     ]
    },
    {
     "name": "stderr",
     "output_type": "stream",
     "text": [
      "[nltk_data] Downloading package wordnet to\n",
      "[nltk_data]     C:\\Users\\queri\\AppData\\Roaming\\nltk_data...\n",
      "[nltk_data]   Package wordnet is already up-to-date!\n",
      "[nltk_data] Downloading package stopwords to\n",
      "[nltk_data]     C:\\Users\\queri\\AppData\\Roaming\\nltk_data...\n",
      "[nltk_data]   Package stopwords is already up-to-date!\n"
     ]
    },
    {
     "name": "stdout",
     "output_type": "stream",
     "text": [
      "Columns in the dataset: ['0', '1467810369', 'Mon Apr 06 22:19:45 PDT 2009', 'NO_QUERY', '_TheSpecialOne_', \"@switchfoot http://twitpic.com/2y1zl - Awww, that's a bummer.  You shoulda got David Carr of Third Day to do it. ;D\"]\n"
     ]
    },
    {
     "data": {
      "text/html": [
       "<div>\n",
       "<style scoped>\n",
       "    .dataframe tbody tr th:only-of-type {\n",
       "        vertical-align: middle;\n",
       "    }\n",
       "\n",
       "    .dataframe tbody tr th {\n",
       "        vertical-align: top;\n",
       "    }\n",
       "\n",
       "    .dataframe thead th {\n",
       "        text-align: right;\n",
       "    }\n",
       "</style>\n",
       "<table border=\"1\" class=\"dataframe\">\n",
       "  <thead>\n",
       "    <tr style=\"text-align: right;\">\n",
       "      <th></th>\n",
       "      <th>text</th>\n",
       "      <th>cleaned_text</th>\n",
       "    </tr>\n",
       "  </thead>\n",
       "  <tbody>\n",
       "    <tr>\n",
       "      <th>0</th>\n",
       "      <td>is upset that he can't update his Facebook by ...</td>\n",
       "      <td>upset updat facebook text might cri result sch...</td>\n",
       "    </tr>\n",
       "    <tr>\n",
       "      <th>1</th>\n",
       "      <td>@Kenichan I dived many times for the ball. Man...</td>\n",
       "      <td>dive mani time ball manag save rest go bound</td>\n",
       "    </tr>\n",
       "    <tr>\n",
       "      <th>2</th>\n",
       "      <td>my whole body feels itchy and like its on fire</td>\n",
       "      <td>whole bodi feel itchi like fire</td>\n",
       "    </tr>\n",
       "    <tr>\n",
       "      <th>3</th>\n",
       "      <td>@nationwideclass no, it's not behaving at all....</td>\n",
       "      <td>behav mad see</td>\n",
       "    </tr>\n",
       "    <tr>\n",
       "      <th>4</th>\n",
       "      <td>@Kwesidei not the whole crew</td>\n",
       "      <td>whole crew</td>\n",
       "    </tr>\n",
       "  </tbody>\n",
       "</table>\n",
       "</div>"
      ],
      "text/plain": [
       "                                                text  \\\n",
       "0  is upset that he can't update his Facebook by ...   \n",
       "1  @Kenichan I dived many times for the ball. Man...   \n",
       "2    my whole body feels itchy and like its on fire    \n",
       "3  @nationwideclass no, it's not behaving at all....   \n",
       "4                      @Kwesidei not the whole crew    \n",
       "\n",
       "                                        cleaned_text  \n",
       "0  upset updat facebook text might cri result sch...  \n",
       "1       dive mani time ball manag save rest go bound  \n",
       "2                    whole bodi feel itchi like fire  \n",
       "3                                      behav mad see  \n",
       "4                                         whole crew  "
      ]
     },
     "execution_count": 36,
     "metadata": {},
     "output_type": "execute_result"
    }
   ],
   "source": [
    "# Data Preprocessing\n",
    "\n",
    "import re  # For regular expressions\n",
    "from nltk.corpus import stopwords  # For stopwords\n",
    "from nltk.stem import PorterStemmer  # For stemming\n",
    "from nltk.stem import WordNetLemmatizer  # For lemmatization\n",
    "%pip install emoji\n",
    "import emoji  \n",
    "\n",
    "nltk.download('wordnet')\n",
    "nltk.download('stopwords')\n",
    "\n",
    "stop_words = set(stopwords.words('english'))\n",
    "stemmer = PorterStemmer()\n",
    "lemmatizer = WordNetLemmatizer()\n",
    "\n",
    "def clean_tweet(tweet):\n",
    "    tweet = re.sub(r'http\\S+|www\\S+|https\\S+', '', tweet, flags=re.MULTILINE)\n",
    "    tweet = re.sub(r'@\\w+', '', tweet)\n",
    "    tweet = re.sub(r'\\W', ' ', tweet)\n",
    "    tweet = re.sub(r'\\d', '', tweet)\n",
    "    tweet = re.sub(r'\\s+', ' ', tweet).strip()\n",
    "    tokens = tweet.split()\n",
    "    tokens = [lemmatizer.lemmatize(stemmer.stem(word)) for word in tokens if word.lower() not in stop_words]\n",
    "    tweet = ' '.join(tokens)\n",
    "    return tweet\n",
    "\n",
    "df = pd.read_csv('sentiment140.csv', encoding='ISO-8859-1')\n",
    "print(\"Columns in the dataset:\", df.columns.tolist())\n",
    "\n",
    "df.columns = ['target', 'id', 'date', 'flag', 'user', 'text']\n",
    "\n",
    "df['cleaned_text'] = df['text'].apply(clean_tweet)\n",
    "\n",
    "df[['text', 'cleaned_text']].head()"
   ]
  },
  {
   "cell_type": "markdown",
   "metadata": {},
   "source": [
    "# Feature Engineering\n",
    "Convert text to numerical features using techniques like TF-IDF, Count Vectorization, or word embeddings. Extract additional features like tweet length, hashtag count, etc."
   ]
  },
  {
   "cell_type": "code",
   "execution_count": null,
   "metadata": {},
   "outputs": [
    {
     "data": {
      "text/plain": [
       "(1599999, 10003)"
      ]
     },
     "execution_count": 37,
     "metadata": {},
     "output_type": "execute_result"
    }
   ],
   "source": [
    "\n",
    "tfidf_vectorizer = TfidfVectorizer(max_features=10000)\n",
    "X_tfidf = tfidf_vectorizer.fit_transform(df['cleaned_text'])\n",
    "\n",
    "count_vectorizer = CountVectorizer(max_features=10000)\n",
    "X_count = count_vectorizer.fit_transform(df['cleaned_text'])\n",
    "\n",
    "df['hashtag_count'] = df['text'].apply(lambda x: len([word for word in x.split() if word.startswith('#')]))\n",
    "df['mention_count'] = df['text'].apply(lambda x: len([word for word in x.split() if word.startswith('@')]))\n",
    "df['tweet_length'] = df['text'].apply(len)\n",
    "\n",
    "from scipy.sparse import hstack\n",
    "\n",
    "X_additional_features = df[['tweet_length', 'hashtag_count', 'mention_count']].values\n",
    "X_combined = hstack([X_tfidf, X_additional_features])\n",
    "\n",
    "X_combined.shape"
   ]
  },
  {
   "cell_type": "markdown",
   "metadata": {},
   "source": [
    "# Building the Baseline Model\n",
    "Implement and train simple classification models (Naive Bayes, Logistic Regression) as baseline. Create train/validation/test splits and establish performance benchmarks."
   ]
  },
  {
   "cell_type": "code",
   "execution_count": null,
   "metadata": {},
   "outputs": [
    {
     "name": "stdout",
     "output_type": "stream",
     "text": [
      "Unique values in target column: [0 4]\n",
      "Training data shape: (1279999, 10003), Testing data shape: (320000, 10003)\n"
     ]
    },
    {
     "name": "stderr",
     "output_type": "stream",
     "text": [
      "Training Naive Bayes: 100%|██████████| 1/1 [00:00<00:00,  5.96it/s]\n",
      "Training Logistic Regression: 100%|██████████| 1/1 [00:11<00:00, 11.42s/it]\n"
     ]
    },
    {
     "name": "stdout",
     "output_type": "stream",
     "text": [
      "Naive Bayes Classifier - Accuracy: 0.7560, Precision: 0.7563, Recall: 0.7577, F1 Score: 0.7570\n",
      "Logistic Regression - Accuracy: 0.7741, Precision: 0.7645, Recall: 0.7944, F1 Score: 0.7792\n"
     ]
    },
    {
     "data": {
      "text/plain": [
       "{'Naive Bayes': {'Accuracy': 0.756003125,\n",
       "  'Precision': 0.756294891328006,\n",
       "  'Recall': 0.7577037618531395,\n",
       "  'F1 Score': 0.7569986710694623},\n",
       " 'Logistic Regression': {'Accuracy': 0.774140625,\n",
       "  'Precision': 0.7644925146738772,\n",
       "  'Recall': 0.7944375911180891,\n",
       "  'F1 Score': 0.7791774493658703}}"
      ]
     },
     "execution_count": 39,
     "metadata": {},
     "output_type": "execute_result"
    }
   ],
   "source": [
    "from tqdm import tqdm\n",
    "from sklearn.linear_model import LogisticRegression\n",
    "\n",
    "print(f\"Unique values in target column: {df['target'].unique()}\")\n",
    "\n",
    "if 4 in df['target'].unique():\n",
    "    positive_label = 4\n",
    "else:\n",
    "    positive_label = 1\n",
    "\n",
    "X_train, X_test, y_train, y_test = train_test_split(X_combined, df['target'], test_size=0.2, random_state=42)\n",
    "\n",
    "print(f\"Training data shape: {X_train.shape}, Testing data shape: {X_test.shape}\")\n",
    "\n",
    "nb_classifier = MultinomialNB()\n",
    "with tqdm(total=1, desc=\"Training Naive Bayes\") as pbar:\n",
    "    nb_classifier.fit(X_train, y_train)\n",
    "    pbar.update(1)\n",
    "\n",
    "lr_classifier = LogisticRegression(max_iter=2000, solver='liblinear')\n",
    "with tqdm(total=1, desc=\"Training Logistic Regression\") as pbar:\n",
    "    lr_classifier.fit(X_train, y_train)\n",
    "    pbar.update(1)\n",
    "\n",
    "y_test_pred_nb = nb_classifier.predict(X_test)\n",
    "y_test_pred_lr = lr_classifier.predict(X_test)\n",
    "\n",
    "nb_accuracy = accuracy_score(y_test, y_test_pred_nb)\n",
    "nb_precision = precision_score(y_test, y_test_pred_nb, pos_label=positive_label)\n",
    "nb_recall = recall_score(y_test, y_test_pred_nb, pos_label=positive_label)\n",
    "nb_f1 = f1_score(y_test, y_test_pred_nb, pos_label=positive_label)\n",
    "\n",
    "lr_accuracy = accuracy_score(y_test, y_test_pred_lr)\n",
    "lr_precision = precision_score(y_test, y_test_pred_lr, pos_label=positive_label)\n",
    "lr_recall = recall_score(y_test, y_test_pred_lr, pos_label=positive_label)\n",
    "lr_f1 = f1_score(y_test, y_test_pred_lr, pos_label=positive_label)\n",
    "\n",
    "print(f\"Naive Bayes Classifier - Accuracy: {nb_accuracy:.4f}, Precision: {nb_precision:.4f}, Recall: {nb_recall:.4f}, F1 Score: {nb_f1:.4f}\")\n",
    "print(f\"Logistic Regression - Accuracy: {lr_accuracy:.4f}, Precision: {lr_precision:.4f}, Recall: {lr_recall:.4f}, F1 Score: {lr_f1:.4f}\")\n",
    "\n",
    "baseline_performance = {\n",
    "    'Naive Bayes': {\n",
    "        'Accuracy': nb_accuracy,\n",
    "        'Precision': nb_precision,\n",
    "        'Recall': nb_recall,\n",
    "        'F1 Score': nb_f1\n",
    "    },\n",
    "    'Logistic Regression': {\n",
    "        'Accuracy': lr_accuracy,\n",
    "        'Precision': lr_precision,\n",
    "        'Recall': lr_recall,\n",
    "        'F1 Score': lr_f1\n",
    "    }\n",
    "}\n",
    "\n",
    "baseline_performance\n"
   ]
  },
  {
   "cell_type": "markdown",
   "metadata": {},
   "source": [
    "# Model Evaluation\n",
    "Evaluate models using accuracy, precision, recall, F1-score, and confusion matrices. Implement cross-validation for robust performance estimation."
   ]
  },
  {
   "cell_type": "code",
   "execution_count": null,
   "metadata": {},
   "outputs": [
    {
     "data": {
      "image/png": "[encoded data removed]",
      "text/plain": [
       "<Figure size 1200x500 with 4 Axes>"
      ]
     },
     "metadata": {},
     "output_type": "display_data"
    },
    {
     "name": "stdout",
     "output_type": "stream",
     "text": [
      "Naive Bayes Classification Report:\n",
      "               precision    recall  f1-score   support\n",
      "\n",
      "    Negative       0.76      0.75      0.75    159494\n",
      "    Positive       0.76      0.76      0.76    160506\n",
      "\n",
      "    accuracy                           0.76    320000\n",
      "   macro avg       0.76      0.76      0.76    320000\n",
      "weighted avg       0.76      0.76      0.76    320000\n",
      "\n",
      "Logistic Regression Classification Report:\n",
      "               precision    recall  f1-score   support\n",
      "\n",
      "    Negative       0.78      0.75      0.77    159494\n",
      "    Positive       0.76      0.79      0.78    160506\n",
      "\n",
      "    accuracy                           0.77    320000\n",
      "   macro avg       0.77      0.77      0.77    320000\n",
      "weighted avg       0.77      0.77      0.77    320000\n",
      "\n",
      "Naive Bayes Cross-Validation Accuracy: 0.7496998425073204\n",
      "Logistic Regression Cross-Validation Accuracy: 0.7681217300932972\n"
     ]
    }
   ],
   "source": [
    "\n",
    "from sklearn.metrics import confusion_matrix, classification_report\n",
    "from sklearn.model_selection import cross_val_score\n",
    "\n",
    "y_test_pred_nb = nb_classifier.predict(X_test)\n",
    "nb_confusion_matrix = confusion_matrix(y_test, y_test_pred_nb)\n",
    "nb_classification_report = classification_report(y_test, y_test_pred_nb, target_names=['Negative', 'Positive'])\n",
    "\n",
    "y_test_pred_lr = lr_classifier.predict(X_test)\n",
    "lr_confusion_matrix = confusion_matrix(y_test, y_test_pred_lr)\n",
    "lr_classification_report = classification_report(y_test, y_test_pred_lr, target_names=['Negative', 'Positive'])\n",
    "\n",
    "fig, ax = plt.subplots(1, 2, figsize=(12, 5))\n",
    "sns.heatmap(nb_confusion_matrix, annot=True, fmt='d', cmap='Blues', ax=ax[0])\n",
    "ax[0].set_title('Naive Bayes Confusion Matrix')\n",
    "ax[0].set_xlabel('Predicted')\n",
    "ax[0].set_ylabel('Actual')\n",
    "\n",
    "sns.heatmap(lr_confusion_matrix, annot=True, fmt='d', cmap='Blues', ax=ax[1])\n",
    "ax[1].set_title('Logistic Regression Confusion Matrix')\n",
    "ax[1].set_xlabel('Predicted')\n",
    "ax[1].set_ylabel('Actual')\n",
    "\n",
    "plt.show()\n",
    "\n",
    "print(\"Naive Bayes Classification Report:\\n\", nb_classification_report)\n",
    "print(\"Logistic Regression Classification Report:\\n\", lr_classification_report)\n",
    "\n",
    "nb_cv_scores = cross_val_score(nb_classifier, X_combined, df['target'], cv=5, scoring='accuracy')\n",
    "print(f\"Naive Bayes Cross-Validation Accuracy: {np.mean(nb_cv_scores)}\")\n",
    "\n",
    "lr_cv_scores = cross_val_score(lr_classifier, X_combined, df['target'], cv=5, scoring='accuracy')\n",
    "print(f\"Logistic Regression Cross-Validation Accuracy: {np.mean(lr_cv_scores)}\")"
   ]
  },
  {
   "cell_type": "markdown",
   "metadata": {},
   "source": [
    "# Deployment Preparation\n",
    "Save the trained model for production use. Create sample code for batch prediction and potentially real-time inference."
   ]
  },
  {
   "cell_type": "code",
   "execution_count": null,
   "metadata": {},
   "outputs": [
    {
     "name": "stdout",
     "output_type": "stream",
     "text": [
      "Batch predictions: [4 0]\n"
     ]
    }
   ],
   "source": [
    "import joblib\n",
    "import re\n",
    "import numpy as np\n",
    "from scipy.sparse import hstack\n",
    "\n",
    "joblib.dump(nb_classifier, 'sentiment_model_nb.pkl')\n",
    "joblib.dump(tfidf_vectorizer, 'tfidf_vectorizer.pkl')\n",
    "joblib.dump(lr_classifier, 'sentiment_model_lr.pkl')\n",
    "\n",
    "def batch_predict(texts, model_path='sentiment_model_nb.pkl', vectorizer_path='tfidf_vectorizer.pkl'):\n",
    "    \"\"\"\n",
    "    Loads the saved model and TF-IDF vectorizer, cleans the texts,\n",
    "    transforms them into numerical features, and returns the sentiment predictions.\n",
    "    \"\"\"\n",
    "    model = joblib.load(model_path)\n",
    "    vectorizer = joblib.load(vectorizer_path)\n",
    "    \n",
    "    cleaned_texts = [clean_tweet(text) for text in texts]\n",
    "    \n",
    "    X_tfidf = vectorizer.transform(cleaned_texts)\n",
    "    \n",
    "    tweet_lengths = [len(text) for text in texts]\n",
    "    hashtag_counts = [len([word for word in text.split() if word.startswith('#')]) for text in texts]\n",
    "    mention_counts = [len([word for word in text.split() if word.startswith('@')]) for text in texts]\n",
    "    \n",
    "    X_additional_features = np.array([tweet_lengths, hashtag_counts, mention_counts]).T\n",
    "    X_combined = hstack([X_tfidf, X_additional_features])\n",
    "    \n",
    "    predictions = model.predict(X_combined)\n",
    "    return predictions\n",
    "\n",
    "sample_texts = [\"I love this product!\", \"This is the worst experience ever.\"]\n",
    "batch_predictions = batch_predict(sample_texts)\n",
    "print(\"Batch predictions:\", batch_predictions)"
   ]
  }
 ],
 "metadata": {
  "kernelspec": {
   "display_name": "base",
   "language": "python",
   "name": "python3"
  },
  "language_info": {
   "codemirror_mode": {
    "name": "ipython",
    "version": 3
   },
   "file_extension": ".py",
   "mimetype": "text/x-python",
   "name": "python",
   "nbconvert_exporter": "python",
   "pygments_lexer": "ipython3",
   "version": "3.12.7"
  }
 },
 "nbformat": 4,
 "nbformat_minor": 2
}
