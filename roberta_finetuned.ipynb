{
 "cells": [
  {
   "cell_type": "markdown",
   "id": "7eea83c9",
   "metadata": {},
   "source": [
    "# SentiVista: Comparing Classical ML and Transformer-based Models\n",
    "\n",
    "This notebook implements and compares different sentiment analysis approaches:\n",
    "1. Classical ML models (Naive Bayes, Logistic Regression)\n",
    "2. Fine-tuned RoBERTa transformer model\n",
    "\n",
    "All models are evaluated on the Sentiment140 dataset using the same metrics for fair comparison."
   ]
  },
  {
   "cell_type": "markdown",
   "id": "b8382b7b",
   "metadata": {},
   "source": [
    "## Setup and Import Libraries"
   ]
  },
  {
   "cell_type": "code",
   "execution_count": 1,
   "id": "ce73bc89",
   "metadata": {},
   "outputs": [
    {
     "name": "stdout",
     "output_type": "stream",
     "text": [
      "Requirement already satisfied: datasets in c:\\users\\queri\\anaconda3\\lib\\site-packages (3.1.0)\n",
      "Requirement already satisfied: emoji in c:\\users\\queri\\anaconda3\\lib\\site-packages (2.14.1)\n",
      "Requirement already satisfied: evaluate in c:\\users\\queri\\anaconda3\\lib\\site-packages (0.4.3)\n",
      "Requirement already satisfied: transformers==4.40.0 in c:\\users\\queri\\anaconda3\\lib\\site-packages (4.40.0)\n",
      "Requirement already satisfied: tqdm in c:\\users\\queri\\anaconda3\\lib\\site-packages (4.66.5)\n",
      "Requirement already satisfied: matplotlib in c:\\users\\queri\\anaconda3\\lib\\site-packages (3.9.2)\n",
      "Requirement already satisfied: seaborn in c:\\users\\queri\\anaconda3\\lib\\site-packages (0.13.2)\n",
      "Requirement already satisfied: joblib in c:\\users\\queri\\anaconda3\\lib\\site-packages (1.4.2)\n",
      "Requirement already satisfied: filelock in c:\\users\\queri\\anaconda3\\lib\\site-packages (from transformers==4.40.0) (3.16.1)\n",
      "Requirement already satisfied: huggingface-hub<1.0,>=0.19.3 in c:\\users\\queri\\anaconda3\\lib\\site-packages (from transformers==4.40.0) (0.30.2)\n",
      "Requirement already satisfied: numpy>=1.17 in c:\\users\\queri\\anaconda3\\lib\\site-packages (from transformers==4.40.0) (1.26.4)\n",
      "Requirement already satisfied: packaging>=20.0 in c:\\users\\queri\\anaconda3\\lib\\site-packages (from transformers==4.40.0) (24.1)\n",
      "Requirement already satisfied: pyyaml>=5.1 in c:\\users\\queri\\anaconda3\\lib\\site-packages (from transformers==4.40.0) (6.0.1)\n",
      "Requirement already satisfied: regex!=2019.12.17 in c:\\users\\queri\\anaconda3\\lib\\site-packages (from transformers==4.40.0) (2024.9.11)\n",
      "Requirement already satisfied: requests in c:\\users\\queri\\anaconda3\\lib\\site-packages (from transformers==4.40.0) (2.32.3)\n",
      "Requirement already satisfied: tokenizers<0.20,>=0.19 in c:\\users\\queri\\anaconda3\\lib\\site-packages (from transformers==4.40.0) (0.19.1)\n",
      "Requirement already satisfied: safetensors>=0.4.1 in c:\\users\\queri\\anaconda3\\lib\\site-packages (from transformers==4.40.0) (0.5.3)\n",
      "Requirement already satisfied: pyarrow>=15.0.0 in c:\\users\\queri\\anaconda3\\lib\\site-packages (from datasets) (16.1.0)\n",
      "Requirement already satisfied: dill<0.3.9,>=0.3.0 in c:\\users\\queri\\anaconda3\\lib\\site-packages (from datasets) (0.3.8)\n",
      "Requirement already satisfied: pandas in c:\\users\\queri\\anaconda3\\lib\\site-packages (from datasets) (2.2.2)\n",
      "Requirement already satisfied: xxhash in c:\\users\\queri\\anaconda3\\lib\\site-packages (from datasets) (3.5.0)\n",
      "Requirement already satisfied: multiprocess<0.70.17 in c:\\users\\queri\\anaconda3\\lib\\site-packages (from datasets) (0.70.16)\n",
      "Requirement already satisfied: fsspec<=2024.9.0,>=2023.1.0 in c:\\users\\queri\\anaconda3\\lib\\site-packages (from fsspec[http]<=2024.9.0,>=2023.1.0->datasets) (2024.6.1)\n",
      "Requirement already satisfied: aiohttp in c:\\users\\queri\\anaconda3\\lib\\site-packages (from datasets) (3.10.5)\n",
      "Requirement already satisfied: colorama in c:\\users\\queri\\anaconda3\\lib\\site-packages (from tqdm) (0.4.6)\n",
      "Requirement already satisfied: contourpy>=1.0.1 in c:\\users\\queri\\anaconda3\\lib\\site-packages (from matplotlib) (1.2.0)\n",
      "Requirement already satisfied: cycler>=0.10 in c:\\users\\queri\\anaconda3\\lib\\site-packages (from matplotlib) (0.11.0)\n",
      "Requirement already satisfied: fonttools>=4.22.0 in c:\\users\\queri\\anaconda3\\lib\\site-packages (from matplotlib) (4.51.0)\n",
      "Requirement already satisfied: kiwisolver>=1.3.1 in c:\\users\\queri\\anaconda3\\lib\\site-packages (from matplotlib) (1.4.4)\n",
      "Requirement already satisfied: pillow>=8 in c:\\users\\queri\\anaconda3\\lib\\site-packages (from matplotlib) (10.4.0)\n",
      "Requirement already satisfied: pyparsing>=2.3.1 in c:\\users\\queri\\anaconda3\\lib\\site-packages (from matplotlib) (3.1.2)\n",
      "Requirement already satisfied: python-dateutil>=2.7 in c:\\users\\queri\\anaconda3\\lib\\site-packages (from matplotlib) (2.9.0.post0)\n",
      "Requirement already satisfied: aiohappyeyeballs>=2.3.0 in c:\\users\\queri\\anaconda3\\lib\\site-packages (from aiohttp->datasets) (2.4.0)\n",
      "Requirement already satisfied: aiosignal>=1.1.2 in c:\\users\\queri\\anaconda3\\lib\\site-packages (from aiohttp->datasets) (1.2.0)\n",
      "Requirement already satisfied: attrs>=17.3.0 in c:\\users\\queri\\anaconda3\\lib\\site-packages (from aiohttp->datasets) (23.1.0)\n",
      "Requirement already satisfied: frozenlist>=1.1.1 in c:\\users\\queri\\anaconda3\\lib\\site-packages (from aiohttp->datasets) (1.4.0)\n",
      "Requirement already satisfied: multidict<7.0,>=4.5 in c:\\users\\queri\\anaconda3\\lib\\site-packages (from aiohttp->datasets) (6.0.4)\n",
      "Requirement already satisfied: yarl<2.0,>=1.0 in c:\\users\\queri\\anaconda3\\lib\\site-packages (from aiohttp->datasets) (1.11.0)\n",
      "Requirement already satisfied: typing-extensions>=3.7.4.3 in c:\\users\\queri\\anaconda3\\lib\\site-packages (from huggingface-hub<1.0,>=0.19.3->transformers==4.40.0) (4.13.1)\n",
      "Requirement already satisfied: pytz>=2020.1 in c:\\users\\queri\\anaconda3\\lib\\site-packages (from pandas->datasets) (2024.1)\n",
      "Requirement already satisfied: tzdata>=2022.7 in c:\\users\\queri\\anaconda3\\lib\\site-packages (from pandas->datasets) (2023.3)\n",
      "Requirement already satisfied: six>=1.5 in c:\\users\\queri\\anaconda3\\lib\\site-packages (from python-dateutil>=2.7->matplotlib) (1.16.0)\n",
      "Requirement already satisfied: charset-normalizer<4,>=2 in c:\\users\\queri\\anaconda3\\lib\\site-packages (from requests->transformers==4.40.0) (3.3.2)\n",
      "Requirement already satisfied: idna<4,>=2.5 in c:\\users\\queri\\anaconda3\\lib\\site-packages (from requests->transformers==4.40.0) (3.7)\n",
      "Requirement already satisfied: urllib3<3,>=1.21.1 in c:\\users\\queri\\anaconda3\\lib\\site-packages (from requests->transformers==4.40.0) (2.2.3)\n",
      "Requirement already satisfied: certifi>=2017.4.17 in c:\\users\\queri\\anaconda3\\lib\\site-packages (from requests->transformers==4.40.0) (2024.12.14)\n",
      "Setup complete!\n",
      "Setup complete!\n"
     ]
    },
    {
     "name": "stderr",
     "output_type": "stream",
     "text": [
      "[nltk_data] Downloading package stopwords to\n",
      "[nltk_data]     C:\\Users\\queri\\AppData\\Roaming\\nltk_data...\n",
      "[nltk_data]   Package stopwords is already up-to-date!\n",
      "[nltk_data] Downloading package punkt to\n",
      "[nltk_data]     C:\\Users\\queri\\AppData\\Roaming\\nltk_data...\n",
      "[nltk_data]   Package punkt is already up-to-date!\n",
      "[nltk_data] Downloading package wordnet to\n",
      "[nltk_data]     C:\\Users\\queri\\AppData\\Roaming\\nltk_data...\n",
      "[nltk_data]   Package wordnet is already up-to-date!\n"
     ]
    }
   ],
   "source": [
    "# Install required libraries\n",
    "!pip install datasets emoji evaluate transformers==4.40.0 tqdm matplotlib seaborn joblib\n",
    "\n",
    "# Import common libraries\n",
    "import pandas as pd\n",
    "import numpy as np\n",
    "import matplotlib.pyplot as plt\n",
    "import seaborn as sns\n",
    "import re\n",
    "import nltk\n",
    "from tqdm import tqdm\n",
    "import joblib\n",
    "import emoji\n",
    "import torch\n",
    "\n",
    "# NLP and ML libraries\n",
    "from nltk.corpus import stopwords\n",
    "from nltk.stem import PorterStemmer, WordNetLemmatizer\n",
    "from sklearn.model_selection import train_test_split\n",
    "from sklearn.feature_extraction.text import CountVectorizer, TfidfVectorizer\n",
    "from sklearn.naive_bayes import MultinomialNB\n",
    "from sklearn.linear_model import LogisticRegression\n",
    "from sklearn.metrics import accuracy_score, precision_score, recall_score, f1_score\n",
    "from sklearn.metrics import confusion_matrix, classification_report\n",
    "\n",
    "# Transformer-specific imports\n",
    "from transformers import AutoTokenizer, AutoModelForSequenceClassification\n",
    "from transformers import TrainingArguments, Trainer\n",
    "from datasets import Dataset\n",
    "import evaluate\n",
    "\n",
    "# Download NLTK resources\n",
    "nltk.download('stopwords')\n",
    "nltk.download('punkt')\n",
    "nltk.download('wordnet')\n",
    "\n",
    "print(\"Setup complete!\")"
   ]
  },
  {
   "cell_type": "markdown",
   "id": "0f38912d",
   "metadata": {},
   "source": [
    "## Data Loading and Preprocessing"
   ]
  },
  {
   "cell_type": "code",
   "execution_count": 2,
   "id": "13cfd01e",
   "metadata": {},
   "outputs": [
    {
     "name": "stdout",
     "output_type": "stream",
     "text": [
      "Dataset shape: (1599999, 6)\n",
      "Target distribution:\n",
      "target\n",
      "4    800000\n",
      "0    799999\n",
      "Name: count, dtype: int64\n"
     ]
    },
    {
     "data": {
      "text/html": [
       "<div>\n",
       "<style scoped>\n",
       "    .dataframe tbody tr th:only-of-type {\n",
       "        vertical-align: middle;\n",
       "    }\n",
       "\n",
       "    .dataframe tbody tr th {\n",
       "        vertical-align: top;\n",
       "    }\n",
       "\n",
       "    .dataframe thead th {\n",
       "        text-align: right;\n",
       "    }\n",
       "</style>\n",
       "<table border=\"1\" class=\"dataframe\">\n",
       "  <thead>\n",
       "    <tr style=\"text-align: right;\">\n",
       "      <th></th>\n",
       "      <th>target</th>\n",
       "      <th>id</th>\n",
       "      <th>date</th>\n",
       "      <th>flag</th>\n",
       "      <th>user</th>\n",
       "      <th>text</th>\n",
       "    </tr>\n",
       "  </thead>\n",
       "  <tbody>\n",
       "    <tr>\n",
       "      <th>0</th>\n",
       "      <td>0</td>\n",
       "      <td>1467810672</td>\n",
       "      <td>Mon Apr 06 22:19:49 PDT 2009</td>\n",
       "      <td>NO_QUERY</td>\n",
       "      <td>scotthamilton</td>\n",
       "      <td>is upset that he can't update his Facebook by ...</td>\n",
       "    </tr>\n",
       "    <tr>\n",
       "      <th>1</th>\n",
       "      <td>0</td>\n",
       "      <td>1467810917</td>\n",
       "      <td>Mon Apr 06 22:19:53 PDT 2009</td>\n",
       "      <td>NO_QUERY</td>\n",
       "      <td>mattycus</td>\n",
       "      <td>@Kenichan I dived many times for the ball. Man...</td>\n",
       "    </tr>\n",
       "    <tr>\n",
       "      <th>2</th>\n",
       "      <td>0</td>\n",
       "      <td>1467811184</td>\n",
       "      <td>Mon Apr 06 22:19:57 PDT 2009</td>\n",
       "      <td>NO_QUERY</td>\n",
       "      <td>ElleCTF</td>\n",
       "      <td>my whole body feels itchy and like its on fire</td>\n",
       "    </tr>\n",
       "    <tr>\n",
       "      <th>3</th>\n",
       "      <td>0</td>\n",
       "      <td>1467811193</td>\n",
       "      <td>Mon Apr 06 22:19:57 PDT 2009</td>\n",
       "      <td>NO_QUERY</td>\n",
       "      <td>Karoli</td>\n",
       "      <td>@nationwideclass no, it's not behaving at all....</td>\n",
       "    </tr>\n",
       "    <tr>\n",
       "      <th>4</th>\n",
       "      <td>0</td>\n",
       "      <td>1467811372</td>\n",
       "      <td>Mon Apr 06 22:20:00 PDT 2009</td>\n",
       "      <td>NO_QUERY</td>\n",
       "      <td>joy_wolf</td>\n",
       "      <td>@Kwesidei not the whole crew</td>\n",
       "    </tr>\n",
       "  </tbody>\n",
       "</table>\n",
       "</div>"
      ],
      "text/plain": [
       "   target          id                          date      flag           user  \\\n",
       "0       0  1467810672  Mon Apr 06 22:19:49 PDT 2009  NO_QUERY  scotthamilton   \n",
       "1       0  1467810917  Mon Apr 06 22:19:53 PDT 2009  NO_QUERY       mattycus   \n",
       "2       0  1467811184  Mon Apr 06 22:19:57 PDT 2009  NO_QUERY        ElleCTF   \n",
       "3       0  1467811193  Mon Apr 06 22:19:57 PDT 2009  NO_QUERY         Karoli   \n",
       "4       0  1467811372  Mon Apr 06 22:20:00 PDT 2009  NO_QUERY       joy_wolf   \n",
       "\n",
       "                                                text  \n",
       "0  is upset that he can't update his Facebook by ...  \n",
       "1  @Kenichan I dived many times for the ball. Man...  \n",
       "2    my whole body feels itchy and like its on fire   \n",
       "3  @nationwideclass no, it's not behaving at all....  \n",
       "4                      @Kwesidei not the whole crew   "
      ]
     },
     "execution_count": 2,
     "metadata": {},
     "output_type": "execute_result"
    }
   ],
   "source": [
    "# Load Sentiment140 Dataset\n",
    "df = pd.read_csv('sentiment140.csv', encoding='ISO-8859-1')\n",
    "df.columns = ['target', 'id', 'date', 'flag', 'user', 'text']\n",
    "\n",
    "# Display dataset info\n",
    "print(f\"Dataset shape: {df.shape}\")\n",
    "print(f\"Target distribution:\\n{df['target'].value_counts()}\")\n",
    "df.head()"
   ]
  },
  {
   "cell_type": "code",
   "execution_count": 3,
   "id": "3dfcec7f",
   "metadata": {},
   "outputs": [
    {
     "name": "stdout",
     "output_type": "stream",
     "text": [
      "Preprocessing text data...\n",
      "Full dataset shape: (1599999, 8)\n",
      "Target distribution:\n",
      "label\n",
      "1    800000\n",
      "0    799999\n",
      "Name: count, dtype: int64\n",
      "Full dataset shape: (1599999, 8)\n",
      "Target distribution:\n",
      "label\n",
      "1    800000\n",
      "0    799999\n",
      "Name: count, dtype: int64\n"
     ]
    },
    {
     "data": {
      "text/html": [
       "<div>\n",
       "<style scoped>\n",
       "    .dataframe tbody tr th:only-of-type {\n",
       "        vertical-align: middle;\n",
       "    }\n",
       "\n",
       "    .dataframe tbody tr th {\n",
       "        vertical-align: top;\n",
       "    }\n",
       "\n",
       "    .dataframe thead th {\n",
       "        text-align: right;\n",
       "    }\n",
       "</style>\n",
       "<table border=\"1\" class=\"dataframe\">\n",
       "  <thead>\n",
       "    <tr style=\"text-align: right;\">\n",
       "      <th></th>\n",
       "      <th>text</th>\n",
       "      <th>cleaned_text</th>\n",
       "      <th>target</th>\n",
       "      <th>label</th>\n",
       "    </tr>\n",
       "  </thead>\n",
       "  <tbody>\n",
       "    <tr>\n",
       "      <th>0</th>\n",
       "      <td>is upset that he can't update his Facebook by ...</td>\n",
       "      <td>upset updat facebook text might cri result sch...</td>\n",
       "      <td>0</td>\n",
       "      <td>0</td>\n",
       "    </tr>\n",
       "    <tr>\n",
       "      <th>1</th>\n",
       "      <td>@Kenichan I dived many times for the ball. Man...</td>\n",
       "      <td>dive mani time ball manag save rest go bound</td>\n",
       "      <td>0</td>\n",
       "      <td>0</td>\n",
       "    </tr>\n",
       "    <tr>\n",
       "      <th>2</th>\n",
       "      <td>my whole body feels itchy and like its on fire</td>\n",
       "      <td>whole bodi feel itchi like fire</td>\n",
       "      <td>0</td>\n",
       "      <td>0</td>\n",
       "    </tr>\n",
       "    <tr>\n",
       "      <th>3</th>\n",
       "      <td>@nationwideclass no, it's not behaving at all....</td>\n",
       "      <td>behav mad see</td>\n",
       "      <td>0</td>\n",
       "      <td>0</td>\n",
       "    </tr>\n",
       "    <tr>\n",
       "      <th>4</th>\n",
       "      <td>@Kwesidei not the whole crew</td>\n",
       "      <td>whole crew</td>\n",
       "      <td>0</td>\n",
       "      <td>0</td>\n",
       "    </tr>\n",
       "  </tbody>\n",
       "</table>\n",
       "</div>"
      ],
      "text/plain": [
       "                                                text  \\\n",
       "0  is upset that he can't update his Facebook by ...   \n",
       "1  @Kenichan I dived many times for the ball. Man...   \n",
       "2    my whole body feels itchy and like its on fire    \n",
       "3  @nationwideclass no, it's not behaving at all....   \n",
       "4                      @Kwesidei not the whole crew    \n",
       "\n",
       "                                        cleaned_text  target  label  \n",
       "0  upset updat facebook text might cri result sch...       0      0  \n",
       "1       dive mani time ball manag save rest go bound       0      0  \n",
       "2                    whole bodi feel itchi like fire       0      0  \n",
       "3                                      behav mad see       0      0  \n",
       "4                                         whole crew       0      0  "
      ]
     },
     "execution_count": 3,
     "metadata": {},
     "output_type": "execute_result"
    }
   ],
   "source": [
    "# Common preprocessing function for both classical and transformer models\n",
    "stop_words = set(stopwords.words('english'))\n",
    "stemmer = PorterStemmer()\n",
    "lemmatizer = WordNetLemmatizer()\n",
    "\n",
    "def clean_tweet(tweet):\n",
    "    tweet = re.sub(r'http\\S+|www\\S+|https\\S+', '', tweet, flags=re.MULTILINE)\n",
    "    tweet = re.sub(r'@\\w+', '', tweet)\n",
    "    tweet = re.sub(r'\\W', ' ', tweet)\n",
    "    tweet = re.sub(r'\\d', '', tweet)\n",
    "    tweet = re.sub(r'\\s+', ' ', tweet).strip()\n",
    "    tokens = tweet.split()\n",
    "    tokens = [lemmatizer.lemmatize(stemmer.stem(word)) for word in tokens if word.lower() not in stop_words]\n",
    "    tweet = ' '.join(tokens)\n",
    "    return tweet\n",
    "\n",
    "# Preprocess the text (this can take some time on the full dataset)\n",
    "print(\"Preprocessing text data...\")\n",
    "df['cleaned_text'] = df['text'].apply(clean_tweet)\n",
    "\n",
    "# Add binary target mapping for RoBERTa (0=negative, 1=positive)\n",
    "def map_target(val):\n",
    "    if val == 0:\n",
    "        return 0  # negative\n",
    "    else:  # val == 4 in original dataset\n",
    "        return 1  # positive\n",
    "\n",
    "df['label'] = df['target'].apply(map_target)\n",
    "\n",
    "# Use the full dataset for training (removing the sampling code)\n",
    "print(f\"Full dataset shape: {df.shape}\")\n",
    "print(f\"Target distribution:\\n{df['label'].value_counts()}\")\n",
    "\n",
    "# Display examples\n",
    "df[['text', 'cleaned_text', 'target', 'label']].head()"
   ]
  },
  {
   "cell_type": "markdown",
   "id": "a4b57ba1",
   "metadata": {},
   "source": [
    "## Common Train-Test Split\n",
    "\n",
    "We'll create a common train-test split that will be used by all models for fair comparison."
   ]
  },
  {
   "cell_type": "code",
   "execution_count": 4,
   "id": "645b976b",
   "metadata": {},
   "outputs": [
    {
     "name": "stdout",
     "output_type": "stream",
     "text": [
      "Train set: (1279999, 8), Test set: (320000, 8)\n",
      "Train label distribution:\n",
      "label\n",
      "1    640000\n",
      "0    639999\n",
      "Name: count, dtype: int64\n",
      "Test label distribution:\n",
      "label\n",
      "0    160000\n",
      "1    160000\n",
      "Name: count, dtype: int64\n"
     ]
    }
   ],
   "source": [
    "# Create a common train/test split for consistent evaluation\n",
    "train_df, test_df = train_test_split(\n",
    "    df, \n",
    "    test_size=0.2, \n",
    "    stratify=df['label'], \n",
    "    random_state=42\n",
    ")\n",
    "\n",
    "print(f\"Train set: {train_df.shape}, Test set: {test_df.shape}\")\n",
    "print(f\"Train label distribution:\\n{train_df['label'].value_counts()}\")\n",
    "print(f\"Test label distribution:\\n{test_df['label'].value_counts()}\")"
   ]
  },
  {
   "cell_type": "markdown",
   "id": "f7c0b23e",
   "metadata": {},
   "source": [
    "## Part 1: Classical ML Models"
   ]
  },
  {
   "cell_type": "markdown",
   "id": "f0c1502a",
   "metadata": {},
   "source": [
    "### Feature Engineering for Classical Models"
   ]
  },
  {
   "cell_type": "code",
   "execution_count": 5,
   "id": "2df367aa",
   "metadata": {},
   "outputs": [
    {
     "name": "stdout",
     "output_type": "stream",
     "text": [
      "Feature matrix shapes - Train: (1279999, 10003), Test: (320000, 10003)\n"
     ]
    }
   ],
   "source": [
    "# TF-IDF Vectorization\n",
    "tfidf_vectorizer = TfidfVectorizer(max_features=10000)\n",
    "X_train_tfidf = tfidf_vectorizer.fit_transform(train_df['cleaned_text'])\n",
    "X_test_tfidf = tfidf_vectorizer.transform(test_df['cleaned_text'])\n",
    "\n",
    "# Additional features\n",
    "train_df['tweet_length'] = train_df['text'].apply(len)\n",
    "train_df['hashtag_count'] = train_df['text'].apply(lambda x: len([word for word in x.split() if word.startswith('#')]))\n",
    "train_df['mention_count'] = train_df['text'].apply(lambda x: len([word for word in x.split() if word.startswith('@')]))\n",
    "\n",
    "test_df['tweet_length'] = test_df['text'].apply(len)\n",
    "test_df['hashtag_count'] = test_df['text'].apply(lambda x: len([word for word in x.split() if word.startswith('#')]))\n",
    "test_df['mention_count'] = test_df['text'].apply(lambda x: len([word for word in x.split() if word.startswith('@')]))\n",
    "\n",
    "# Combine TF-IDF with additional features\n",
    "from scipy.sparse import hstack\n",
    "X_train_additional = train_df[['tweet_length', 'hashtag_count', 'mention_count']].values\n",
    "X_test_additional = test_df[['tweet_length', 'hashtag_count', 'mention_count']].values\n",
    "\n",
    "X_train_combined = hstack([X_train_tfidf, X_train_additional])\n",
    "X_test_combined = hstack([X_test_tfidf, X_test_additional])\n",
    "\n",
    "# Target values\n",
    "y_train_classical = train_df['target']  # Original 0/4 targets for classical models\n",
    "y_test_classical = test_df['target']\n",
    "\n",
    "print(f\"Feature matrix shapes - Train: {X_train_combined.shape}, Test: {X_test_combined.shape}\")"
   ]
  },
  {
   "cell_type": "markdown",
   "id": "9659246a",
   "metadata": {},
   "source": [
    "### Train Classical Models"
   ]
  },
  {
   "cell_type": "code",
   "execution_count": 6,
   "id": "47016d5e",
   "metadata": {},
   "outputs": [
    {
     "name": "stdout",
     "output_type": "stream",
     "text": [
      "Training Naive Bayes on full dataset...\n",
      "Training Logistic Regression on full dataset...\n",
      "Training Logistic Regression on full dataset...\n"
     ]
    },
    {
     "name": "stderr",
     "output_type": "stream",
     "text": [
      "c:\\Users\\queri\\anaconda3\\Lib\\site-packages\\sklearn\\linear_model\\_logistic.py:1271: UserWarning: 'n_jobs' > 1 does not have any effect when 'solver' is set to 'liblinear'. Got 'n_jobs' = 16.\n",
      "  warnings.warn(\n"
     ]
    },
    {
     "name": "stdout",
     "output_type": "stream",
     "text": [
      "Classical models training complete!\n"
     ]
    }
   ],
   "source": [
    "# Define a dictionary to store all models and their results\n",
    "models = {}\n",
    "results = {}\n",
    "\n",
    "# Training classical models on the full dataset might take time\n",
    "print(\"Training Naive Bayes on full dataset...\")\n",
    "nb_model = MultinomialNB()\n",
    "nb_model.fit(X_train_combined, y_train_classical)\n",
    "models['Naive Bayes'] = nb_model\n",
    "\n",
    "# Train Logistic Regression with increased max_iter for convergence on larger dataset\n",
    "print(\"Training Logistic Regression on full dataset...\")\n",
    "lr_model = LogisticRegression(max_iter=2000, solver='liblinear', n_jobs=-1)\n",
    "lr_model.fit(X_train_combined, y_train_classical)\n",
    "models['Logistic Regression'] = lr_model\n",
    "\n",
    "print(\"Classical models training complete!\")"
   ]
  },
  {
   "cell_type": "markdown",
   "id": "2017493b",
   "metadata": {},
   "source": [
    "## Part 2: RoBERTa Transformer Model"
   ]
  },
  {
   "cell_type": "markdown",
   "id": "380d9b95",
   "metadata": {},
   "source": [
    "### Prepare Data for RoBERTa"
   ]
  },
  {
   "cell_type": "code",
   "execution_count": 7,
   "id": "1a8f819e",
   "metadata": {},
   "outputs": [
    {
     "name": "stderr",
     "output_type": "stream",
     "text": [
      "c:\\Users\\queri\\anaconda3\\Lib\\site-packages\\huggingface_hub\\file_download.py:896: FutureWarning: `resume_download` is deprecated and will be removed in version 1.0.0. Downloads always resume when possible. If you want to force a new download, use `force_download=True`.\n",
      "  warnings.warn(\n"
     ]
    },
    {
     "data": {
      "application/vnd.jupyter.widget-view+json": {
       "model_id": "f03ee0afc431422aa9aa7d4c18ae4c78",
       "version_major": 2,
       "version_minor": 0
      },
      "text/plain": [
       "Map:   0%|          | 0/1279999 [00:00<?, ? examples/s]"
      ]
     },
     "metadata": {},
     "output_type": "display_data"
    },
    {
     "data": {
      "application/vnd.jupyter.widget-view+json": {
       "model_id": "fc2e275382404c0799796608862a6a3f",
       "version_major": 2,
       "version_minor": 0
      },
      "text/plain": [
       "Map:   0%|          | 0/320000 [00:00<?, ? examples/s]"
      ]
     },
     "metadata": {},
     "output_type": "display_data"
    },
    {
     "name": "stdout",
     "output_type": "stream",
     "text": [
      "Data preparation for RoBERTa complete!\n"
     ]
    }
   ],
   "source": [
    "# Set up tokenizer for RoBERTa\n",
    "model_name = \"cardiffnlp/twitter-roberta-base-sentiment\"\n",
    "tokenizer = AutoTokenizer.from_pretrained(model_name)\n",
    "\n",
    "def tokenize_function(examples):\n",
    "    return tokenizer(examples['cleaned_text'], truncation=True, padding='max_length', max_length=128)\n",
    "\n",
    "# Convert to HuggingFace datasets\n",
    "train_dataset = Dataset.from_pandas(train_df[['cleaned_text', 'label']].reset_index(drop=True))\n",
    "test_dataset = Dataset.from_pandas(test_df[['cleaned_text', 'label']].reset_index(drop=True))\n",
    "\n",
    "# Tokenize the datasets\n",
    "train_dataset = train_dataset.map(tokenize_function, batched=True)\n",
    "test_dataset = test_dataset.map(tokenize_function, batched=True)\n",
    "\n",
    "# Set format for PyTorch\n",
    "train_dataset.set_format(type='torch', columns=['input_ids', 'attention_mask', 'label'])\n",
    "test_dataset.set_format(type='torch', columns=['input_ids', 'attention_mask', 'label'])\n",
    "\n",
    "print(\"Data preparation for RoBERTa complete!\")"
   ]
  },
  {
   "cell_type": "markdown",
   "id": "b7b6753d",
   "metadata": {},
   "source": [
    "### Train RoBERTa Model"
   ]
  },
  {
   "cell_type": "code",
   "execution_count": null,
   "id": "ba316d46",
   "metadata": {},
   "outputs": [
    {
     "name": "stderr",
     "output_type": "stream",
     "text": [
      "c:\\Users\\queri\\anaconda3\\Lib\\site-packages\\huggingface_hub\\file_download.py:896: FutureWarning: `resume_download` is deprecated and will be removed in version 1.0.0. Downloads always resume when possible. If you want to force a new download, use `force_download=True`.\n",
      "  warnings.warn(\n",
      "Some weights of RobertaForSequenceClassification were not initialized from the model checkpoint at cardiffnlp/twitter-roberta-base-sentiment and are newly initialized because the shapes did not match:\n",
      "- classifier.out_proj.weight: found shape torch.Size([3, 768]) in the checkpoint and torch.Size([2, 768]) in the model instantiated\n",
      "- classifier.out_proj.bias: found shape torch.Size([3]) in the checkpoint and torch.Size([2]) in the model instantiated\n",
      "You should probably TRAIN this model on a down-stream task to be able to use it for predictions and inference.\n",
      "Some weights of RobertaForSequenceClassification were not initialized from the model checkpoint at cardiffnlp/twitter-roberta-base-sentiment and are newly initialized because the shapes did not match:\n",
      "- classifier.out_proj.weight: found shape torch.Size([3, 768]) in the checkpoint and torch.Size([2, 768]) in the model instantiated\n",
      "- classifier.out_proj.bias: found shape torch.Size([3]) in the checkpoint and torch.Size([2]) in the model instantiated\n",
      "You should probably TRAIN this model on a down-stream task to be able to use it for predictions and inference.\n"
     ]
    },
    {
     "name": "stdout",
     "output_type": "stream",
     "text": [
      "Training RoBERTa model on full dataset (this may take several hours)...\n"
     ]
    },
    {
     "data": {
      "application/vnd.jupyter.widget-view+json": {
       "model_id": "ab3874beda1f41909637f7a2b77486e3",
       "version_major": 2,
       "version_minor": 0
      },
      "text/plain": [
       "  0%|          | 0/60000 [00:00<?, ?it/s]"
      ]
     },
     "metadata": {},
     "output_type": "display_data"
    },
    {
     "name": "stdout",
     "output_type": "stream",
     "text": [
      "{'loss': 0.6105, 'grad_norm': 3.4802708625793457, 'learning_rate': 1e-05, 'epoch': 0.01}\n",
      "{'loss': 0.5314, 'grad_norm': 3.7280893325805664, 'learning_rate': 2e-05, 'epoch': 0.01}\n",
      "{'loss': 0.5314, 'grad_norm': 3.7280893325805664, 'learning_rate': 2e-05, 'epoch': 0.01}\n",
      "{'loss': 0.5024, 'grad_norm': 4.3956451416015625, 'learning_rate': 3e-05, 'epoch': 0.01}\n",
      "{'loss': 0.5024, 'grad_norm': 4.3956451416015625, 'learning_rate': 3e-05, 'epoch': 0.01}\n",
      "{'loss': 0.5115, 'grad_norm': 4.58789587020874, 'learning_rate': 4e-05, 'epoch': 0.02}\n",
      "{'loss': 0.5115, 'grad_norm': 4.58789587020874, 'learning_rate': 4e-05, 'epoch': 0.02}\n",
      "{'loss': 0.5042, 'grad_norm': 3.1967599391937256, 'learning_rate': 5e-05, 'epoch': 0.03}\n",
      "{'loss': 0.5042, 'grad_norm': 3.1967599391937256, 'learning_rate': 5e-05, 'epoch': 0.03}\n",
      "{'loss': 0.5126, 'grad_norm': 3.113467216491699, 'learning_rate': 4.991596638655463e-05, 'epoch': 0.03}\n",
      "{'loss': 0.5126, 'grad_norm': 3.113467216491699, 'learning_rate': 4.991596638655463e-05, 'epoch': 0.03}\n",
      "{'loss': 0.5107, 'grad_norm': 4.475787162780762, 'learning_rate': 4.9831932773109245e-05, 'epoch': 0.04}\n",
      "{'loss': 0.5107, 'grad_norm': 4.475787162780762, 'learning_rate': 4.9831932773109245e-05, 'epoch': 0.04}\n",
      "{'loss': 0.512, 'grad_norm': 3.9336695671081543, 'learning_rate': 4.974789915966387e-05, 'epoch': 0.04}\n",
      "{'loss': 0.512, 'grad_norm': 3.9336695671081543, 'learning_rate': 4.974789915966387e-05, 'epoch': 0.04}\n",
      "{'loss': 0.5015, 'grad_norm': 3.293468475341797, 'learning_rate': 4.966386554621849e-05, 'epoch': 0.04}\n",
      "{'loss': 0.5015, 'grad_norm': 3.293468475341797, 'learning_rate': 4.966386554621849e-05, 'epoch': 0.04}\n",
      "{'loss': 0.4941, 'grad_norm': 3.55067777633667, 'learning_rate': 4.957983193277311e-05, 'epoch': 0.05}\n",
      "{'loss': 0.4941, 'grad_norm': 3.55067777633667, 'learning_rate': 4.957983193277311e-05, 'epoch': 0.05}\n"
     ]
    },
    {
     "data": {
      "application/vnd.jupyter.widget-view+json": {
       "model_id": "808302691a5d4cf48a126e295c7279c5",
       "version_major": 2,
       "version_minor": 0
      },
      "text/plain": [
       "  0%|          | 0/10000 [00:00<?, ?it/s]"
      ]
     },
     "metadata": {},
     "output_type": "display_data"
    },
    {
     "name": "stdout",
     "output_type": "stream",
     "text": [
      "{'eval_loss': 0.4871356785297394, 'eval_accuracy': 0.767825, 'eval_precision': 0.7391401401848297, 'eval_recall': 0.8278, 'eval_f1': 0.7809618151371495, 'eval_runtime': 457.3176, 'eval_samples_per_second': 699.733, 'eval_steps_per_second': 21.867, 'epoch': 0.05}\n",
      "{'loss': 0.486, 'grad_norm': 6.928654193878174, 'learning_rate': 4.949579831932774e-05, 'epoch': 0.06}\n",
      "{'loss': 0.486, 'grad_norm': 6.928654193878174, 'learning_rate': 4.949579831932774e-05, 'epoch': 0.06}\n",
      "{'loss': 0.4805, 'grad_norm': 3.2705185413360596, 'learning_rate': 4.9411764705882355e-05, 'epoch': 0.06}\n",
      "{'loss': 0.4805, 'grad_norm': 3.2705185413360596, 'learning_rate': 4.9411764705882355e-05, 'epoch': 0.06}\n",
      "{'loss': 0.484, 'grad_norm': 4.272925853729248, 'learning_rate': 4.932773109243698e-05, 'epoch': 0.07}\n",
      "{'loss': 0.484, 'grad_norm': 4.272925853729248, 'learning_rate': 4.932773109243698e-05, 'epoch': 0.07}\n",
      "{'loss': 0.4916, 'grad_norm': 3.1067192554473877, 'learning_rate': 4.9243697478991605e-05, 'epoch': 0.07}\n",
      "{'loss': 0.4916, 'grad_norm': 3.1067192554473877, 'learning_rate': 4.9243697478991605e-05, 'epoch': 0.07}\n",
      "{'loss': 0.4854, 'grad_norm': 6.808962345123291, 'learning_rate': 4.9159663865546216e-05, 'epoch': 0.07}\n",
      "{'loss': 0.4854, 'grad_norm': 6.808962345123291, 'learning_rate': 4.9159663865546216e-05, 'epoch': 0.07}\n",
      "{'loss': 0.4779, 'grad_norm': 2.1840622425079346, 'learning_rate': 4.907563025210084e-05, 'epoch': 0.08}\n",
      "{'loss': 0.4779, 'grad_norm': 2.1840622425079346, 'learning_rate': 4.907563025210084e-05, 'epoch': 0.08}\n",
      "{'loss': 0.4842, 'grad_norm': 2.1466691493988037, 'learning_rate': 4.8991596638655466e-05, 'epoch': 0.09}\n",
      "{'loss': 0.4842, 'grad_norm': 2.1466691493988037, 'learning_rate': 4.8991596638655466e-05, 'epoch': 0.09}\n",
      "{'loss': 0.4733, 'grad_norm': 3.3970398902893066, 'learning_rate': 4.8907563025210084e-05, 'epoch': 0.09}\n",
      "{'loss': 0.4733, 'grad_norm': 3.3970398902893066, 'learning_rate': 4.8907563025210084e-05, 'epoch': 0.09}\n",
      "{'loss': 0.474, 'grad_norm': 2.425551652908325, 'learning_rate': 4.882352941176471e-05, 'epoch': 0.1}\n",
      "{'loss': 0.474, 'grad_norm': 2.425551652908325, 'learning_rate': 4.882352941176471e-05, 'epoch': 0.1}\n",
      "{'loss': 0.4727, 'grad_norm': 3.586174726486206, 'learning_rate': 4.8739495798319326e-05, 'epoch': 0.1}\n",
      "{'loss': 0.4727, 'grad_norm': 3.586174726486206, 'learning_rate': 4.8739495798319326e-05, 'epoch': 0.1}\n"
     ]
    },
    {
     "data": {
      "application/vnd.jupyter.widget-view+json": {
       "model_id": "4016ab0255c64a3291617fa2f47507cd",
       "version_major": 2,
       "version_minor": 0
      },
      "text/plain": [
       "  0%|          | 0/10000 [00:00<?, ?it/s]"
      ]
     },
     "metadata": {},
     "output_type": "display_data"
    },
    {
     "name": "stdout",
     "output_type": "stream",
     "text": [
      "{'eval_loss': 0.4810645580291748, 'eval_accuracy': 0.77191875, 'eval_precision': 0.7292738195615515, 'eval_recall': 0.86491875, 'eval_f1': 0.7913254803293687, 'eval_runtime': 456.0983, 'eval_samples_per_second': 701.603, 'eval_steps_per_second': 21.925, 'epoch': 0.1}\n",
      "{'loss': 0.4704, 'grad_norm': 2.6073837280273438, 'learning_rate': 4.865546218487395e-05, 'epoch': 0.1}\n",
      "{'loss': 0.4704, 'grad_norm': 2.6073837280273438, 'learning_rate': 4.865546218487395e-05, 'epoch': 0.1}\n",
      "{'loss': 0.4836, 'grad_norm': 4.446426868438721, 'learning_rate': 4.8571428571428576e-05, 'epoch': 0.11}\n",
      "{'loss': 0.4836, 'grad_norm': 4.446426868438721, 'learning_rate': 4.8571428571428576e-05, 'epoch': 0.11}\n",
      "{'loss': 0.475, 'grad_norm': 2.324713706970215, 'learning_rate': 4.8487394957983194e-05, 'epoch': 0.12}\n",
      "{'loss': 0.475, 'grad_norm': 2.324713706970215, 'learning_rate': 4.8487394957983194e-05, 'epoch': 0.12}\n",
      "{'loss': 0.4667, 'grad_norm': 3.3252322673797607, 'learning_rate': 4.840336134453782e-05, 'epoch': 0.12}\n",
      "{'loss': 0.4667, 'grad_norm': 3.3252322673797607, 'learning_rate': 4.840336134453782e-05, 'epoch': 0.12}\n",
      "{'loss': 0.472, 'grad_norm': 2.520941734313965, 'learning_rate': 4.831932773109244e-05, 'epoch': 0.12}\n",
      "{'loss': 0.472, 'grad_norm': 2.520941734313965, 'learning_rate': 4.831932773109244e-05, 'epoch': 0.12}\n",
      "{'loss': 0.4918, 'grad_norm': 2.7983739376068115, 'learning_rate': 4.823529411764706e-05, 'epoch': 0.13}\n",
      "{'loss': 0.4918, 'grad_norm': 2.7983739376068115, 'learning_rate': 4.823529411764706e-05, 'epoch': 0.13}\n",
      "{'loss': 0.483, 'grad_norm': 6.978851318359375, 'learning_rate': 4.8151260504201686e-05, 'epoch': 0.14}\n",
      "{'loss': 0.483, 'grad_norm': 6.978851318359375, 'learning_rate': 4.8151260504201686e-05, 'epoch': 0.14}\n",
      "{'loss': 0.4701, 'grad_norm': 1.9367581605911255, 'learning_rate': 4.8067226890756304e-05, 'epoch': 0.14}\n",
      "{'loss': 0.4701, 'grad_norm': 1.9367581605911255, 'learning_rate': 4.8067226890756304e-05, 'epoch': 0.14}\n",
      "{'loss': 0.4613, 'grad_norm': 2.842832326889038, 'learning_rate': 4.798319327731093e-05, 'epoch': 0.14}\n",
      "{'loss': 0.4613, 'grad_norm': 2.842832326889038, 'learning_rate': 4.798319327731093e-05, 'epoch': 0.14}\n",
      "{'loss': 0.4647, 'grad_norm': 3.955307960510254, 'learning_rate': 4.7899159663865554e-05, 'epoch': 0.15}\n",
      "{'loss': 0.4647, 'grad_norm': 3.955307960510254, 'learning_rate': 4.7899159663865554e-05, 'epoch': 0.15}\n"
     ]
    },
    {
     "data": {
      "application/vnd.jupyter.widget-view+json": {
       "model_id": "1f8c750c67fb4176a772c33b893915e6",
       "version_major": 2,
       "version_minor": 0
      },
      "text/plain": [
       "  0%|          | 0/10000 [00:00<?, ?it/s]"
      ]
     },
     "metadata": {},
     "output_type": "display_data"
    },
    {
     "name": "stdout",
     "output_type": "stream",
     "text": [
      "{'eval_loss': 0.4891343116760254, 'eval_accuracy': 0.776084375, 'eval_precision': 0.8138280867026152, 'eval_recall': 0.71595, 'eval_f1': 0.7617578310729259, 'eval_runtime': 456.1576, 'eval_samples_per_second': 701.512, 'eval_steps_per_second': 21.922, 'epoch': 0.15}\n",
      "{'loss': 0.4769, 'grad_norm': 2.8574297428131104, 'learning_rate': 4.781512605042017e-05, 'epoch': 0.15}\n",
      "{'loss': 0.4769, 'grad_norm': 2.8574297428131104, 'learning_rate': 4.781512605042017e-05, 'epoch': 0.15}\n",
      "{'loss': 0.4598, 'grad_norm': 2.285024642944336, 'learning_rate': 4.7731092436974796e-05, 'epoch': 0.16}\n",
      "{'loss': 0.4598, 'grad_norm': 2.285024642944336, 'learning_rate': 4.7731092436974796e-05, 'epoch': 0.16}\n",
      "{'loss': 0.4682, 'grad_norm': 2.515509605407715, 'learning_rate': 4.7647058823529414e-05, 'epoch': 0.17}\n",
      "{'loss': 0.4682, 'grad_norm': 2.515509605407715, 'learning_rate': 4.7647058823529414e-05, 'epoch': 0.17}\n",
      "{'loss': 0.4698, 'grad_norm': 3.827587842941284, 'learning_rate': 4.756302521008403e-05, 'epoch': 0.17}\n",
      "{'loss': 0.4698, 'grad_norm': 3.827587842941284, 'learning_rate': 4.756302521008403e-05, 'epoch': 0.17}\n",
      "{'loss': 0.4632, 'grad_norm': 5.13430118560791, 'learning_rate': 4.747899159663866e-05, 'epoch': 0.17}\n",
      "{'loss': 0.4632, 'grad_norm': 5.13430118560791, 'learning_rate': 4.747899159663866e-05, 'epoch': 0.17}\n",
      "{'loss': 0.4757, 'grad_norm': 3.759530782699585, 'learning_rate': 4.7395798319327734e-05, 'epoch': 0.18}\n",
      "{'loss': 0.4757, 'grad_norm': 3.759530782699585, 'learning_rate': 4.7395798319327734e-05, 'epoch': 0.18}\n",
      "{'loss': 0.4669, 'grad_norm': 2.7003285884857178, 'learning_rate': 4.731176470588236e-05, 'epoch': 0.18}\n",
      "{'loss': 0.4669, 'grad_norm': 2.7003285884857178, 'learning_rate': 4.731176470588236e-05, 'epoch': 0.18}\n",
      "{'loss': 0.4548, 'grad_norm': 3.2808635234832764, 'learning_rate': 4.7227731092436977e-05, 'epoch': 0.19}\n",
      "{'loss': 0.4548, 'grad_norm': 3.2808635234832764, 'learning_rate': 4.7227731092436977e-05, 'epoch': 0.19}\n",
      "{'loss': 0.4621, 'grad_norm': 2.8585469722747803, 'learning_rate': 4.71436974789916e-05, 'epoch': 0.2}\n",
      "{'loss': 0.4621, 'grad_norm': 2.8585469722747803, 'learning_rate': 4.71436974789916e-05, 'epoch': 0.2}\n",
      "{'loss': 0.4611, 'grad_norm': 3.3739240169525146, 'learning_rate': 4.705966386554622e-05, 'epoch': 0.2}\n",
      "{'loss': 0.4611, 'grad_norm': 3.3739240169525146, 'learning_rate': 4.705966386554622e-05, 'epoch': 0.2}\n"
     ]
    },
    {
     "data": {
      "application/vnd.jupyter.widget-view+json": {
       "model_id": "3b37284844e549678a1f1de43cbccca0",
       "version_major": 2,
       "version_minor": 0
      },
      "text/plain": [
       "  0%|          | 0/10000 [00:00<?, ?it/s]"
      ]
     },
     "metadata": {},
     "output_type": "display_data"
    },
    {
     "name": "stdout",
     "output_type": "stream",
     "text": [
      "{'eval_loss': 0.4564788043498993, 'eval_accuracy': 0.78805625, 'eval_precision': 0.7697882154606226, 'eval_recall': 0.8219125, 'eval_f1': 0.7949968866561478, 'eval_runtime': 456.584, 'eval_samples_per_second': 700.857, 'eval_steps_per_second': 21.902, 'epoch': 0.2}\n",
      "{'loss': 0.465, 'grad_norm': 2.132075786590576, 'learning_rate': 4.6975630252100844e-05, 'epoch': 0.2}\n",
      "{'loss': 0.465, 'grad_norm': 2.132075786590576, 'learning_rate': 4.6975630252100844e-05, 'epoch': 0.2}\n",
      "{'loss': 0.4634, 'grad_norm': 2.489898920059204, 'learning_rate': 4.689159663865547e-05, 'epoch': 0.21}\n",
      "{'loss': 0.4634, 'grad_norm': 2.489898920059204, 'learning_rate': 4.689159663865547e-05, 'epoch': 0.21}\n",
      "{'loss': 0.4566, 'grad_norm': 3.8962044715881348, 'learning_rate': 4.680756302521009e-05, 'epoch': 0.21}\n",
      "{'loss': 0.4566, 'grad_norm': 3.8962044715881348, 'learning_rate': 4.680756302521009e-05, 'epoch': 0.21}\n",
      "{'loss': 0.4661, 'grad_norm': 1.8293187618255615, 'learning_rate': 4.672352941176471e-05, 'epoch': 0.22}\n",
      "{'loss': 0.4661, 'grad_norm': 1.8293187618255615, 'learning_rate': 4.672352941176471e-05, 'epoch': 0.22}\n",
      "{'loss': 0.4603, 'grad_norm': 3.6494388580322266, 'learning_rate': 4.663949579831933e-05, 'epoch': 0.23}\n",
      "{'loss': 0.4603, 'grad_norm': 3.6494388580322266, 'learning_rate': 4.663949579831933e-05, 'epoch': 0.23}\n",
      "{'loss': 0.4721, 'grad_norm': 2.6565754413604736, 'learning_rate': 4.655546218487395e-05, 'epoch': 0.23}\n",
      "{'loss': 0.4721, 'grad_norm': 2.6565754413604736, 'learning_rate': 4.655546218487395e-05, 'epoch': 0.23}\n",
      "{'loss': 0.4601, 'grad_norm': 4.611802101135254, 'learning_rate': 4.647142857142857e-05, 'epoch': 0.23}\n",
      "{'loss': 0.4601, 'grad_norm': 4.611802101135254, 'learning_rate': 4.647142857142857e-05, 'epoch': 0.23}\n",
      "{'loss': 0.446, 'grad_norm': 2.6288411617279053, 'learning_rate': 4.638739495798319e-05, 'epoch': 0.24}\n",
      "{'loss': 0.446, 'grad_norm': 2.6288411617279053, 'learning_rate': 4.638739495798319e-05, 'epoch': 0.24}\n",
      "{'loss': 0.454, 'grad_norm': 2.0399131774902344, 'learning_rate': 4.6303361344537815e-05, 'epoch': 0.24}\n",
      "{'loss': 0.454, 'grad_norm': 2.0399131774902344, 'learning_rate': 4.6303361344537815e-05, 'epoch': 0.24}\n",
      "{'loss': 0.4528, 'grad_norm': 2.212474822998047, 'learning_rate': 4.621932773109244e-05, 'epoch': 0.25}\n",
      "{'loss': 0.4528, 'grad_norm': 2.212474822998047, 'learning_rate': 4.621932773109244e-05, 'epoch': 0.25}\n"
     ]
    },
    {
     "data": {
      "application/vnd.jupyter.widget-view+json": {
       "model_id": "eea66421e2184c25a64bd9caa25f507d",
       "version_major": 2,
       "version_minor": 0
      },
      "text/plain": [
       "  0%|          | 0/10000 [00:00<?, ?it/s]"
      ]
     },
     "metadata": {},
     "output_type": "display_data"
    },
    {
     "name": "stdout",
     "output_type": "stream",
     "text": [
      "{'eval_loss': 0.45739662647247314, 'eval_accuracy': 0.78884375, 'eval_precision': 0.8050011879306248, 'eval_recall': 0.76235625, 'eval_f1': 0.7830985734646447, 'eval_runtime': 462.9956, 'eval_samples_per_second': 691.151, 'eval_steps_per_second': 21.598, 'epoch': 0.25}\n",
      "{'loss': 0.4679, 'grad_norm': 2.86240816116333, 'learning_rate': 4.613529411764706e-05, 'epoch': 0.26}\n",
      "{'loss': 0.4679, 'grad_norm': 2.86240816116333, 'learning_rate': 4.613529411764706e-05, 'epoch': 0.26}\n",
      "{'loss': 0.4409, 'grad_norm': 2.030566692352295, 'learning_rate': 4.605126050420168e-05, 'epoch': 0.26}\n",
      "{'loss': 0.4409, 'grad_norm': 2.030566692352295, 'learning_rate': 4.605126050420168e-05, 'epoch': 0.26}\n",
      "{'loss': 0.4656, 'grad_norm': 1.9814602136611938, 'learning_rate': 4.596722689075631e-05, 'epoch': 0.27}\n",
      "{'loss': 0.4656, 'grad_norm': 1.9814602136611938, 'learning_rate': 4.596722689075631e-05, 'epoch': 0.27}\n",
      "{'loss': 0.4434, 'grad_norm': 3.460284948348999, 'learning_rate': 4.5883193277310925e-05, 'epoch': 0.27}\n",
      "{'loss': 0.4434, 'grad_norm': 3.460284948348999, 'learning_rate': 4.5883193277310925e-05, 'epoch': 0.27}\n",
      "{'loss': 0.4519, 'grad_norm': 2.447219133377075, 'learning_rate': 4.579915966386555e-05, 'epoch': 0.28}\n",
      "{'loss': 0.4519, 'grad_norm': 2.447219133377075, 'learning_rate': 4.579915966386555e-05, 'epoch': 0.28}\n",
      "{'loss': 0.4502, 'grad_norm': 2.3882064819335938, 'learning_rate': 4.571512605042017e-05, 'epoch': 0.28}\n",
      "{'loss': 0.4502, 'grad_norm': 2.3882064819335938, 'learning_rate': 4.571512605042017e-05, 'epoch': 0.28}\n",
      "{'loss': 0.4515, 'grad_norm': 3.4896433353424072, 'learning_rate': 4.563109243697479e-05, 'epoch': 0.28}\n",
      "{'loss': 0.4515, 'grad_norm': 3.4896433353424072, 'learning_rate': 4.563109243697479e-05, 'epoch': 0.28}\n",
      "{'loss': 0.4697, 'grad_norm': 3.302881956100464, 'learning_rate': 4.554789915966387e-05, 'epoch': 0.29}\n",
      "{'loss': 0.4697, 'grad_norm': 3.302881956100464, 'learning_rate': 4.554789915966387e-05, 'epoch': 0.29}\n",
      "{'loss': 0.4475, 'grad_norm': 3.615957260131836, 'learning_rate': 4.546386554621849e-05, 'epoch': 0.29}\n",
      "{'loss': 0.4475, 'grad_norm': 3.615957260131836, 'learning_rate': 4.546386554621849e-05, 'epoch': 0.29}\n",
      "{'loss': 0.4681, 'grad_norm': 2.689018964767456, 'learning_rate': 4.537983193277311e-05, 'epoch': 0.3}\n",
      "{'loss': 0.4681, 'grad_norm': 2.689018964767456, 'learning_rate': 4.537983193277311e-05, 'epoch': 0.3}\n"
     ]
    },
    {
     "data": {
      "application/vnd.jupyter.widget-view+json": {
       "model_id": "bbd4af7f24154eaa82a96a783a30c984",
       "version_major": 2,
       "version_minor": 0
      },
      "text/plain": [
       "  0%|          | 0/10000 [00:00<?, ?it/s]"
      ]
     },
     "metadata": {},
     "output_type": "display_data"
    },
    {
     "name": "stdout",
     "output_type": "stream",
     "text": [
      "{'eval_loss': 0.45260190963745117, 'eval_accuracy': 0.787634375, 'eval_precision': 0.7573319317158818, 'eval_recall': 0.8465125, 'eval_f1': 0.7994428065080672, 'eval_runtime': 459.5473, 'eval_samples_per_second': 696.337, 'eval_steps_per_second': 21.761, 'epoch': 0.3}\n",
      "{'loss': 0.4582, 'grad_norm': 2.195157051086426, 'learning_rate': 4.529579831932773e-05, 'epoch': 0.3}\n",
      "{'loss': 0.4582, 'grad_norm': 2.195157051086426, 'learning_rate': 4.529579831932773e-05, 'epoch': 0.3}\n",
      "{'loss': 0.4751, 'grad_norm': 3.2639424800872803, 'learning_rate': 4.5211764705882355e-05, 'epoch': 0.31}\n",
      "{'loss': 0.4751, 'grad_norm': 3.2639424800872803, 'learning_rate': 4.5211764705882355e-05, 'epoch': 0.31}\n",
      "{'loss': 0.4606, 'grad_norm': 2.9894020557403564, 'learning_rate': 4.512773109243697e-05, 'epoch': 0.32}\n",
      "{'loss': 0.4606, 'grad_norm': 2.9894020557403564, 'learning_rate': 4.512773109243697e-05, 'epoch': 0.32}\n",
      "{'loss': 0.4664, 'grad_norm': 1.7419636249542236, 'learning_rate': 4.50436974789916e-05, 'epoch': 0.32}\n",
      "{'loss': 0.4664, 'grad_norm': 1.7419636249542236, 'learning_rate': 4.50436974789916e-05, 'epoch': 0.32}\n",
      "{'loss': 0.4559, 'grad_norm': 1.9820196628570557, 'learning_rate': 4.495966386554622e-05, 'epoch': 0.33}\n",
      "{'loss': 0.4559, 'grad_norm': 1.9820196628570557, 'learning_rate': 4.495966386554622e-05, 'epoch': 0.33}\n",
      "{'loss': 0.473, 'grad_norm': 2.4115681648254395, 'learning_rate': 4.487563025210084e-05, 'epoch': 0.33}\n",
      "{'loss': 0.473, 'grad_norm': 2.4115681648254395, 'learning_rate': 4.487563025210084e-05, 'epoch': 0.33}\n",
      "{'loss': 0.4602, 'grad_norm': 3.020817279815674, 'learning_rate': 4.4791596638655465e-05, 'epoch': 0.34}\n",
      "{'loss': 0.4602, 'grad_norm': 3.020817279815674, 'learning_rate': 4.4791596638655465e-05, 'epoch': 0.34}\n",
      "{'loss': 0.4548, 'grad_norm': 2.673811674118042, 'learning_rate': 4.470756302521008e-05, 'epoch': 0.34}\n",
      "{'loss': 0.4548, 'grad_norm': 2.673811674118042, 'learning_rate': 4.470756302521008e-05, 'epoch': 0.34}\n",
      "{'loss': 0.4564, 'grad_norm': 2.3859357833862305, 'learning_rate': 4.462352941176471e-05, 'epoch': 0.34}\n",
      "{'loss': 0.4564, 'grad_norm': 2.3859357833862305, 'learning_rate': 4.462352941176471e-05, 'epoch': 0.34}\n",
      "{'loss': 0.4415, 'grad_norm': 2.3732292652130127, 'learning_rate': 4.453949579831933e-05, 'epoch': 0.35}\n",
      "{'loss': 0.4415, 'grad_norm': 2.3732292652130127, 'learning_rate': 4.453949579831933e-05, 'epoch': 0.35}\n"
     ]
    },
    {
     "data": {
      "application/vnd.jupyter.widget-view+json": {
       "model_id": "a47959b10b4f4968a853f0215e910b56",
       "version_major": 2,
       "version_minor": 0
      },
      "text/plain": [
       "  0%|          | 0/10000 [00:00<?, ?it/s]"
      ]
     },
     "metadata": {},
     "output_type": "display_data"
    },
    {
     "name": "stdout",
     "output_type": "stream",
     "text": [
      "{'eval_loss': 0.44922080636024475, 'eval_accuracy': 0.791990625, 'eval_precision': 0.7839150172287012, 'eval_recall': 0.8062125, 'eval_f1': 0.7949074259515454, 'eval_runtime': 459.6315, 'eval_samples_per_second': 696.21, 'eval_steps_per_second': 21.757, 'epoch': 0.35}\n",
      "{'loss': 0.449, 'grad_norm': 3.7810211181640625, 'learning_rate': 4.445546218487395e-05, 'epoch': 0.35}\n",
      "{'loss': 0.449, 'grad_norm': 3.7810211181640625, 'learning_rate': 4.445546218487395e-05, 'epoch': 0.35}\n",
      "{'loss': 0.4587, 'grad_norm': 2.225187063217163, 'learning_rate': 4.4371428571428575e-05, 'epoch': 0.36}\n",
      "{'loss': 0.4587, 'grad_norm': 2.225187063217163, 'learning_rate': 4.4371428571428575e-05, 'epoch': 0.36}\n",
      "{'loss': 0.4339, 'grad_norm': 2.8689119815826416, 'learning_rate': 4.4288235294117645e-05, 'epoch': 0.36}\n",
      "{'loss': 0.4339, 'grad_norm': 2.8689119815826416, 'learning_rate': 4.4288235294117645e-05, 'epoch': 0.36}\n",
      "{'loss': 0.4496, 'grad_norm': 1.799147605895996, 'learning_rate': 4.420420168067227e-05, 'epoch': 0.37}\n",
      "{'loss': 0.4496, 'grad_norm': 1.799147605895996, 'learning_rate': 4.420420168067227e-05, 'epoch': 0.37}\n",
      "{'loss': 0.4468, 'grad_norm': 2.972243547439575, 'learning_rate': 4.412016806722689e-05, 'epoch': 0.38}\n",
      "{'loss': 0.4468, 'grad_norm': 2.972243547439575, 'learning_rate': 4.412016806722689e-05, 'epoch': 0.38}\n",
      "{'loss': 0.4504, 'grad_norm': 1.7309101819992065, 'learning_rate': 4.403613445378151e-05, 'epoch': 0.38}\n",
      "{'loss': 0.4504, 'grad_norm': 1.7309101819992065, 'learning_rate': 4.403613445378151e-05, 'epoch': 0.38}\n",
      "{'loss': 0.4567, 'grad_norm': 2.7296273708343506, 'learning_rate': 4.395210084033614e-05, 'epoch': 0.39}\n",
      "{'loss': 0.4567, 'grad_norm': 2.7296273708343506, 'learning_rate': 4.395210084033614e-05, 'epoch': 0.39}\n",
      "{'loss': 0.4622, 'grad_norm': 2.9824798107147217, 'learning_rate': 4.3868067226890756e-05, 'epoch': 0.39}\n",
      "{'loss': 0.4622, 'grad_norm': 2.9824798107147217, 'learning_rate': 4.3868067226890756e-05, 'epoch': 0.39}\n",
      "{'loss': 0.4482, 'grad_norm': 1.9671440124511719, 'learning_rate': 4.378403361344538e-05, 'epoch': 0.4}\n",
      "{'loss': 0.4482, 'grad_norm': 1.9671440124511719, 'learning_rate': 4.378403361344538e-05, 'epoch': 0.4}\n",
      "{'loss': 0.4445, 'grad_norm': 2.055126428604126, 'learning_rate': 4.3700000000000005e-05, 'epoch': 0.4}\n",
      "{'loss': 0.4445, 'grad_norm': 2.055126428604126, 'learning_rate': 4.3700000000000005e-05, 'epoch': 0.4}\n"
     ]
    },
    {
     "data": {
      "application/vnd.jupyter.widget-view+json": {
       "model_id": "19a738ca82f04fc2a72a16d40545a138",
       "version_major": 2,
       "version_minor": 0
      },
      "text/plain": [
       "  0%|          | 0/10000 [00:00<?, ?it/s]"
      ]
     },
     "metadata": {},
     "output_type": "display_data"
    },
    {
     "name": "stdout",
     "output_type": "stream",
     "text": [
      "{'eval_loss': 0.4444356858730316, 'eval_accuracy': 0.794353125, 'eval_precision': 0.7877018185816651, 'eval_recall': 0.8059125, 'eval_f1': 0.7967031099879827, 'eval_runtime': 459.4292, 'eval_samples_per_second': 696.516, 'eval_steps_per_second': 21.766, 'epoch': 0.4}\n",
      "{'loss': 0.4566, 'grad_norm': 2.334798812866211, 'learning_rate': 4.361596638655462e-05, 'epoch': 0.41}\n",
      "{'loss': 0.4566, 'grad_norm': 2.334798812866211, 'learning_rate': 4.361596638655462e-05, 'epoch': 0.41}\n",
      "{'loss': 0.4614, 'grad_norm': 2.9213922023773193, 'learning_rate': 4.353193277310925e-05, 'epoch': 0.41}\n",
      "{'loss': 0.4614, 'grad_norm': 2.9213922023773193, 'learning_rate': 4.353193277310925e-05, 'epoch': 0.41}\n",
      "{'loss': 0.4565, 'grad_norm': 1.9716622829437256, 'learning_rate': 4.3447899159663866e-05, 'epoch': 0.41}\n",
      "{'loss': 0.4565, 'grad_norm': 1.9716622829437256, 'learning_rate': 4.3447899159663866e-05, 'epoch': 0.41}\n",
      "{'loss': 0.4514, 'grad_norm': 2.052016496658325, 'learning_rate': 4.336386554621849e-05, 'epoch': 0.42}\n",
      "{'loss': 0.4514, 'grad_norm': 2.052016496658325, 'learning_rate': 4.336386554621849e-05, 'epoch': 0.42}\n",
      "{'loss': 0.4492, 'grad_norm': 1.963016152381897, 'learning_rate': 4.3279831932773115e-05, 'epoch': 0.42}\n",
      "{'loss': 0.4492, 'grad_norm': 1.963016152381897, 'learning_rate': 4.3279831932773115e-05, 'epoch': 0.42}\n",
      "{'loss': 0.4603, 'grad_norm': 2.4452972412109375, 'learning_rate': 4.319579831932773e-05, 'epoch': 0.43}\n",
      "{'loss': 0.4603, 'grad_norm': 2.4452972412109375, 'learning_rate': 4.319579831932773e-05, 'epoch': 0.43}\n",
      "{'loss': 0.4451, 'grad_norm': 2.719043493270874, 'learning_rate': 4.311176470588236e-05, 'epoch': 0.43}\n",
      "{'loss': 0.4451, 'grad_norm': 2.719043493270874, 'learning_rate': 4.311176470588236e-05, 'epoch': 0.43}\n",
      "{'loss': 0.4467, 'grad_norm': 2.4043283462524414, 'learning_rate': 4.3027731092436976e-05, 'epoch': 0.44}\n",
      "{'loss': 0.4467, 'grad_norm': 2.4043283462524414, 'learning_rate': 4.3027731092436976e-05, 'epoch': 0.44}\n",
      "{'loss': 0.4598, 'grad_norm': 2.0171566009521484, 'learning_rate': 4.29436974789916e-05, 'epoch': 0.45}\n",
      "{'loss': 0.4598, 'grad_norm': 2.0171566009521484, 'learning_rate': 4.29436974789916e-05, 'epoch': 0.45}\n",
      "{'loss': 0.449, 'grad_norm': 2.316354274749756, 'learning_rate': 4.285966386554622e-05, 'epoch': 0.45}\n",
      "{'loss': 0.449, 'grad_norm': 2.316354274749756, 'learning_rate': 4.285966386554622e-05, 'epoch': 0.45}\n"
     ]
    },
    {
     "data": {
      "application/vnd.jupyter.widget-view+json": {
       "model_id": "cc5a1b65ea41400fa975dfd7f03491ae",
       "version_major": 2,
       "version_minor": 0
      },
      "text/plain": [
       "  0%|          | 0/10000 [00:00<?, ?it/s]"
      ]
     },
     "metadata": {},
     "output_type": "display_data"
    },
    {
     "name": "stdout",
     "output_type": "stream",
     "text": [
      "{'eval_loss': 0.46684911847114563, 'eval_accuracy': 0.79428125, 'eval_precision': 0.7825619914064188, 'eval_recall': 0.81501875, 'eval_f1': 0.7984606718181707, 'eval_runtime': 459.3473, 'eval_samples_per_second': 696.641, 'eval_steps_per_second': 21.77, 'epoch': 0.45}\n",
      "{'loss': 0.4405, 'grad_norm': 2.777965784072876, 'learning_rate': 4.277563025210084e-05, 'epoch': 0.46}\n",
      "{'loss': 0.4405, 'grad_norm': 2.777965784072876, 'learning_rate': 4.277563025210084e-05, 'epoch': 0.46}\n",
      "{'loss': 0.4455, 'grad_norm': 2.385775327682495, 'learning_rate': 4.269159663865546e-05, 'epoch': 0.46}\n",
      "{'loss': 0.4455, 'grad_norm': 2.385775327682495, 'learning_rate': 4.269159663865546e-05, 'epoch': 0.46}\n",
      "{'loss': 0.4375, 'grad_norm': 2.4640450477600098, 'learning_rate': 4.2607563025210086e-05, 'epoch': 0.47}\n",
      "{'loss': 0.4375, 'grad_norm': 2.4640450477600098, 'learning_rate': 4.2607563025210086e-05, 'epoch': 0.47}\n",
      "{'loss': 0.4441, 'grad_norm': 2.998490810394287, 'learning_rate': 4.2523529411764704e-05, 'epoch': 0.47}\n",
      "{'loss': 0.4441, 'grad_norm': 2.998490810394287, 'learning_rate': 4.2523529411764704e-05, 'epoch': 0.47}\n",
      "{'loss': 0.4371, 'grad_norm': 1.6616239547729492, 'learning_rate': 4.243949579831933e-05, 'epoch': 0.47}\n",
      "{'loss': 0.4371, 'grad_norm': 1.6616239547729492, 'learning_rate': 4.243949579831933e-05, 'epoch': 0.47}\n",
      "{'loss': 0.4294, 'grad_norm': 1.8372142314910889, 'learning_rate': 4.2355462184873954e-05, 'epoch': 0.48}\n",
      "{'loss': 0.4294, 'grad_norm': 1.8372142314910889, 'learning_rate': 4.2355462184873954e-05, 'epoch': 0.48}\n",
      "{'loss': 0.4465, 'grad_norm': 2.1621899604797363, 'learning_rate': 4.227142857142857e-05, 'epoch': 0.48}\n",
      "{'loss': 0.4465, 'grad_norm': 2.1621899604797363, 'learning_rate': 4.227142857142857e-05, 'epoch': 0.48}\n",
      "{'loss': 0.4664, 'grad_norm': 1.8297001123428345, 'learning_rate': 4.2187394957983197e-05, 'epoch': 0.49}\n",
      "{'loss': 0.4664, 'grad_norm': 1.8297001123428345, 'learning_rate': 4.2187394957983197e-05, 'epoch': 0.49}\n",
      "{'loss': 0.4443, 'grad_norm': 2.9611780643463135, 'learning_rate': 4.2103361344537815e-05, 'epoch': 0.49}\n",
      "{'loss': 0.4443, 'grad_norm': 2.9611780643463135, 'learning_rate': 4.2103361344537815e-05, 'epoch': 0.49}\n",
      "{'loss': 0.4487, 'grad_norm': 2.6325206756591797, 'learning_rate': 4.201932773109244e-05, 'epoch': 0.5}\n",
      "{'loss': 0.4487, 'grad_norm': 2.6325206756591797, 'learning_rate': 4.201932773109244e-05, 'epoch': 0.5}\n"
     ]
    },
    {
     "data": {
      "application/vnd.jupyter.widget-view+json": {
       "model_id": "20108bc1263c4b72849985132271d887",
       "version_major": 2,
       "version_minor": 0
      },
      "text/plain": [
       "  0%|          | 0/10000 [00:00<?, ?it/s]"
      ]
     },
     "metadata": {},
     "output_type": "display_data"
    },
    {
     "name": "stdout",
     "output_type": "stream",
     "text": [
      "{'eval_loss': 0.4527052342891693, 'eval_accuracy': 0.791784375, 'eval_precision': 0.8131510635015394, 'eval_recall': 0.75766875, 'eval_f1': 0.7844300721812587, 'eval_runtime': 459.046, 'eval_samples_per_second': 697.098, 'eval_steps_per_second': 21.784, 'epoch': 0.5}\n",
      "{'loss': 0.4473, 'grad_norm': 2.7659764289855957, 'learning_rate': 4.1935294117647064e-05, 'epoch': 0.51}\n",
      "{'loss': 0.4473, 'grad_norm': 2.7659764289855957, 'learning_rate': 4.1935294117647064e-05, 'epoch': 0.51}\n",
      "{'loss': 0.4427, 'grad_norm': 3.455942392349243, 'learning_rate': 4.185126050420168e-05, 'epoch': 0.51}\n",
      "{'loss': 0.4427, 'grad_norm': 3.455942392349243, 'learning_rate': 4.185126050420168e-05, 'epoch': 0.51}\n",
      "{'loss': 0.4465, 'grad_norm': 2.3023552894592285, 'learning_rate': 4.176722689075631e-05, 'epoch': 0.52}\n",
      "{'loss': 0.4465, 'grad_norm': 2.3023552894592285, 'learning_rate': 4.176722689075631e-05, 'epoch': 0.52}\n",
      "{'loss': 0.4548, 'grad_norm': 2.143460750579834, 'learning_rate': 4.1683193277310925e-05, 'epoch': 0.52}\n",
      "{'loss': 0.4548, 'grad_norm': 2.143460750579834, 'learning_rate': 4.1683193277310925e-05, 'epoch': 0.52}\n",
      "{'loss': 0.4574, 'grad_norm': 2.564061403274536, 'learning_rate': 4.159915966386555e-05, 'epoch': 0.53}\n",
      "{'loss': 0.4574, 'grad_norm': 2.564061403274536, 'learning_rate': 4.159915966386555e-05, 'epoch': 0.53}\n",
      "{'loss': 0.4374, 'grad_norm': 2.8591737747192383, 'learning_rate': 4.1515126050420174e-05, 'epoch': 0.53}\n",
      "{'loss': 0.4374, 'grad_norm': 2.8591737747192383, 'learning_rate': 4.1515126050420174e-05, 'epoch': 0.53}\n",
      "{'loss': 0.4532, 'grad_norm': 2.3943803310394287, 'learning_rate': 4.143109243697479e-05, 'epoch': 0.54}\n",
      "{'loss': 0.4532, 'grad_norm': 2.3943803310394287, 'learning_rate': 4.143109243697479e-05, 'epoch': 0.54}\n",
      "{'loss': 0.4508, 'grad_norm': 2.4897267818450928, 'learning_rate': 4.134705882352942e-05, 'epoch': 0.54}\n",
      "{'loss': 0.4508, 'grad_norm': 2.4897267818450928, 'learning_rate': 4.134705882352942e-05, 'epoch': 0.54}\n",
      "{'loss': 0.4487, 'grad_norm': 2.7157769203186035, 'learning_rate': 4.1263025210084035e-05, 'epoch': 0.55}\n",
      "{'loss': 0.4487, 'grad_norm': 2.7157769203186035, 'learning_rate': 4.1263025210084035e-05, 'epoch': 0.55}\n",
      "{'loss': 0.4462, 'grad_norm': 2.1463541984558105, 'learning_rate': 4.117899159663865e-05, 'epoch': 0.55}\n",
      "{'loss': 0.4462, 'grad_norm': 2.1463541984558105, 'learning_rate': 4.117899159663865e-05, 'epoch': 0.55}\n"
     ]
    },
    {
     "data": {
      "application/vnd.jupyter.widget-view+json": {
       "model_id": "d31bed87ae8240b88d80426fd3d261c2",
       "version_major": 2,
       "version_minor": 0
      },
      "text/plain": [
       "  0%|          | 0/10000 [00:00<?, ?it/s]"
      ]
     },
     "metadata": {},
     "output_type": "display_data"
    },
    {
     "name": "stdout",
     "output_type": "stream",
     "text": [
      "{'eval_loss': 0.44008389115333557, 'eval_accuracy': 0.79214375, 'eval_precision': 0.7651633764465623, 'eval_recall': 0.84301875, 'eval_f1': 0.8022064945878434, 'eval_runtime': 460.9724, 'eval_samples_per_second': 694.185, 'eval_steps_per_second': 21.693, 'epoch': 0.55}\n",
      "{'loss': 0.4447, 'grad_norm': 3.7292044162750244, 'learning_rate': 4.109495798319328e-05, 'epoch': 0.56}\n",
      "{'loss': 0.4447, 'grad_norm': 3.7292044162750244, 'learning_rate': 4.109495798319328e-05, 'epoch': 0.56}\n",
      "{'loss': 0.4518, 'grad_norm': 3.0832598209381104, 'learning_rate': 4.10109243697479e-05, 'epoch': 0.56}\n",
      "{'loss': 0.4518, 'grad_norm': 3.0832598209381104, 'learning_rate': 4.10109243697479e-05, 'epoch': 0.56}\n",
      "{'loss': 0.4477, 'grad_norm': 2.3647332191467285, 'learning_rate': 4.092773109243698e-05, 'epoch': 0.56}\n",
      "{'loss': 0.4477, 'grad_norm': 2.3647332191467285, 'learning_rate': 4.092773109243698e-05, 'epoch': 0.56}\n",
      "{'loss': 0.45, 'grad_norm': 2.3858702182769775, 'learning_rate': 4.0844537815126056e-05, 'epoch': 0.57}\n",
      "{'loss': 0.45, 'grad_norm': 2.3858702182769775, 'learning_rate': 4.0844537815126056e-05, 'epoch': 0.57}\n",
      "{'loss': 0.4416, 'grad_norm': 1.9924371242523193, 'learning_rate': 4.0760504201680674e-05, 'epoch': 0.57}\n",
      "{'loss': 0.4416, 'grad_norm': 1.9924371242523193, 'learning_rate': 4.0760504201680674e-05, 'epoch': 0.57}\n",
      "{'loss': 0.4424, 'grad_norm': 2.80249285697937, 'learning_rate': 4.067647058823529e-05, 'epoch': 0.58}\n",
      "{'loss': 0.4424, 'grad_norm': 2.80249285697937, 'learning_rate': 4.067647058823529e-05, 'epoch': 0.58}\n",
      "{'loss': 0.4575, 'grad_norm': 1.6762855052947998, 'learning_rate': 4.059243697478992e-05, 'epoch': 0.58}\n",
      "{'loss': 0.4575, 'grad_norm': 1.6762855052947998, 'learning_rate': 4.059243697478992e-05, 'epoch': 0.58}\n",
      "{'loss': 0.4548, 'grad_norm': 2.9981191158294678, 'learning_rate': 4.0508403361344535e-05, 'epoch': 0.59}\n",
      "{'loss': 0.4548, 'grad_norm': 2.9981191158294678, 'learning_rate': 4.0508403361344535e-05, 'epoch': 0.59}\n",
      "{'loss': 0.4596, 'grad_norm': 2.416048765182495, 'learning_rate': 4.042436974789916e-05, 'epoch': 0.59}\n",
      "{'loss': 0.4596, 'grad_norm': 2.416048765182495, 'learning_rate': 4.042436974789916e-05, 'epoch': 0.59}\n",
      "{'loss': 0.4459, 'grad_norm': 3.9751017093658447, 'learning_rate': 4.0340336134453784e-05, 'epoch': 0.6}\n",
      "{'loss': 0.4459, 'grad_norm': 3.9751017093658447, 'learning_rate': 4.0340336134453784e-05, 'epoch': 0.6}\n"
     ]
    },
    {
     "data": {
      "application/vnd.jupyter.widget-view+json": {
       "model_id": "4a217edf87b4497aaf3878fc31fd8b09",
       "version_major": 2,
       "version_minor": 0
      },
      "text/plain": [
       "  0%|          | 0/10000 [00:00<?, ?it/s]"
      ]
     },
     "metadata": {},
     "output_type": "display_data"
    },
    {
     "name": "stdout",
     "output_type": "stream",
     "text": [
      "{'eval_loss': 0.4554392695426941, 'eval_accuracy': 0.795790625, 'eval_precision': 0.7772609304423731, 'eval_recall': 0.82920625, 'eval_f1': 0.8023937609807283, 'eval_runtime': 460.0834, 'eval_samples_per_second': 695.526, 'eval_steps_per_second': 21.735, 'epoch': 0.6}\n",
      "{'loss': 0.4606, 'grad_norm': 2.2919673919677734, 'learning_rate': 4.02563025210084e-05, 'epoch': 0.6}\n",
      "{'loss': 0.4606, 'grad_norm': 2.2919673919677734, 'learning_rate': 4.02563025210084e-05, 'epoch': 0.6}\n",
      "{'loss': 0.4327, 'grad_norm': 2.183624029159546, 'learning_rate': 4.017226890756303e-05, 'epoch': 0.61}\n",
      "{'loss': 0.4327, 'grad_norm': 2.183624029159546, 'learning_rate': 4.017226890756303e-05, 'epoch': 0.61}\n",
      "{'loss': 0.4439, 'grad_norm': 2.248159408569336, 'learning_rate': 4.008823529411765e-05, 'epoch': 0.61}\n",
      "{'loss': 0.4439, 'grad_norm': 2.248159408569336, 'learning_rate': 4.008823529411765e-05, 'epoch': 0.61}\n",
      "{'loss': 0.45, 'grad_norm': 2.7300591468811035, 'learning_rate': 4.000420168067227e-05, 'epoch': 0.62}\n",
      "{'loss': 0.45, 'grad_norm': 2.7300591468811035, 'learning_rate': 4.000420168067227e-05, 'epoch': 0.62}\n",
      "{'loss': 0.4409, 'grad_norm': 2.3118348121643066, 'learning_rate': 3.9920168067226894e-05, 'epoch': 0.62}\n",
      "{'loss': 0.4409, 'grad_norm': 2.3118348121643066, 'learning_rate': 3.9920168067226894e-05, 'epoch': 0.62}\n",
      "{'loss': 0.4516, 'grad_norm': 1.9805166721343994, 'learning_rate': 3.983613445378151e-05, 'epoch': 0.63}\n",
      "{'loss': 0.4516, 'grad_norm': 1.9805166721343994, 'learning_rate': 3.983613445378151e-05, 'epoch': 0.63}\n",
      "{'loss': 0.4566, 'grad_norm': 1.8898078203201294, 'learning_rate': 3.975210084033614e-05, 'epoch': 0.64}\n",
      "{'loss': 0.4566, 'grad_norm': 1.8898078203201294, 'learning_rate': 3.975210084033614e-05, 'epoch': 0.64}\n",
      "{'loss': 0.4362, 'grad_norm': 2.3146650791168213, 'learning_rate': 3.966806722689076e-05, 'epoch': 0.64}\n",
      "{'loss': 0.4362, 'grad_norm': 2.3146650791168213, 'learning_rate': 3.966806722689076e-05, 'epoch': 0.64}\n",
      "{'loss': 0.4366, 'grad_norm': 1.8498986959457397, 'learning_rate': 3.958403361344538e-05, 'epoch': 0.65}\n",
      "{'loss': 0.4366, 'grad_norm': 1.8498986959457397, 'learning_rate': 3.958403361344538e-05, 'epoch': 0.65}\n",
      "{'loss': 0.4366, 'grad_norm': 3.11209774017334, 'learning_rate': 3.9500000000000005e-05, 'epoch': 0.65}\n",
      "{'loss': 0.4366, 'grad_norm': 3.11209774017334, 'learning_rate': 3.9500000000000005e-05, 'epoch': 0.65}\n"
     ]
    },
    {
     "data": {
      "application/vnd.jupyter.widget-view+json": {
       "model_id": "5b85f91c2f83402385e9678db80a93c9",
       "version_major": 2,
       "version_minor": 0
      },
      "text/plain": [
       "  0%|          | 0/10000 [00:00<?, ?it/s]"
      ]
     },
     "metadata": {},
     "output_type": "display_data"
    },
    {
     "name": "stdout",
     "output_type": "stream",
     "text": [
      "{'eval_loss': 0.4493575692176819, 'eval_accuracy': 0.794603125, 'eval_precision': 0.771885400504127, 'eval_recall': 0.83638125, 'eval_f1': 0.8028400961097163, 'eval_runtime': 459.8226, 'eval_samples_per_second': 695.92, 'eval_steps_per_second': 21.748, 'epoch': 0.65}\n",
      "{'loss': 0.4368, 'grad_norm': 2.2858080863952637, 'learning_rate': 3.941596638655462e-05, 'epoch': 0.66}\n",
      "{'loss': 0.4368, 'grad_norm': 2.2858080863952637, 'learning_rate': 3.941596638655462e-05, 'epoch': 0.66}\n",
      "{'loss': 0.449, 'grad_norm': 2.128659963607788, 'learning_rate': 3.933193277310925e-05, 'epoch': 0.66}\n",
      "{'loss': 0.449, 'grad_norm': 2.128659963607788, 'learning_rate': 3.933193277310925e-05, 'epoch': 0.66}\n",
      "{'loss': 0.449, 'grad_norm': 2.872817277908325, 'learning_rate': 3.924789915966387e-05, 'epoch': 0.67}\n",
      "{'loss': 0.449, 'grad_norm': 2.872817277908325, 'learning_rate': 3.924789915966387e-05, 'epoch': 0.67}\n",
      "{'loss': 0.4327, 'grad_norm': 2.0935707092285156, 'learning_rate': 3.916386554621848e-05, 'epoch': 0.67}\n",
      "{'loss': 0.4327, 'grad_norm': 2.0935707092285156, 'learning_rate': 3.916386554621848e-05, 'epoch': 0.67}\n",
      "{'loss': 0.4435, 'grad_norm': 1.8626936674118042, 'learning_rate': 3.907983193277311e-05, 'epoch': 0.68}\n",
      "{'loss': 0.4435, 'grad_norm': 1.8626936674118042, 'learning_rate': 3.907983193277311e-05, 'epoch': 0.68}\n",
      "{'loss': 0.4494, 'grad_norm': 3.0447957515716553, 'learning_rate': 3.899579831932773e-05, 'epoch': 0.68}\n",
      "{'loss': 0.4494, 'grad_norm': 3.0447957515716553, 'learning_rate': 3.899579831932773e-05, 'epoch': 0.68}\n",
      "{'loss': 0.439, 'grad_norm': 2.0821869373321533, 'learning_rate': 3.891176470588235e-05, 'epoch': 0.69}\n",
      "{'loss': 0.439, 'grad_norm': 2.0821869373321533, 'learning_rate': 3.891176470588235e-05, 'epoch': 0.69}\n",
      "{'loss': 0.4485, 'grad_norm': 3.527313470840454, 'learning_rate': 3.8827731092436976e-05, 'epoch': 0.69}\n",
      "{'loss': 0.4485, 'grad_norm': 3.527313470840454, 'learning_rate': 3.8827731092436976e-05, 'epoch': 0.69}\n",
      "{'loss': 0.4417, 'grad_norm': 2.3386008739471436, 'learning_rate': 3.87436974789916e-05, 'epoch': 0.69}\n",
      "{'loss': 0.4417, 'grad_norm': 2.3386008739471436, 'learning_rate': 3.87436974789916e-05, 'epoch': 0.69}\n",
      "{'loss': 0.4478, 'grad_norm': 2.197178363800049, 'learning_rate': 3.865966386554622e-05, 'epoch': 0.7}\n",
      "{'loss': 0.4478, 'grad_norm': 2.197178363800049, 'learning_rate': 3.865966386554622e-05, 'epoch': 0.7}\n"
     ]
    },
    {
     "data": {
      "application/vnd.jupyter.widget-view+json": {
       "model_id": "9674b52cc42044d69e2f9cfe583215bd",
       "version_major": 2,
       "version_minor": 0
      },
      "text/plain": [
       "  0%|          | 0/10000 [00:00<?, ?it/s]"
      ]
     },
     "metadata": {},
     "output_type": "display_data"
    },
    {
     "name": "stdout",
     "output_type": "stream",
     "text": [
      "{'eval_loss': 0.45367223024368286, 'eval_accuracy': 0.79159375, 'eval_precision': 0.8357054455445545, 'eval_recall': 0.72589375, 'eval_f1': 0.7769386171465268, 'eval_runtime': 459.0924, 'eval_samples_per_second': 697.027, 'eval_steps_per_second': 21.782, 'epoch': 0.7}\n",
      "{'loss': 0.4296, 'grad_norm': 2.4243907928466797, 'learning_rate': 3.857563025210084e-05, 'epoch': 0.7}\n",
      "{'loss': 0.4296, 'grad_norm': 2.4243907928466797, 'learning_rate': 3.857563025210084e-05, 'epoch': 0.7}\n",
      "{'loss': 0.4431, 'grad_norm': 2.3370189666748047, 'learning_rate': 3.849159663865546e-05, 'epoch': 0.71}\n",
      "{'loss': 0.4431, 'grad_norm': 2.3370189666748047, 'learning_rate': 3.849159663865546e-05, 'epoch': 0.71}\n",
      "{'loss': 0.4571, 'grad_norm': 2.740410804748535, 'learning_rate': 3.8407563025210086e-05, 'epoch': 0.71}\n",
      "{'loss': 0.4571, 'grad_norm': 2.740410804748535, 'learning_rate': 3.8407563025210086e-05, 'epoch': 0.71}\n",
      "{'loss': 0.4291, 'grad_norm': 2.027608871459961, 'learning_rate': 3.832352941176471e-05, 'epoch': 0.72}\n",
      "{'loss': 0.4291, 'grad_norm': 2.027608871459961, 'learning_rate': 3.832352941176471e-05, 'epoch': 0.72}\n",
      "{'loss': 0.4382, 'grad_norm': 2.051574945449829, 'learning_rate': 3.823949579831933e-05, 'epoch': 0.72}\n",
      "{'loss': 0.4382, 'grad_norm': 2.051574945449829, 'learning_rate': 3.823949579831933e-05, 'epoch': 0.72}\n",
      "{'loss': 0.4379, 'grad_norm': 2.6761040687561035, 'learning_rate': 3.8155462184873953e-05, 'epoch': 0.73}\n",
      "{'loss': 0.4379, 'grad_norm': 2.6761040687561035, 'learning_rate': 3.8155462184873953e-05, 'epoch': 0.73}\n",
      "{'loss': 0.4318, 'grad_norm': 2.131862163543701, 'learning_rate': 3.807142857142857e-05, 'epoch': 0.73}\n",
      "{'loss': 0.4318, 'grad_norm': 2.131862163543701, 'learning_rate': 3.807142857142857e-05, 'epoch': 0.73}\n",
      "{'loss': 0.4355, 'grad_norm': 2.1094274520874023, 'learning_rate': 3.7987394957983196e-05, 'epoch': 0.74}\n",
      "{'loss': 0.4355, 'grad_norm': 2.1094274520874023, 'learning_rate': 3.7987394957983196e-05, 'epoch': 0.74}\n",
      "{'loss': 0.4419, 'grad_norm': 2.9610447883605957, 'learning_rate': 3.790336134453782e-05, 'epoch': 0.74}\n",
      "{'loss': 0.4419, 'grad_norm': 2.9610447883605957, 'learning_rate': 3.790336134453782e-05, 'epoch': 0.74}\n",
      "{'loss': 0.4359, 'grad_norm': 2.4196736812591553, 'learning_rate': 3.781932773109244e-05, 'epoch': 0.75}\n",
      "{'loss': 0.4359, 'grad_norm': 2.4196736812591553, 'learning_rate': 3.781932773109244e-05, 'epoch': 0.75}\n"
     ]
    },
    {
     "data": {
      "application/vnd.jupyter.widget-view+json": {
       "model_id": "827f64bdb2de443c8f4cd29f918b4a68",
       "version_major": 2,
       "version_minor": 0
      },
      "text/plain": [
       "  0%|          | 0/10000 [00:00<?, ?it/s]"
      ]
     },
     "metadata": {},
     "output_type": "display_data"
    },
    {
     "name": "stdout",
     "output_type": "stream",
     "text": [
      "{'eval_loss': 0.4352264702320099, 'eval_accuracy': 0.797809375, 'eval_precision': 0.8060477991945688, 'eval_recall': 0.78435, 'eval_f1': 0.7950508880462982, 'eval_runtime': 460.0427, 'eval_samples_per_second': 695.588, 'eval_steps_per_second': 21.737, 'epoch': 0.75}\n",
      "{'loss': 0.4452, 'grad_norm': 3.3800933361053467, 'learning_rate': 3.7735294117647064e-05, 'epoch': 0.76}\n",
      "{'loss': 0.4452, 'grad_norm': 3.3800933361053467, 'learning_rate': 3.7735294117647064e-05, 'epoch': 0.76}\n",
      "{'loss': 0.4478, 'grad_norm': 2.1834442615509033, 'learning_rate': 3.765126050420168e-05, 'epoch': 0.76}\n",
      "{'loss': 0.4478, 'grad_norm': 2.1834442615509033, 'learning_rate': 3.765126050420168e-05, 'epoch': 0.76}\n",
      "{'loss': 0.4437, 'grad_norm': 2.6293766498565674, 'learning_rate': 3.75672268907563e-05, 'epoch': 0.77}\n",
      "{'loss': 0.4437, 'grad_norm': 2.6293766498565674, 'learning_rate': 3.75672268907563e-05, 'epoch': 0.77}\n",
      "{'loss': 0.4443, 'grad_norm': 1.8214219808578491, 'learning_rate': 3.7483193277310924e-05, 'epoch': 0.77}\n",
      "{'loss': 0.4443, 'grad_norm': 1.8214219808578491, 'learning_rate': 3.7483193277310924e-05, 'epoch': 0.77}\n",
      "{'loss': 0.4365, 'grad_norm': 2.60310435295105, 'learning_rate': 3.74e-05, 'epoch': 0.78}\n",
      "{'loss': 0.4365, 'grad_norm': 2.60310435295105, 'learning_rate': 3.74e-05, 'epoch': 0.78}\n",
      "{'loss': 0.4356, 'grad_norm': 1.6548395156860352, 'learning_rate': 3.7315966386554626e-05, 'epoch': 0.78}\n",
      "{'loss': 0.4356, 'grad_norm': 1.6548395156860352, 'learning_rate': 3.7315966386554626e-05, 'epoch': 0.78}\n",
      "{'loss': 0.4391, 'grad_norm': 2.1233630180358887, 'learning_rate': 3.7231932773109244e-05, 'epoch': 0.79}\n",
      "{'loss': 0.4391, 'grad_norm': 2.1233630180358887, 'learning_rate': 3.7231932773109244e-05, 'epoch': 0.79}\n",
      "{'loss': 0.4594, 'grad_norm': 4.942968368530273, 'learning_rate': 3.714789915966387e-05, 'epoch': 0.79}\n",
      "{'loss': 0.4594, 'grad_norm': 4.942968368530273, 'learning_rate': 3.714789915966387e-05, 'epoch': 0.79}\n",
      "{'loss': 0.4463, 'grad_norm': 3.285736560821533, 'learning_rate': 3.706386554621849e-05, 'epoch': 0.8}\n",
      "{'loss': 0.4463, 'grad_norm': 3.285736560821533, 'learning_rate': 3.706386554621849e-05, 'epoch': 0.8}\n",
      "{'loss': 0.4456, 'grad_norm': 2.1971046924591064, 'learning_rate': 3.697983193277311e-05, 'epoch': 0.8}\n",
      "{'loss': 0.4456, 'grad_norm': 2.1971046924591064, 'learning_rate': 3.697983193277311e-05, 'epoch': 0.8}\n"
     ]
    },
    {
     "data": {
      "application/vnd.jupyter.widget-view+json": {
       "model_id": "f0cb1b663b344da59a1132125f8e74a6",
       "version_major": 2,
       "version_minor": 0
      },
      "text/plain": [
       "  0%|          | 0/10000 [00:00<?, ?it/s]"
      ]
     },
     "metadata": {},
     "output_type": "display_data"
    },
    {
     "name": "stdout",
     "output_type": "stream",
     "text": [
      "{'eval_loss': 0.4350550174713135, 'eval_accuracy': 0.799275, 'eval_precision': 0.796440289729462, 'eval_recall': 0.80405625, 'eval_f1': 0.8002301495972381, 'eval_runtime': 459.2607, 'eval_samples_per_second': 696.772, 'eval_steps_per_second': 21.774, 'epoch': 0.8}\n",
      "{'loss': 0.4522, 'grad_norm': 2.2131259441375732, 'learning_rate': 3.6895798319327736e-05, 'epoch': 0.81}\n",
      "{'loss': 0.4522, 'grad_norm': 2.2131259441375732, 'learning_rate': 3.6895798319327736e-05, 'epoch': 0.81}\n",
      "{'loss': 0.4461, 'grad_norm': 2.015760898590088, 'learning_rate': 3.6811764705882354e-05, 'epoch': 0.81}\n",
      "{'loss': 0.4461, 'grad_norm': 2.015760898590088, 'learning_rate': 3.6811764705882354e-05, 'epoch': 0.81}\n",
      "{'loss': 0.4442, 'grad_norm': 1.7729506492614746, 'learning_rate': 3.672773109243698e-05, 'epoch': 0.81}\n",
      "{'loss': 0.4442, 'grad_norm': 1.7729506492614746, 'learning_rate': 3.672773109243698e-05, 'epoch': 0.81}\n",
      "{'loss': 0.4367, 'grad_norm': 2.7835874557495117, 'learning_rate': 3.6643697478991604e-05, 'epoch': 0.82}\n",
      "{'loss': 0.4367, 'grad_norm': 2.7835874557495117, 'learning_rate': 3.6643697478991604e-05, 'epoch': 0.82}\n",
      "{'loss': 0.4384, 'grad_norm': 1.8730295896530151, 'learning_rate': 3.6559663865546215e-05, 'epoch': 0.82}\n",
      "{'loss': 0.4384, 'grad_norm': 1.8730295896530151, 'learning_rate': 3.6559663865546215e-05, 'epoch': 0.82}\n",
      "{'loss': 0.441, 'grad_norm': 2.0212464332580566, 'learning_rate': 3.647563025210084e-05, 'epoch': 0.83}\n",
      "{'loss': 0.441, 'grad_norm': 2.0212464332580566, 'learning_rate': 3.647563025210084e-05, 'epoch': 0.83}\n",
      "{'loss': 0.4272, 'grad_norm': 2.658646821975708, 'learning_rate': 3.6391596638655464e-05, 'epoch': 0.83}\n",
      "{'loss': 0.4272, 'grad_norm': 2.658646821975708, 'learning_rate': 3.6391596638655464e-05, 'epoch': 0.83}\n",
      "{'loss': 0.4455, 'grad_norm': 2.681143045425415, 'learning_rate': 3.630756302521008e-05, 'epoch': 0.84}\n",
      "{'loss': 0.4455, 'grad_norm': 2.681143045425415, 'learning_rate': 3.630756302521008e-05, 'epoch': 0.84}\n",
      "{'loss': 0.4357, 'grad_norm': 2.453977346420288, 'learning_rate': 3.622352941176471e-05, 'epoch': 0.84}\n",
      "{'loss': 0.4357, 'grad_norm': 2.453977346420288, 'learning_rate': 3.622352941176471e-05, 'epoch': 0.84}\n",
      "{'loss': 0.4418, 'grad_norm': 2.1620895862579346, 'learning_rate': 3.6139495798319325e-05, 'epoch': 0.85}\n",
      "{'loss': 0.4418, 'grad_norm': 2.1620895862579346, 'learning_rate': 3.6139495798319325e-05, 'epoch': 0.85}\n"
     ]
    },
    {
     "data": {
      "application/vnd.jupyter.widget-view+json": {
       "model_id": "6118aa6fce1144e2a427429fe30295b2",
       "version_major": 2,
       "version_minor": 0
      },
      "text/plain": [
       "  0%|          | 0/10000 [00:00<?, ?it/s]"
      ]
     },
     "metadata": {},
     "output_type": "display_data"
    },
    {
     "name": "stdout",
     "output_type": "stream",
     "text": [
      "{'eval_loss': 0.4327954947948456, 'eval_accuracy': 0.798203125, 'eval_precision': 0.8097671187519071, 'eval_recall': 0.7795375, 'eval_f1': 0.7943648157642496, 'eval_runtime': 461.0949, 'eval_samples_per_second': 694.0, 'eval_steps_per_second': 21.688, 'epoch': 0.85}\n",
      "{'loss': 0.4365, 'grad_norm': 2.8432998657226562, 'learning_rate': 3.605546218487395e-05, 'epoch': 0.85}\n",
      "{'loss': 0.4365, 'grad_norm': 2.8432998657226562, 'learning_rate': 3.605546218487395e-05, 'epoch': 0.85}\n",
      "{'loss': 0.4297, 'grad_norm': 2.5325803756713867, 'learning_rate': 3.5971428571428575e-05, 'epoch': 0.86}\n",
      "{'loss': 0.4297, 'grad_norm': 2.5325803756713867, 'learning_rate': 3.5971428571428575e-05, 'epoch': 0.86}\n",
      "{'loss': 0.4318, 'grad_norm': 1.8279707431793213, 'learning_rate': 3.588739495798319e-05, 'epoch': 0.86}\n",
      "{'loss': 0.4318, 'grad_norm': 1.8279707431793213, 'learning_rate': 3.588739495798319e-05, 'epoch': 0.86}\n",
      "{'loss': 0.4409, 'grad_norm': 2.060617685317993, 'learning_rate': 3.580336134453782e-05, 'epoch': 0.87}\n",
      "{'loss': 0.4409, 'grad_norm': 2.060617685317993, 'learning_rate': 3.580336134453782e-05, 'epoch': 0.87}\n",
      "{'loss': 0.4386, 'grad_norm': 2.742687702178955, 'learning_rate': 3.571932773109244e-05, 'epoch': 0.88}\n",
      "{'loss': 0.4386, 'grad_norm': 2.742687702178955, 'learning_rate': 3.571932773109244e-05, 'epoch': 0.88}\n",
      "{'loss': 0.4461, 'grad_norm': 2.956928014755249, 'learning_rate': 3.563529411764706e-05, 'epoch': 0.88}\n",
      "{'loss': 0.4461, 'grad_norm': 2.956928014755249, 'learning_rate': 3.563529411764706e-05, 'epoch': 0.88}\n",
      "{'loss': 0.4402, 'grad_norm': 2.5327200889587402, 'learning_rate': 3.5551260504201685e-05, 'epoch': 0.89}\n",
      "{'loss': 0.4402, 'grad_norm': 2.5327200889587402, 'learning_rate': 3.5551260504201685e-05, 'epoch': 0.89}\n",
      "{'loss': 0.4389, 'grad_norm': 3.2422733306884766, 'learning_rate': 3.54672268907563e-05, 'epoch': 0.89}\n",
      "{'loss': 0.4389, 'grad_norm': 3.2422733306884766, 'learning_rate': 3.54672268907563e-05, 'epoch': 0.89}\n",
      "{'loss': 0.4477, 'grad_norm': 1.6358481645584106, 'learning_rate': 3.538319327731093e-05, 'epoch': 0.9}\n",
      "{'loss': 0.4477, 'grad_norm': 1.6358481645584106, 'learning_rate': 3.538319327731093e-05, 'epoch': 0.9}\n",
      "{'loss': 0.4224, 'grad_norm': 2.048356533050537, 'learning_rate': 3.529915966386555e-05, 'epoch': 0.9}\n",
      "{'loss': 0.4224, 'grad_norm': 2.048356533050537, 'learning_rate': 3.529915966386555e-05, 'epoch': 0.9}\n"
     ]
    },
    {
     "data": {
      "application/vnd.jupyter.widget-view+json": {
       "model_id": "c66fa1b400bc4967aac27370a4ce9ffe",
       "version_major": 2,
       "version_minor": 0
      },
      "text/plain": [
       "  0%|          | 0/10000 [00:00<?, ?it/s]"
      ]
     },
     "metadata": {},
     "output_type": "display_data"
    },
    {
     "name": "stdout",
     "output_type": "stream",
     "text": [
      "{'eval_loss': 0.43204957246780396, 'eval_accuracy': 0.79993125, 'eval_precision': 0.7909552796236116, 'eval_recall': 0.81535625, 'eval_f1': 0.8029704311002782, 'eval_runtime': 459.1948, 'eval_samples_per_second': 696.872, 'eval_steps_per_second': 21.777, 'epoch': 0.9}\n",
      "{'loss': 0.4405, 'grad_norm': 2.615767478942871, 'learning_rate': 3.521512605042017e-05, 'epoch': 0.91}\n",
      "{'loss': 0.4405, 'grad_norm': 2.615767478942871, 'learning_rate': 3.521512605042017e-05, 'epoch': 0.91}\n",
      "{'loss': 0.4386, 'grad_norm': 2.0484445095062256, 'learning_rate': 3.5131092436974795e-05, 'epoch': 0.91}\n",
      "{'loss': 0.4386, 'grad_norm': 2.0484445095062256, 'learning_rate': 3.5131092436974795e-05, 'epoch': 0.91}\n",
      "{'loss': 0.4283, 'grad_norm': 2.149845838546753, 'learning_rate': 3.504705882352941e-05, 'epoch': 0.92}\n",
      "{'loss': 0.4283, 'grad_norm': 2.149845838546753, 'learning_rate': 3.504705882352941e-05, 'epoch': 0.92}\n",
      "{'loss': 0.4286, 'grad_norm': 1.8235005140304565, 'learning_rate': 3.496302521008403e-05, 'epoch': 0.92}\n",
      "{'loss': 0.4286, 'grad_norm': 1.8235005140304565, 'learning_rate': 3.496302521008403e-05, 'epoch': 0.92}\n",
      "{'loss': 0.4418, 'grad_norm': 3.0200164318084717, 'learning_rate': 3.4878991596638656e-05, 'epoch': 0.93}\n",
      "{'loss': 0.4418, 'grad_norm': 3.0200164318084717, 'learning_rate': 3.4878991596638656e-05, 'epoch': 0.93}\n",
      "{'loss': 0.4391, 'grad_norm': 2.3370611667633057, 'learning_rate': 3.4794957983193274e-05, 'epoch': 0.93}\n",
      "{'loss': 0.4391, 'grad_norm': 2.3370611667633057, 'learning_rate': 3.4794957983193274e-05, 'epoch': 0.93}\n",
      "{'loss': 0.442, 'grad_norm': 2.8917016983032227, 'learning_rate': 3.47109243697479e-05, 'epoch': 0.94}\n",
      "{'loss': 0.442, 'grad_norm': 2.8917016983032227, 'learning_rate': 3.47109243697479e-05, 'epoch': 0.94}\n",
      "{'loss': 0.4453, 'grad_norm': 3.294978618621826, 'learning_rate': 3.462689075630252e-05, 'epoch': 0.94}\n",
      "{'loss': 0.4453, 'grad_norm': 3.294978618621826, 'learning_rate': 3.462689075630252e-05, 'epoch': 0.94}\n",
      "{'loss': 0.4287, 'grad_norm': 2.182047128677368, 'learning_rate': 3.454285714285714e-05, 'epoch': 0.94}\n",
      "{'loss': 0.4287, 'grad_norm': 2.182047128677368, 'learning_rate': 3.454285714285714e-05, 'epoch': 0.94}\n",
      "{'loss': 0.4411, 'grad_norm': 1.9141372442245483, 'learning_rate': 3.4458823529411766e-05, 'epoch': 0.95}\n",
      "{'loss': 0.4411, 'grad_norm': 1.9141372442245483, 'learning_rate': 3.4458823529411766e-05, 'epoch': 0.95}\n"
     ]
    },
    {
     "data": {
      "application/vnd.jupyter.widget-view+json": {
       "model_id": "da25052799d24c6c968755ed8d6442c7",
       "version_major": 2,
       "version_minor": 0
      },
      "text/plain": [
       "  0%|          | 0/10000 [00:00<?, ?it/s]"
      ]
     },
     "metadata": {},
     "output_type": "display_data"
    },
    {
     "name": "stdout",
     "output_type": "stream",
     "text": [
      "{'eval_loss': 0.43666914105415344, 'eval_accuracy': 0.798640625, 'eval_precision': 0.8158818512960527, 'eval_recall': 0.77135, 'eval_f1': 0.7929912261820238, 'eval_runtime': 459.3161, 'eval_samples_per_second': 696.688, 'eval_steps_per_second': 21.772, 'epoch': 0.95}\n",
      "{'loss': 0.4554, 'grad_norm': 1.9672211408615112, 'learning_rate': 3.437478991596639e-05, 'epoch': 0.95}\n",
      "{'loss': 0.4554, 'grad_norm': 1.9672211408615112, 'learning_rate': 3.437478991596639e-05, 'epoch': 0.95}\n",
      "{'loss': 0.4463, 'grad_norm': 2.6686348915100098, 'learning_rate': 3.429075630252101e-05, 'epoch': 0.96}\n",
      "{'loss': 0.4463, 'grad_norm': 2.6686348915100098, 'learning_rate': 3.429075630252101e-05, 'epoch': 0.96}\n",
      "{'loss': 0.4401, 'grad_norm': 2.4495415687561035, 'learning_rate': 3.4207563025210085e-05, 'epoch': 0.96}\n",
      "{'loss': 0.4401, 'grad_norm': 2.4495415687561035, 'learning_rate': 3.4207563025210085e-05, 'epoch': 0.96}\n",
      "{'loss': 0.4394, 'grad_norm': 2.2450971603393555, 'learning_rate': 3.412352941176471e-05, 'epoch': 0.97}\n",
      "{'loss': 0.4394, 'grad_norm': 2.2450971603393555, 'learning_rate': 3.412352941176471e-05, 'epoch': 0.97}\n",
      "{'loss': 0.4367, 'grad_norm': 2.751793622970581, 'learning_rate': 3.4039495798319335e-05, 'epoch': 0.97}\n",
      "{'loss': 0.4367, 'grad_norm': 2.751793622970581, 'learning_rate': 3.4039495798319335e-05, 'epoch': 0.97}\n",
      "{'loss': 0.4354, 'grad_norm': 1.5285145044326782, 'learning_rate': 3.3955462184873946e-05, 'epoch': 0.98}\n",
      "{'loss': 0.4354, 'grad_norm': 1.5285145044326782, 'learning_rate': 3.3955462184873946e-05, 'epoch': 0.98}\n",
      "{'loss': 0.4287, 'grad_norm': 2.5598137378692627, 'learning_rate': 3.387142857142857e-05, 'epoch': 0.98}\n",
      "{'loss': 0.4287, 'grad_norm': 2.5598137378692627, 'learning_rate': 3.387142857142857e-05, 'epoch': 0.98}\n",
      "{'loss': 0.4369, 'grad_norm': 2.171717882156372, 'learning_rate': 3.3787394957983196e-05, 'epoch': 0.99}\n",
      "{'loss': 0.4369, 'grad_norm': 2.171717882156372, 'learning_rate': 3.3787394957983196e-05, 'epoch': 0.99}\n",
      "{'loss': 0.4323, 'grad_norm': 2.9283547401428223, 'learning_rate': 3.3703361344537814e-05, 'epoch': 0.99}\n",
      "{'loss': 0.4323, 'grad_norm': 2.9283547401428223, 'learning_rate': 3.3703361344537814e-05, 'epoch': 0.99}\n",
      "{'loss': 0.426, 'grad_norm': 3.007032871246338, 'learning_rate': 3.361932773109244e-05, 'epoch': 1.0}\n",
      "{'loss': 0.426, 'grad_norm': 3.007032871246338, 'learning_rate': 3.361932773109244e-05, 'epoch': 1.0}\n"
     ]
    },
    {
     "data": {
      "application/vnd.jupyter.widget-view+json": {
       "model_id": "e625b3be8f324f0fbe0ee965652f8774",
       "version_major": 2,
       "version_minor": 0
      },
      "text/plain": [
       "  0%|          | 0/10000 [00:00<?, ?it/s]"
      ]
     },
     "metadata": {},
     "output_type": "display_data"
    },
    {
     "name": "stdout",
     "output_type": "stream",
     "text": [
      "{'eval_loss': 0.43912357091903687, 'eval_accuracy': 0.800946875, 'eval_precision': 0.817398010638929, 'eval_recall': 0.77503125, 'eval_f1': 0.7956510440894815, 'eval_runtime': 459.4627, 'eval_samples_per_second': 696.466, 'eval_steps_per_second': 21.765, 'epoch': 1.0}\n",
      "{'loss': 0.4126, 'grad_norm': 2.3359766006469727, 'learning_rate': 3.3535294117647056e-05, 'epoch': 1.0}\n",
      "{'loss': 0.4126, 'grad_norm': 2.3359766006469727, 'learning_rate': 3.3535294117647056e-05, 'epoch': 1.0}\n",
      "{'loss': 0.419, 'grad_norm': 2.5172626972198486, 'learning_rate': 3.345126050420168e-05, 'epoch': 1.01}\n",
      "{'loss': 0.419, 'grad_norm': 2.5172626972198486, 'learning_rate': 3.345126050420168e-05, 'epoch': 1.01}\n",
      "{'loss': 0.4137, 'grad_norm': 2.4191877841949463, 'learning_rate': 3.3367226890756306e-05, 'epoch': 1.01}\n",
      "{'loss': 0.4137, 'grad_norm': 2.4191877841949463, 'learning_rate': 3.3367226890756306e-05, 'epoch': 1.01}\n",
      "{'loss': 0.4037, 'grad_norm': 2.2210683822631836, 'learning_rate': 3.3283193277310924e-05, 'epoch': 1.02}\n",
      "{'loss': 0.4037, 'grad_norm': 2.2210683822631836, 'learning_rate': 3.3283193277310924e-05, 'epoch': 1.02}\n",
      "{'loss': 0.416, 'grad_norm': 2.9186980724334717, 'learning_rate': 3.319915966386555e-05, 'epoch': 1.02}\n",
      "{'loss': 0.416, 'grad_norm': 2.9186980724334717, 'learning_rate': 3.319915966386555e-05, 'epoch': 1.02}\n",
      "{'loss': 0.4047, 'grad_norm': 2.5663256645202637, 'learning_rate': 3.311512605042017e-05, 'epoch': 1.03}\n",
      "{'loss': 0.4047, 'grad_norm': 2.5663256645202637, 'learning_rate': 3.311512605042017e-05, 'epoch': 1.03}\n",
      "{'loss': 0.4209, 'grad_norm': 3.323120355606079, 'learning_rate': 3.303109243697479e-05, 'epoch': 1.03}\n",
      "{'loss': 0.4209, 'grad_norm': 3.323120355606079, 'learning_rate': 3.303109243697479e-05, 'epoch': 1.03}\n",
      "{'loss': 0.4072, 'grad_norm': 2.2718966007232666, 'learning_rate': 3.2947058823529416e-05, 'epoch': 1.04}\n",
      "{'loss': 0.4072, 'grad_norm': 2.2718966007232666, 'learning_rate': 3.2947058823529416e-05, 'epoch': 1.04}\n",
      "{'loss': 0.4022, 'grad_norm': 2.3363819122314453, 'learning_rate': 3.2863025210084034e-05, 'epoch': 1.04}\n",
      "{'loss': 0.4022, 'grad_norm': 2.3363819122314453, 'learning_rate': 3.2863025210084034e-05, 'epoch': 1.04}\n",
      "{'loss': 0.4025, 'grad_norm': 3.296738862991333, 'learning_rate': 3.277899159663866e-05, 'epoch': 1.05}\n",
      "{'loss': 0.4025, 'grad_norm': 3.296738862991333, 'learning_rate': 3.277899159663866e-05, 'epoch': 1.05}\n"
     ]
    },
    {
     "data": {
      "application/vnd.jupyter.widget-view+json": {
       "model_id": "b2425a916d7d4a0aa8ee43b67bc7d323",
       "version_major": 2,
       "version_minor": 0
      },
      "text/plain": [
       "  0%|          | 0/10000 [00:00<?, ?it/s]"
      ]
     },
     "metadata": {},
     "output_type": "display_data"
    },
    {
     "name": "stdout",
     "output_type": "stream",
     "text": [
      "{'eval_loss': 0.43375062942504883, 'eval_accuracy': 0.80103125, 'eval_precision': 0.8062918118688475, 'eval_recall': 0.79244375, 'eval_f1': 0.7993078057821542, 'eval_runtime': 466.9221, 'eval_samples_per_second': 685.339, 'eval_steps_per_second': 21.417, 'epoch': 1.05}\n",
      "{'loss': 0.4062, 'grad_norm': 3.6481587886810303, 'learning_rate': 3.2694957983193284e-05, 'epoch': 1.05}\n",
      "{'loss': 0.4062, 'grad_norm': 3.6481587886810303, 'learning_rate': 3.2694957983193284e-05, 'epoch': 1.05}\n",
      "{'loss': 0.4208, 'grad_norm': 2.348864793777466, 'learning_rate': 3.26109243697479e-05, 'epoch': 1.06}\n",
      "{'loss': 0.4208, 'grad_norm': 2.348864793777466, 'learning_rate': 3.26109243697479e-05, 'epoch': 1.06}\n",
      "{'loss': 0.399, 'grad_norm': 2.143636465072632, 'learning_rate': 3.2526890756302526e-05, 'epoch': 1.06}\n",
      "{'loss': 0.399, 'grad_norm': 2.143636465072632, 'learning_rate': 3.2526890756302526e-05, 'epoch': 1.06}\n",
      "{'loss': 0.3892, 'grad_norm': 2.692420721054077, 'learning_rate': 3.2442857142857144e-05, 'epoch': 1.07}\n",
      "{'loss': 0.3892, 'grad_norm': 2.692420721054077, 'learning_rate': 3.2442857142857144e-05, 'epoch': 1.07}\n",
      "{'loss': 0.4023, 'grad_norm': 2.869593858718872, 'learning_rate': 3.235882352941176e-05, 'epoch': 1.07}\n",
      "{'loss': 0.4023, 'grad_norm': 2.869593858718872, 'learning_rate': 3.235882352941176e-05, 'epoch': 1.07}\n",
      "{'loss': 0.4031, 'grad_norm': 3.3349533081054688, 'learning_rate': 3.227478991596639e-05, 'epoch': 1.08}\n",
      "{'loss': 0.4031, 'grad_norm': 3.3349533081054688, 'learning_rate': 3.227478991596639e-05, 'epoch': 1.08}\n",
      "{'loss': 0.4082, 'grad_norm': 2.468417167663574, 'learning_rate': 3.2190756302521005e-05, 'epoch': 1.08}\n",
      "{'loss': 0.4082, 'grad_norm': 2.468417167663574, 'learning_rate': 3.2190756302521005e-05, 'epoch': 1.08}\n",
      "{'loss': 0.4082, 'grad_norm': 2.3161768913269043, 'learning_rate': 3.210756302521009e-05, 'epoch': 1.09}\n",
      "{'loss': 0.4082, 'grad_norm': 2.3161768913269043, 'learning_rate': 3.210756302521009e-05, 'epoch': 1.09}\n",
      "{'loss': 0.4149, 'grad_norm': 2.825655460357666, 'learning_rate': 3.2023529411764707e-05, 'epoch': 1.09}\n",
      "{'loss': 0.4149, 'grad_norm': 2.825655460357666, 'learning_rate': 3.2023529411764707e-05, 'epoch': 1.09}\n",
      "{'loss': 0.4111, 'grad_norm': 2.595522165298462, 'learning_rate': 3.193949579831933e-05, 'epoch': 1.1}\n",
      "{'loss': 0.4111, 'grad_norm': 2.595522165298462, 'learning_rate': 3.193949579831933e-05, 'epoch': 1.1}\n"
     ]
    },
    {
     "data": {
      "application/vnd.jupyter.widget-view+json": {
       "model_id": "4f973b6d2fee40398b2dd9ad7bc306bf",
       "version_major": 2,
       "version_minor": 0
      },
      "text/plain": [
       "  0%|          | 0/10000 [00:00<?, ?it/s]"
      ]
     },
     "metadata": {},
     "output_type": "display_data"
    },
    {
     "name": "stdout",
     "output_type": "stream",
     "text": [
      "{'eval_loss': 0.4316031336784363, 'eval_accuracy': 0.801659375, 'eval_precision': 0.796717179479298, 'eval_recall': 0.8099875, 'eval_f1': 0.803297537693893, 'eval_runtime': 478.4037, 'eval_samples_per_second': 668.891, 'eval_steps_per_second': 20.903, 'epoch': 1.1}\n",
      "{'loss': 0.4065, 'grad_norm': 3.202625274658203, 'learning_rate': 3.185546218487395e-05, 'epoch': 1.1}\n",
      "{'loss': 0.4065, 'grad_norm': 3.202625274658203, 'learning_rate': 3.185546218487395e-05, 'epoch': 1.1}\n",
      "{'loss': 0.4154, 'grad_norm': 2.5161077976226807, 'learning_rate': 3.1771428571428574e-05, 'epoch': 1.11}\n",
      "{'loss': 0.4154, 'grad_norm': 2.5161077976226807, 'learning_rate': 3.1771428571428574e-05, 'epoch': 1.11}\n",
      "{'loss': 0.4013, 'grad_norm': 4.374990463256836, 'learning_rate': 3.16873949579832e-05, 'epoch': 1.11}\n",
      "{'loss': 0.4013, 'grad_norm': 4.374990463256836, 'learning_rate': 3.16873949579832e-05, 'epoch': 1.11}\n",
      "{'loss': 0.4073, 'grad_norm': 2.5523362159729004, 'learning_rate': 3.160336134453782e-05, 'epoch': 1.12}\n",
      "{'loss': 0.4073, 'grad_norm': 2.5523362159729004, 'learning_rate': 3.160336134453782e-05, 'epoch': 1.12}\n",
      "{'loss': 0.4252, 'grad_norm': 3.691282272338867, 'learning_rate': 3.151932773109244e-05, 'epoch': 1.12}\n",
      "{'loss': 0.4252, 'grad_norm': 3.691282272338867, 'learning_rate': 3.151932773109244e-05, 'epoch': 1.12}\n",
      "{'loss': 0.4098, 'grad_norm': 2.1268317699432373, 'learning_rate': 3.143529411764706e-05, 'epoch': 1.13}\n",
      "{'loss': 0.4098, 'grad_norm': 2.1268317699432373, 'learning_rate': 3.143529411764706e-05, 'epoch': 1.13}\n",
      "{'loss': 0.4148, 'grad_norm': 2.200582981109619, 'learning_rate': 3.1351260504201684e-05, 'epoch': 1.14}\n",
      "{'loss': 0.4148, 'grad_norm': 2.200582981109619, 'learning_rate': 3.1351260504201684e-05, 'epoch': 1.14}\n",
      "{'loss': 0.4112, 'grad_norm': 4.035277366638184, 'learning_rate': 3.12672268907563e-05, 'epoch': 1.14}\n",
      "{'loss': 0.4112, 'grad_norm': 4.035277366638184, 'learning_rate': 3.12672268907563e-05, 'epoch': 1.14}\n",
      "{'loss': 0.4224, 'grad_norm': 2.772571563720703, 'learning_rate': 3.118319327731092e-05, 'epoch': 1.15}\n",
      "{'loss': 0.4224, 'grad_norm': 2.772571563720703, 'learning_rate': 3.118319327731092e-05, 'epoch': 1.15}\n",
      "{'loss': 0.4126, 'grad_norm': 2.3862149715423584, 'learning_rate': 3.1099159663865545e-05, 'epoch': 1.15}\n",
      "{'loss': 0.4126, 'grad_norm': 2.3862149715423584, 'learning_rate': 3.1099159663865545e-05, 'epoch': 1.15}\n"
     ]
    },
    {
     "data": {
      "application/vnd.jupyter.widget-view+json": {
       "model_id": "5f129460f00948ebabd57f4ef368a487",
       "version_major": 2,
       "version_minor": 0
      },
      "text/plain": [
       "  0%|          | 0/10000 [00:00<?, ?it/s]"
      ]
     },
     "metadata": {},
     "output_type": "display_data"
    },
    {
     "name": "stdout",
     "output_type": "stream",
     "text": [
      "{'eval_loss': 0.43946024775505066, 'eval_accuracy': 0.797615625, 'eval_precision': 0.8249189723994405, 'eval_recall': 0.7556, 'eval_f1': 0.7887393779256577, 'eval_runtime': 475.0419, 'eval_samples_per_second': 673.625, 'eval_steps_per_second': 21.051, 'epoch': 1.15}\n",
      "{'loss': 0.3988, 'grad_norm': 3.9128549098968506, 'learning_rate': 3.101512605042017e-05, 'epoch': 1.16}\n",
      "{'loss': 0.3988, 'grad_norm': 3.9128549098968506, 'learning_rate': 3.101512605042017e-05, 'epoch': 1.16}\n",
      "{'loss': 0.4, 'grad_norm': 2.6350653171539307, 'learning_rate': 3.093109243697479e-05, 'epoch': 1.16}\n",
      "{'loss': 0.4, 'grad_norm': 2.6350653171539307, 'learning_rate': 3.093109243697479e-05, 'epoch': 1.16}\n",
      "{'loss': 0.4002, 'grad_norm': 4.771398067474365, 'learning_rate': 3.084705882352941e-05, 'epoch': 1.17}\n",
      "{'loss': 0.4002, 'grad_norm': 4.771398067474365, 'learning_rate': 3.084705882352941e-05, 'epoch': 1.17}\n",
      "{'loss': 0.4089, 'grad_norm': 3.1226859092712402, 'learning_rate': 3.076302521008404e-05, 'epoch': 1.17}\n",
      "{'loss': 0.4089, 'grad_norm': 3.1226859092712402, 'learning_rate': 3.076302521008404e-05, 'epoch': 1.17}\n",
      "{'loss': 0.404, 'grad_norm': 2.5321764945983887, 'learning_rate': 3.0678991596638655e-05, 'epoch': 1.18}\n",
      "{'loss': 0.404, 'grad_norm': 2.5321764945983887, 'learning_rate': 3.0678991596638655e-05, 'epoch': 1.18}\n",
      "{'loss': 0.4004, 'grad_norm': 3.813932180404663, 'learning_rate': 3.059495798319328e-05, 'epoch': 1.18}\n",
      "{'loss': 0.4004, 'grad_norm': 3.813932180404663, 'learning_rate': 3.059495798319328e-05, 'epoch': 1.18}\n",
      "{'loss': 0.4145, 'grad_norm': 3.708993911743164, 'learning_rate': 3.05109243697479e-05, 'epoch': 1.19}\n",
      "{'loss': 0.4145, 'grad_norm': 3.708993911743164, 'learning_rate': 3.05109243697479e-05, 'epoch': 1.19}\n",
      "{'loss': 0.4151, 'grad_norm': 2.380901575088501, 'learning_rate': 3.0426890756302523e-05, 'epoch': 1.19}\n",
      "{'loss': 0.4151, 'grad_norm': 2.380901575088501, 'learning_rate': 3.0426890756302523e-05, 'epoch': 1.19}\n",
      "{'loss': 0.4124, 'grad_norm': 2.433056116104126, 'learning_rate': 3.0342857142857144e-05, 'epoch': 1.2}\n",
      "{'loss': 0.4124, 'grad_norm': 2.433056116104126, 'learning_rate': 3.0342857142857144e-05, 'epoch': 1.2}\n",
      "{'loss': 0.4069, 'grad_norm': 2.4649791717529297, 'learning_rate': 3.0258823529411766e-05, 'epoch': 1.2}\n",
      "{'loss': 0.4069, 'grad_norm': 2.4649791717529297, 'learning_rate': 3.0258823529411766e-05, 'epoch': 1.2}\n"
     ]
    },
    {
     "data": {
      "application/vnd.jupyter.widget-view+json": {
       "model_id": "3d3bcde0ad8c4ec59ca493fac2911d54",
       "version_major": 2,
       "version_minor": 0
      },
      "text/plain": [
       "  0%|          | 0/10000 [00:00<?, ?it/s]"
      ]
     },
     "metadata": {},
     "output_type": "display_data"
    },
    {
     "name": "stdout",
     "output_type": "stream",
     "text": [
      "{'eval_loss': 0.43108412623405457, 'eval_accuracy': 0.800721875, 'eval_precision': 0.8177219870707018, 'eval_recall': 0.77396875, 'eval_f1': 0.7952440124711421, 'eval_runtime': 474.6594, 'eval_samples_per_second': 674.168, 'eval_steps_per_second': 21.068, 'epoch': 1.2}\n",
      "{'loss': 0.4034, 'grad_norm': 3.6461269855499268, 'learning_rate': 3.017478991596639e-05, 'epoch': 1.21}\n",
      "{'loss': 0.4034, 'grad_norm': 3.6461269855499268, 'learning_rate': 3.017478991596639e-05, 'epoch': 1.21}\n",
      "{'loss': 0.4214, 'grad_norm': 3.785714626312256, 'learning_rate': 3.0090756302521012e-05, 'epoch': 1.21}\n",
      "{'loss': 0.4214, 'grad_norm': 3.785714626312256, 'learning_rate': 3.0090756302521012e-05, 'epoch': 1.21}\n",
      "{'loss': 0.4115, 'grad_norm': 3.8323230743408203, 'learning_rate': 3.0007563025210085e-05, 'epoch': 1.22}\n",
      "{'loss': 0.4115, 'grad_norm': 3.8323230743408203, 'learning_rate': 3.0007563025210085e-05, 'epoch': 1.22}\n",
      "{'loss': 0.4196, 'grad_norm': 2.3047068119049072, 'learning_rate': 2.9923529411764706e-05, 'epoch': 1.22}\n",
      "{'loss': 0.4196, 'grad_norm': 2.3047068119049072, 'learning_rate': 2.9923529411764706e-05, 'epoch': 1.22}\n",
      "{'loss': 0.4107, 'grad_norm': 2.3614907264709473, 'learning_rate': 2.9839495798319328e-05, 'epoch': 1.23}\n",
      "{'loss': 0.4107, 'grad_norm': 2.3614907264709473, 'learning_rate': 2.9839495798319328e-05, 'epoch': 1.23}\n",
      "{'loss': 0.4207, 'grad_norm': 2.7168426513671875, 'learning_rate': 2.975546218487395e-05, 'epoch': 1.23}\n",
      "{'loss': 0.4207, 'grad_norm': 2.7168426513671875, 'learning_rate': 2.975546218487395e-05, 'epoch': 1.23}\n",
      "{'loss': 0.4146, 'grad_norm': 2.771688461303711, 'learning_rate': 2.9671428571428574e-05, 'epoch': 1.23}\n",
      "{'loss': 0.4146, 'grad_norm': 2.771688461303711, 'learning_rate': 2.9671428571428574e-05, 'epoch': 1.23}\n",
      "{'loss': 0.4171, 'grad_norm': 2.4038567543029785, 'learning_rate': 2.9587394957983195e-05, 'epoch': 1.24}\n",
      "{'loss': 0.4171, 'grad_norm': 2.4038567543029785, 'learning_rate': 2.9587394957983195e-05, 'epoch': 1.24}\n",
      "{'loss': 0.4099, 'grad_norm': 3.805662155151367, 'learning_rate': 2.9503361344537817e-05, 'epoch': 1.25}\n",
      "{'loss': 0.4099, 'grad_norm': 3.805662155151367, 'learning_rate': 2.9503361344537817e-05, 'epoch': 1.25}\n",
      "{'loss': 0.4139, 'grad_norm': 3.689363718032837, 'learning_rate': 2.9419327731092438e-05, 'epoch': 1.25}\n",
      "{'loss': 0.4139, 'grad_norm': 3.689363718032837, 'learning_rate': 2.9419327731092438e-05, 'epoch': 1.25}\n"
     ]
    },
    {
     "data": {
      "application/vnd.jupyter.widget-view+json": {
       "model_id": "242b4540f314431da045a40cb23e5464",
       "version_major": 2,
       "version_minor": 0
      },
      "text/plain": [
       "  0%|          | 0/10000 [00:00<?, ?it/s]"
      ]
     },
     "metadata": {},
     "output_type": "display_data"
    },
    {
     "name": "stdout",
     "output_type": "stream",
     "text": [
      "{'eval_loss': 0.43222588300704956, 'eval_accuracy': 0.802496875, 'eval_precision': 0.7958675917718617, 'eval_recall': 0.8137, 'eval_f1': 0.8046850132113664, 'eval_runtime': 472.9552, 'eval_samples_per_second': 676.597, 'eval_steps_per_second': 21.144, 'epoch': 1.25}\n",
      "{'loss': 0.3929, 'grad_norm': 2.7253360748291016, 'learning_rate': 2.933529411764706e-05, 'epoch': 1.25}\n",
      "{'loss': 0.3929, 'grad_norm': 2.7253360748291016, 'learning_rate': 2.933529411764706e-05, 'epoch': 1.25}\n",
      "{'loss': 0.4045, 'grad_norm': 2.5480313301086426, 'learning_rate': 2.9251260504201684e-05, 'epoch': 1.26}\n",
      "{'loss': 0.4045, 'grad_norm': 2.5480313301086426, 'learning_rate': 2.9251260504201684e-05, 'epoch': 1.26}\n",
      "{'loss': 0.4087, 'grad_norm': 2.4887077808380127, 'learning_rate': 2.9167226890756306e-05, 'epoch': 1.27}\n",
      "{'loss': 0.4087, 'grad_norm': 2.4887077808380127, 'learning_rate': 2.9167226890756306e-05, 'epoch': 1.27}\n",
      "{'loss': 0.412, 'grad_norm': 3.428534746170044, 'learning_rate': 2.9083193277310927e-05, 'epoch': 1.27}\n",
      "{'loss': 0.412, 'grad_norm': 3.428534746170044, 'learning_rate': 2.9083193277310927e-05, 'epoch': 1.27}\n",
      "{'loss': 0.4099, 'grad_norm': 2.9380197525024414, 'learning_rate': 2.8999159663865548e-05, 'epoch': 1.27}\n",
      "{'loss': 0.4099, 'grad_norm': 2.9380197525024414, 'learning_rate': 2.8999159663865548e-05, 'epoch': 1.27}\n",
      "{'loss': 0.3952, 'grad_norm': 3.2473459243774414, 'learning_rate': 2.8915126050420173e-05, 'epoch': 1.28}\n",
      "{'loss': 0.3952, 'grad_norm': 3.2473459243774414, 'learning_rate': 2.8915126050420173e-05, 'epoch': 1.28}\n",
      "{'loss': 0.4185, 'grad_norm': 2.652695894241333, 'learning_rate': 2.8831092436974794e-05, 'epoch': 1.28}\n",
      "{'loss': 0.4185, 'grad_norm': 2.652695894241333, 'learning_rate': 2.8831092436974794e-05, 'epoch': 1.28}\n",
      "{'loss': 0.4067, 'grad_norm': 3.2886769771575928, 'learning_rate': 2.8747058823529416e-05, 'epoch': 1.29}\n",
      "{'loss': 0.4067, 'grad_norm': 3.2886769771575928, 'learning_rate': 2.8747058823529416e-05, 'epoch': 1.29}\n",
      "{'loss': 0.4083, 'grad_norm': 3.3008525371551514, 'learning_rate': 2.8663025210084034e-05, 'epoch': 1.29}\n",
      "{'loss': 0.4083, 'grad_norm': 3.3008525371551514, 'learning_rate': 2.8663025210084034e-05, 'epoch': 1.29}\n",
      "{'loss': 0.3871, 'grad_norm': 3.769143581390381, 'learning_rate': 2.8578991596638655e-05, 'epoch': 1.3}\n",
      "{'loss': 0.3871, 'grad_norm': 3.769143581390381, 'learning_rate': 2.8578991596638655e-05, 'epoch': 1.3}\n"
     ]
    },
    {
     "data": {
      "application/vnd.jupyter.widget-view+json": {
       "model_id": "9917832abb61430e9099a99c4ed5aa2a",
       "version_major": 2,
       "version_minor": 0
      },
      "text/plain": [
       "  0%|          | 0/10000 [00:00<?, ?it/s]"
      ]
     },
     "metadata": {},
     "output_type": "display_data"
    },
    {
     "name": "stdout",
     "output_type": "stream",
     "text": [
      "{'eval_loss': 0.43752753734588623, 'eval_accuracy': 0.802665625, 'eval_precision': 0.8123262668412329, 'eval_recall': 0.7872, 'eval_f1': 0.7995657845872574, 'eval_runtime': 478.9495, 'eval_samples_per_second': 668.129, 'eval_steps_per_second': 20.879, 'epoch': 1.3}\n",
      "{'loss': 0.4007, 'grad_norm': 2.919080972671509, 'learning_rate': 2.8494957983193276e-05, 'epoch': 1.3}\n",
      "{'loss': 0.4007, 'grad_norm': 2.919080972671509, 'learning_rate': 2.8494957983193276e-05, 'epoch': 1.3}\n",
      "{'loss': 0.4132, 'grad_norm': 2.222773551940918, 'learning_rate': 2.8410924369747898e-05, 'epoch': 1.31}\n",
      "{'loss': 0.4132, 'grad_norm': 2.222773551940918, 'learning_rate': 2.8410924369747898e-05, 'epoch': 1.31}\n",
      "{'loss': 0.4096, 'grad_norm': 2.2058839797973633, 'learning_rate': 2.8326890756302523e-05, 'epoch': 1.31}\n",
      "{'loss': 0.4096, 'grad_norm': 2.2058839797973633, 'learning_rate': 2.8326890756302523e-05, 'epoch': 1.31}\n",
      "{'loss': 0.4216, 'grad_norm': 2.1447486877441406, 'learning_rate': 2.8242857142857144e-05, 'epoch': 1.32}\n",
      "{'loss': 0.4216, 'grad_norm': 2.1447486877441406, 'learning_rate': 2.8242857142857144e-05, 'epoch': 1.32}\n",
      "{'loss': 0.4206, 'grad_norm': 3.082444429397583, 'learning_rate': 2.8158823529411765e-05, 'epoch': 1.32}\n",
      "{'loss': 0.4206, 'grad_norm': 3.082444429397583, 'learning_rate': 2.8158823529411765e-05, 'epoch': 1.32}\n",
      "{'loss': 0.3995, 'grad_norm': 2.561135768890381, 'learning_rate': 2.8074789915966387e-05, 'epoch': 1.33}\n",
      "{'loss': 0.3995, 'grad_norm': 2.561135768890381, 'learning_rate': 2.8074789915966387e-05, 'epoch': 1.33}\n",
      "{'loss': 0.4156, 'grad_norm': 2.2865402698516846, 'learning_rate': 2.7990756302521008e-05, 'epoch': 1.33}\n",
      "{'loss': 0.4156, 'grad_norm': 2.2865402698516846, 'learning_rate': 2.7990756302521008e-05, 'epoch': 1.33}\n",
      "{'loss': 0.3997, 'grad_norm': 3.071686267852783, 'learning_rate': 2.7906722689075633e-05, 'epoch': 1.34}\n",
      "{'loss': 0.3997, 'grad_norm': 3.071686267852783, 'learning_rate': 2.7906722689075633e-05, 'epoch': 1.34}\n",
      "{'loss': 0.4067, 'grad_norm': 2.7866199016571045, 'learning_rate': 2.7822689075630254e-05, 'epoch': 1.34}\n",
      "{'loss': 0.4067, 'grad_norm': 2.7866199016571045, 'learning_rate': 2.7822689075630254e-05, 'epoch': 1.34}\n",
      "{'loss': 0.4194, 'grad_norm': 3.7225213050842285, 'learning_rate': 2.7738655462184876e-05, 'epoch': 1.35}\n",
      "{'loss': 0.4194, 'grad_norm': 3.7225213050842285, 'learning_rate': 2.7738655462184876e-05, 'epoch': 1.35}\n"
     ]
    },
    {
     "data": {
      "application/vnd.jupyter.widget-view+json": {
       "model_id": "311cf46cf1c14354b57254a18b35044f",
       "version_major": 2,
       "version_minor": 0
      },
      "text/plain": [
       "  0%|          | 0/10000 [00:00<?, ?it/s]"
      ]
     },
     "metadata": {},
     "output_type": "display_data"
    },
    {
     "name": "stdout",
     "output_type": "stream",
     "text": [
      "{'eval_loss': 0.42838984727859497, 'eval_accuracy': 0.803896875, 'eval_precision': 0.810081054021134, 'eval_recall': 0.793925, 'eval_f1': 0.8019216625790303, 'eval_runtime': 464.2552, 'eval_samples_per_second': 689.276, 'eval_steps_per_second': 21.54, 'epoch': 1.35}\n",
      "{'loss': 0.4147, 'grad_norm': 2.8905413150787354, 'learning_rate': 2.7654621848739497e-05, 'epoch': 1.35}\n",
      "{'loss': 0.4147, 'grad_norm': 2.8905413150787354, 'learning_rate': 2.7654621848739497e-05, 'epoch': 1.35}\n",
      "{'loss': 0.396, 'grad_norm': 3.1269781589508057, 'learning_rate': 2.7570588235294122e-05, 'epoch': 1.36}\n",
      "{'loss': 0.396, 'grad_norm': 3.1269781589508057, 'learning_rate': 2.7570588235294122e-05, 'epoch': 1.36}\n",
      "{'loss': 0.415, 'grad_norm': 3.00468111038208, 'learning_rate': 2.7486554621848743e-05, 'epoch': 1.36}\n",
      "{'loss': 0.415, 'grad_norm': 3.00468111038208, 'learning_rate': 2.7486554621848743e-05, 'epoch': 1.36}\n",
      "{'loss': 0.413, 'grad_norm': 2.3733887672424316, 'learning_rate': 2.7402521008403364e-05, 'epoch': 1.37}\n",
      "{'loss': 0.413, 'grad_norm': 2.3733887672424316, 'learning_rate': 2.7402521008403364e-05, 'epoch': 1.37}\n",
      "{'loss': 0.4098, 'grad_norm': 2.421555280685425, 'learning_rate': 2.7318487394957986e-05, 'epoch': 1.38}\n",
      "{'loss': 0.4098, 'grad_norm': 2.421555280685425, 'learning_rate': 2.7318487394957986e-05, 'epoch': 1.38}\n",
      "{'loss': 0.4071, 'grad_norm': 3.097954511642456, 'learning_rate': 2.7234453781512607e-05, 'epoch': 1.38}\n",
      "{'loss': 0.4071, 'grad_norm': 3.097954511642456, 'learning_rate': 2.7234453781512607e-05, 'epoch': 1.38}\n",
      "{'loss': 0.4192, 'grad_norm': 2.519091844558716, 'learning_rate': 2.7150420168067225e-05, 'epoch': 1.39}\n",
      "{'loss': 0.4192, 'grad_norm': 2.519091844558716, 'learning_rate': 2.7150420168067225e-05, 'epoch': 1.39}\n",
      "{'loss': 0.4122, 'grad_norm': 2.381965160369873, 'learning_rate': 2.7066386554621847e-05, 'epoch': 1.39}\n",
      "{'loss': 0.4122, 'grad_norm': 2.381965160369873, 'learning_rate': 2.7066386554621847e-05, 'epoch': 1.39}\n",
      "{'loss': 0.405, 'grad_norm': 2.083509683609009, 'learning_rate': 2.698235294117647e-05, 'epoch': 1.4}\n",
      "{'loss': 0.405, 'grad_norm': 2.083509683609009, 'learning_rate': 2.698235294117647e-05, 'epoch': 1.4}\n",
      "{'loss': 0.4017, 'grad_norm': 2.382781982421875, 'learning_rate': 2.6898319327731093e-05, 'epoch': 1.4}\n",
      "{'loss': 0.4017, 'grad_norm': 2.382781982421875, 'learning_rate': 2.6898319327731093e-05, 'epoch': 1.4}\n"
     ]
    },
    {
     "data": {
      "application/vnd.jupyter.widget-view+json": {
       "model_id": "a1de03ad312c4f86b2bcf11a576614cf",
       "version_major": 2,
       "version_minor": 0
      },
      "text/plain": [
       "  0%|          | 0/10000 [00:00<?, ?it/s]"
      ]
     },
     "metadata": {},
     "output_type": "display_data"
    },
    {
     "name": "stdout",
     "output_type": "stream",
     "text": [
      "{'eval_loss': 0.42785370349884033, 'eval_accuracy': 0.80435, 'eval_precision': 0.8013291750204203, 'eval_recall': 0.8093625, 'eval_f1': 0.8053258044054178, 'eval_runtime': 464.3281, 'eval_samples_per_second': 689.168, 'eval_steps_per_second': 21.536, 'epoch': 1.4}\n",
      "{'loss': 0.4095, 'grad_norm': 4.565472602844238, 'learning_rate': 2.6814285714285714e-05, 'epoch': 1.41}\n",
      "{'loss': 0.4095, 'grad_norm': 4.565472602844238, 'learning_rate': 2.6814285714285714e-05, 'epoch': 1.41}\n",
      "{'loss': 0.4121, 'grad_norm': 2.545680284500122, 'learning_rate': 2.6730252100840335e-05, 'epoch': 1.41}\n",
      "{'loss': 0.4121, 'grad_norm': 2.545680284500122, 'learning_rate': 2.6730252100840335e-05, 'epoch': 1.41}\n",
      "{'loss': 0.3959, 'grad_norm': 2.5996837615966797, 'learning_rate': 2.6647058823529416e-05, 'epoch': 1.42}\n",
      "{'loss': 0.3959, 'grad_norm': 2.5996837615966797, 'learning_rate': 2.6647058823529416e-05, 'epoch': 1.42}\n",
      "{'loss': 0.3984, 'grad_norm': 3.133796453475952, 'learning_rate': 2.6563865546218485e-05, 'epoch': 1.42}\n",
      "{'loss': 0.3984, 'grad_norm': 3.133796453475952, 'learning_rate': 2.6563865546218485e-05, 'epoch': 1.42}\n",
      "{'loss': 0.4193, 'grad_norm': 3.1704444885253906, 'learning_rate': 2.6479831932773107e-05, 'epoch': 1.43}\n",
      "{'loss': 0.4193, 'grad_norm': 3.1704444885253906, 'learning_rate': 2.6479831932773107e-05, 'epoch': 1.43}\n",
      "{'loss': 0.412, 'grad_norm': 3.9531474113464355, 'learning_rate': 2.639579831932773e-05, 'epoch': 1.43}\n",
      "{'loss': 0.412, 'grad_norm': 3.9531474113464355, 'learning_rate': 2.639579831932773e-05, 'epoch': 1.43}\n",
      "{'loss': 0.4126, 'grad_norm': 2.699495553970337, 'learning_rate': 2.6311764705882353e-05, 'epoch': 1.44}\n",
      "{'loss': 0.4126, 'grad_norm': 2.699495553970337, 'learning_rate': 2.6311764705882353e-05, 'epoch': 1.44}\n",
      "{'loss': 0.4036, 'grad_norm': 2.9393720626831055, 'learning_rate': 2.6227731092436974e-05, 'epoch': 1.44}\n",
      "{'loss': 0.4036, 'grad_norm': 2.9393720626831055, 'learning_rate': 2.6227731092436974e-05, 'epoch': 1.44}\n",
      "{'loss': 0.4104, 'grad_norm': 2.3762640953063965, 'learning_rate': 2.6143697478991596e-05, 'epoch': 1.45}\n",
      "{'loss': 0.4104, 'grad_norm': 2.3762640953063965, 'learning_rate': 2.6143697478991596e-05, 'epoch': 1.45}\n",
      "{'loss': 0.4053, 'grad_norm': 2.2116825580596924, 'learning_rate': 2.6060504201680676e-05, 'epoch': 1.45}\n",
      "{'loss': 0.4053, 'grad_norm': 2.2116825580596924, 'learning_rate': 2.6060504201680676e-05, 'epoch': 1.45}\n"
     ]
    },
    {
     "data": {
      "application/vnd.jupyter.widget-view+json": {
       "model_id": "a1e512c56e9f4515b42af7cbdfb7e869",
       "version_major": 2,
       "version_minor": 0
      },
      "text/plain": [
       "  0%|          | 0/10000 [00:00<?, ?it/s]"
      ]
     },
     "metadata": {},
     "output_type": "display_data"
    },
    {
     "name": "stdout",
     "output_type": "stream",
     "text": [
      "{'eval_loss': 0.425251841545105, 'eval_accuracy': 0.80516875, 'eval_precision': 0.8059642570683778, 'eval_recall': 0.80386875, 'eval_f1': 0.804915139681586, 'eval_runtime': 463.983, 'eval_samples_per_second': 689.68, 'eval_steps_per_second': 21.553, 'epoch': 1.45}\n",
      "{'loss': 0.4094, 'grad_norm': 2.7710771560668945, 'learning_rate': 2.5976470588235297e-05, 'epoch': 1.46}\n",
      "{'loss': 0.4094, 'grad_norm': 2.7710771560668945, 'learning_rate': 2.5976470588235297e-05, 'epoch': 1.46}\n",
      "{'loss': 0.3997, 'grad_norm': 3.3021562099456787, 'learning_rate': 2.589243697478992e-05, 'epoch': 1.46}\n",
      "{'loss': 0.3997, 'grad_norm': 3.3021562099456787, 'learning_rate': 2.589243697478992e-05, 'epoch': 1.46}\n",
      "{'loss': 0.4041, 'grad_norm': 2.6697351932525635, 'learning_rate': 2.580840336134454e-05, 'epoch': 1.47}\n",
      "{'loss': 0.4041, 'grad_norm': 2.6697351932525635, 'learning_rate': 2.580840336134454e-05, 'epoch': 1.47}\n",
      "{'loss': 0.4038, 'grad_norm': 2.417590379714966, 'learning_rate': 2.5724369747899165e-05, 'epoch': 1.47}\n",
      "{'loss': 0.4038, 'grad_norm': 2.417590379714966, 'learning_rate': 2.5724369747899165e-05, 'epoch': 1.47}\n",
      "{'loss': 0.4038, 'grad_norm': 2.561239242553711, 'learning_rate': 2.5640336134453786e-05, 'epoch': 1.48}\n",
      "{'loss': 0.4038, 'grad_norm': 2.561239242553711, 'learning_rate': 2.5640336134453786e-05, 'epoch': 1.48}\n",
      "{'loss': 0.4141, 'grad_norm': 3.375290870666504, 'learning_rate': 2.5556302521008407e-05, 'epoch': 1.48}\n",
      "{'loss': 0.4141, 'grad_norm': 3.375290870666504, 'learning_rate': 2.5556302521008407e-05, 'epoch': 1.48}\n",
      "{'loss': 0.4139, 'grad_norm': 3.0515620708465576, 'learning_rate': 2.5472268907563025e-05, 'epoch': 1.48}\n",
      "{'loss': 0.4139, 'grad_norm': 3.0515620708465576, 'learning_rate': 2.5472268907563025e-05, 'epoch': 1.48}\n",
      "{'loss': 0.4122, 'grad_norm': 3.2763452529907227, 'learning_rate': 2.5388235294117647e-05, 'epoch': 1.49}\n",
      "{'loss': 0.4122, 'grad_norm': 3.2763452529907227, 'learning_rate': 2.5388235294117647e-05, 'epoch': 1.49}\n",
      "{'loss': 0.4083, 'grad_norm': 2.5131702423095703, 'learning_rate': 2.5304201680672268e-05, 'epoch': 1.5}\n",
      "{'loss': 0.4083, 'grad_norm': 2.5131702423095703, 'learning_rate': 2.5304201680672268e-05, 'epoch': 1.5}\n",
      "{'loss': 0.4066, 'grad_norm': 2.5771734714508057, 'learning_rate': 2.522016806722689e-05, 'epoch': 1.5}\n",
      "{'loss': 0.4066, 'grad_norm': 2.5771734714508057, 'learning_rate': 2.522016806722689e-05, 'epoch': 1.5}\n"
     ]
    },
    {
     "data": {
      "application/vnd.jupyter.widget-view+json": {
       "model_id": "525d5502acda47a8afda79d59ef1be83",
       "version_major": 2,
       "version_minor": 0
      },
      "text/plain": [
       "  0%|          | 0/10000 [00:00<?, ?it/s]"
      ]
     },
     "metadata": {},
     "output_type": "display_data"
    },
    {
     "name": "stdout",
     "output_type": "stream",
     "text": [
      "{'eval_loss': 0.4352225661277771, 'eval_accuracy': 0.80358125, 'eval_precision': 0.7873020004022098, 'eval_recall': 0.8319125, 'eval_f1': 0.8089927248637051, 'eval_runtime': 464.0721, 'eval_samples_per_second': 689.548, 'eval_steps_per_second': 21.548, 'epoch': 1.5}\n",
      "{'loss': 0.3986, 'grad_norm': 3.6519501209259033, 'learning_rate': 2.513613445378151e-05, 'epoch': 1.5}\n",
      "{'loss': 0.3986, 'grad_norm': 3.6519501209259033, 'learning_rate': 2.513613445378151e-05, 'epoch': 1.5}\n",
      "{'loss': 0.4086, 'grad_norm': 4.408481121063232, 'learning_rate': 2.5052100840336136e-05, 'epoch': 1.51}\n",
      "{'loss': 0.4086, 'grad_norm': 4.408481121063232, 'learning_rate': 2.5052100840336136e-05, 'epoch': 1.51}\n",
      "{'loss': 0.413, 'grad_norm': 2.484513521194458, 'learning_rate': 2.4968067226890757e-05, 'epoch': 1.52}\n",
      "{'loss': 0.413, 'grad_norm': 2.484513521194458, 'learning_rate': 2.4968067226890757e-05, 'epoch': 1.52}\n",
      "{'loss': 0.4247, 'grad_norm': 3.4417500495910645, 'learning_rate': 2.488403361344538e-05, 'epoch': 1.52}\n",
      "{'loss': 0.4247, 'grad_norm': 3.4417500495910645, 'learning_rate': 2.488403361344538e-05, 'epoch': 1.52}\n",
      "{'loss': 0.4022, 'grad_norm': 3.0838944911956787, 'learning_rate': 2.48e-05, 'epoch': 1.52}\n",
      "{'loss': 0.4022, 'grad_norm': 3.0838944911956787, 'learning_rate': 2.48e-05, 'epoch': 1.52}\n",
      "{'loss': 0.4102, 'grad_norm': 3.0212714672088623, 'learning_rate': 2.4715966386554624e-05, 'epoch': 1.53}\n",
      "{'loss': 0.4102, 'grad_norm': 3.0212714672088623, 'learning_rate': 2.4715966386554624e-05, 'epoch': 1.53}\n",
      "{'loss': 0.4024, 'grad_norm': 2.507091999053955, 'learning_rate': 2.4631932773109246e-05, 'epoch': 1.54}\n",
      "{'loss': 0.4024, 'grad_norm': 2.507091999053955, 'learning_rate': 2.4631932773109246e-05, 'epoch': 1.54}\n",
      "{'loss': 0.4172, 'grad_norm': 2.6091694831848145, 'learning_rate': 2.4547899159663867e-05, 'epoch': 1.54}\n",
      "{'loss': 0.4172, 'grad_norm': 2.6091694831848145, 'learning_rate': 2.4547899159663867e-05, 'epoch': 1.54}\n",
      "{'loss': 0.4063, 'grad_norm': 4.670717239379883, 'learning_rate': 2.446386554621849e-05, 'epoch': 1.54}\n",
      "{'loss': 0.4063, 'grad_norm': 4.670717239379883, 'learning_rate': 2.446386554621849e-05, 'epoch': 1.54}\n",
      "{'loss': 0.4025, 'grad_norm': 3.226593494415283, 'learning_rate': 2.4379831932773113e-05, 'epoch': 1.55}\n",
      "{'loss': 0.4025, 'grad_norm': 3.226593494415283, 'learning_rate': 2.4379831932773113e-05, 'epoch': 1.55}\n"
     ]
    },
    {
     "data": {
      "application/vnd.jupyter.widget-view+json": {
       "model_id": "b6a0bbfd43374c1694fe154823fa66dd",
       "version_major": 2,
       "version_minor": 0
      },
      "text/plain": [
       "  0%|          | 0/10000 [00:00<?, ?it/s]"
      ]
     },
     "metadata": {},
     "output_type": "display_data"
    },
    {
     "name": "stdout",
     "output_type": "stream",
     "text": [
      "{'eval_loss': 0.43185386061668396, 'eval_accuracy': 0.80486875, 'eval_precision': 0.8031596872630545, 'eval_recall': 0.8076875, 'eval_f1': 0.8054172301824233, 'eval_runtime': 468.8735, 'eval_samples_per_second': 682.487, 'eval_steps_per_second': 21.328, 'epoch': 1.55}\n",
      "{'loss': 0.397, 'grad_norm': 2.334726333618164, 'learning_rate': 2.429579831932773e-05, 'epoch': 1.56}\n",
      "{'loss': 0.397, 'grad_norm': 2.334726333618164, 'learning_rate': 2.429579831932773e-05, 'epoch': 1.56}\n",
      "{'loss': 0.402, 'grad_norm': 2.3195695877075195, 'learning_rate': 2.4211764705882353e-05, 'epoch': 1.56}\n",
      "{'loss': 0.402, 'grad_norm': 2.3195695877075195, 'learning_rate': 2.4211764705882353e-05, 'epoch': 1.56}\n",
      "{'loss': 0.3959, 'grad_norm': 2.576897144317627, 'learning_rate': 2.4127731092436974e-05, 'epoch': 1.56}\n",
      "{'loss': 0.3959, 'grad_norm': 2.576897144317627, 'learning_rate': 2.4127731092436974e-05, 'epoch': 1.56}\n",
      "{'loss': 0.4128, 'grad_norm': 2.692915678024292, 'learning_rate': 2.40436974789916e-05, 'epoch': 1.57}\n",
      "{'loss': 0.4128, 'grad_norm': 2.692915678024292, 'learning_rate': 2.40436974789916e-05, 'epoch': 1.57}\n",
      "{'loss': 0.4097, 'grad_norm': 3.107729434967041, 'learning_rate': 2.395966386554622e-05, 'epoch': 1.57}\n",
      "{'loss': 0.4097, 'grad_norm': 3.107729434967041, 'learning_rate': 2.395966386554622e-05, 'epoch': 1.57}\n",
      "{'loss': 0.404, 'grad_norm': 1.9421199560165405, 'learning_rate': 2.387563025210084e-05, 'epoch': 1.58}\n",
      "{'loss': 0.404, 'grad_norm': 1.9421199560165405, 'learning_rate': 2.387563025210084e-05, 'epoch': 1.58}\n",
      "{'loss': 0.4041, 'grad_norm': 2.5014376640319824, 'learning_rate': 2.3791596638655463e-05, 'epoch': 1.58}\n",
      "{'loss': 0.4041, 'grad_norm': 2.5014376640319824, 'learning_rate': 2.3791596638655463e-05, 'epoch': 1.58}\n",
      "{'loss': 0.408, 'grad_norm': 2.4902822971343994, 'learning_rate': 2.3707563025210088e-05, 'epoch': 1.59}\n",
      "{'loss': 0.408, 'grad_norm': 2.4902822971343994, 'learning_rate': 2.3707563025210088e-05, 'epoch': 1.59}\n",
      "{'loss': 0.4126, 'grad_norm': 2.8733723163604736, 'learning_rate': 2.362352941176471e-05, 'epoch': 1.59}\n",
      "{'loss': 0.4126, 'grad_norm': 2.8733723163604736, 'learning_rate': 2.362352941176471e-05, 'epoch': 1.59}\n",
      "{'loss': 0.402, 'grad_norm': 2.166839122772217, 'learning_rate': 2.3539495798319327e-05, 'epoch': 1.6}\n",
      "{'loss': 0.402, 'grad_norm': 2.166839122772217, 'learning_rate': 2.3539495798319327e-05, 'epoch': 1.6}\n"
     ]
    },
    {
     "data": {
      "application/vnd.jupyter.widget-view+json": {
       "model_id": "8e3631fd086542be979c9bbca393278e",
       "version_major": 2,
       "version_minor": 0
      },
      "text/plain": [
       "  0%|          | 0/10000 [00:00<?, ?it/s]"
      ]
     },
     "metadata": {},
     "output_type": "display_data"
    },
    {
     "name": "stdout",
     "output_type": "stream",
     "text": [
      "{'eval_loss': 0.42940396070480347, 'eval_accuracy': 0.804240625, 'eval_precision': 0.7962222587338968, 'eval_recall': 0.817775, 'eval_f1': 0.8068547255735653, 'eval_runtime': 465.1513, 'eval_samples_per_second': 687.948, 'eval_steps_per_second': 21.498, 'epoch': 1.6}\n",
      "{'loss': 0.3959, 'grad_norm': 2.5837209224700928, 'learning_rate': 2.345546218487395e-05, 'epoch': 1.6}\n",
      "{'loss': 0.3959, 'grad_norm': 2.5837209224700928, 'learning_rate': 2.345546218487395e-05, 'epoch': 1.6}\n",
      "{'loss': 0.4053, 'grad_norm': 3.3453495502471924, 'learning_rate': 2.3371428571428573e-05, 'epoch': 1.61}\n",
      "{'loss': 0.4053, 'grad_norm': 3.3453495502471924, 'learning_rate': 2.3371428571428573e-05, 'epoch': 1.61}\n",
      "{'loss': 0.4158, 'grad_norm': 2.1383495330810547, 'learning_rate': 2.3287394957983195e-05, 'epoch': 1.61}\n",
      "{'loss': 0.4158, 'grad_norm': 2.1383495330810547, 'learning_rate': 2.3287394957983195e-05, 'epoch': 1.61}\n",
      "{'loss': 0.4, 'grad_norm': 2.5727427005767822, 'learning_rate': 2.3203361344537816e-05, 'epoch': 1.62}\n",
      "{'loss': 0.4, 'grad_norm': 2.5727427005767822, 'learning_rate': 2.3203361344537816e-05, 'epoch': 1.62}\n",
      "{'loss': 0.398, 'grad_norm': 3.317682981491089, 'learning_rate': 2.3119327731092437e-05, 'epoch': 1.62}\n",
      "{'loss': 0.398, 'grad_norm': 3.317682981491089, 'learning_rate': 2.3119327731092437e-05, 'epoch': 1.62}\n",
      "{'loss': 0.4034, 'grad_norm': 2.8880655765533447, 'learning_rate': 2.3035294117647062e-05, 'epoch': 1.63}\n",
      "{'loss': 0.4034, 'grad_norm': 2.8880655765533447, 'learning_rate': 2.3035294117647062e-05, 'epoch': 1.63}\n",
      "{'loss': 0.4089, 'grad_norm': 1.9519262313842773, 'learning_rate': 2.2951260504201683e-05, 'epoch': 1.64}\n",
      "{'loss': 0.4089, 'grad_norm': 1.9519262313842773, 'learning_rate': 2.2951260504201683e-05, 'epoch': 1.64}\n",
      "{'loss': 0.4083, 'grad_norm': 2.2816145420074463, 'learning_rate': 2.2867226890756305e-05, 'epoch': 1.64}\n",
      "{'loss': 0.4083, 'grad_norm': 2.2816145420074463, 'learning_rate': 2.2867226890756305e-05, 'epoch': 1.64}\n",
      "{'loss': 0.4051, 'grad_norm': 2.8387451171875, 'learning_rate': 2.2783193277310923e-05, 'epoch': 1.65}\n",
      "{'loss': 0.4051, 'grad_norm': 2.8387451171875, 'learning_rate': 2.2783193277310923e-05, 'epoch': 1.65}\n",
      "{'loss': 0.406, 'grad_norm': 2.340975046157837, 'learning_rate': 2.2699159663865548e-05, 'epoch': 1.65}\n",
      "{'loss': 0.406, 'grad_norm': 2.340975046157837, 'learning_rate': 2.2699159663865548e-05, 'epoch': 1.65}\n"
     ]
    },
    {
     "data": {
      "application/vnd.jupyter.widget-view+json": {
       "model_id": "80571cc677d24276a9d4699db5e3d516",
       "version_major": 2,
       "version_minor": 0
      },
      "text/plain": [
       "  0%|          | 0/10000 [00:00<?, ?it/s]"
      ]
     },
     "metadata": {},
     "output_type": "display_data"
    },
    {
     "name": "stdout",
     "output_type": "stream",
     "text": [
      "{'eval_loss': 0.4303247928619385, 'eval_accuracy': 0.805865625, 'eval_precision': 0.8056841250507512, 'eval_recall': 0.8061625, 'eval_f1': 0.8059232415376685, 'eval_runtime': 467.0283, 'eval_samples_per_second': 685.183, 'eval_steps_per_second': 21.412, 'epoch': 1.65}\n",
      "{'loss': 0.4016, 'grad_norm': 2.785193681716919, 'learning_rate': 2.261512605042017e-05, 'epoch': 1.66}\n",
      "{'loss': 0.4016, 'grad_norm': 2.785193681716919, 'learning_rate': 2.261512605042017e-05, 'epoch': 1.66}\n",
      "{'loss': 0.4092, 'grad_norm': 2.602067232131958, 'learning_rate': 2.253109243697479e-05, 'epoch': 1.66}\n",
      "{'loss': 0.4092, 'grad_norm': 2.602067232131958, 'learning_rate': 2.253109243697479e-05, 'epoch': 1.66}\n",
      "{'loss': 0.4116, 'grad_norm': 3.3419806957244873, 'learning_rate': 2.2447058823529412e-05, 'epoch': 1.67}\n",
      "{'loss': 0.4116, 'grad_norm': 3.3419806957244873, 'learning_rate': 2.2447058823529412e-05, 'epoch': 1.67}\n",
      "{'loss': 0.3976, 'grad_norm': 2.935753107070923, 'learning_rate': 2.2363025210084036e-05, 'epoch': 1.67}\n",
      "{'loss': 0.3976, 'grad_norm': 2.935753107070923, 'learning_rate': 2.2363025210084036e-05, 'epoch': 1.67}\n",
      "{'loss': 0.4008, 'grad_norm': 3.3988003730773926, 'learning_rate': 2.2278991596638658e-05, 'epoch': 1.68}\n",
      "{'loss': 0.4008, 'grad_norm': 3.3988003730773926, 'learning_rate': 2.2278991596638658e-05, 'epoch': 1.68}\n",
      "{'loss': 0.3979, 'grad_norm': 2.3086020946502686, 'learning_rate': 2.219495798319328e-05, 'epoch': 1.68}\n",
      "{'loss': 0.3979, 'grad_norm': 2.3086020946502686, 'learning_rate': 2.219495798319328e-05, 'epoch': 1.68}\n",
      "{'loss': 0.4051, 'grad_norm': 4.063723087310791, 'learning_rate': 2.2111764705882352e-05, 'epoch': 1.69}\n",
      "{'loss': 0.4051, 'grad_norm': 4.063723087310791, 'learning_rate': 2.2111764705882352e-05, 'epoch': 1.69}\n",
      "{'loss': 0.4023, 'grad_norm': 2.591444253921509, 'learning_rate': 2.2027731092436977e-05, 'epoch': 1.69}\n",
      "{'loss': 0.4023, 'grad_norm': 2.591444253921509, 'learning_rate': 2.2027731092436977e-05, 'epoch': 1.69}\n",
      "{'loss': 0.3994, 'grad_norm': 2.450970411300659, 'learning_rate': 2.19436974789916e-05, 'epoch': 1.69}\n",
      "{'loss': 0.3994, 'grad_norm': 2.450970411300659, 'learning_rate': 2.19436974789916e-05, 'epoch': 1.69}\n",
      "{'loss': 0.4063, 'grad_norm': 2.3758559226989746, 'learning_rate': 2.185966386554622e-05, 'epoch': 1.7}\n",
      "{'loss': 0.4063, 'grad_norm': 2.3758559226989746, 'learning_rate': 2.185966386554622e-05, 'epoch': 1.7}\n"
     ]
    },
    {
     "data": {
      "application/vnd.jupyter.widget-view+json": {
       "model_id": "919c00f8758d4f8c830491c605bdcf4b",
       "version_major": 2,
       "version_minor": 0
      },
      "text/plain": [
       "  0%|          | 0/10000 [00:00<?, ?it/s]"
      ]
     },
     "metadata": {},
     "output_type": "display_data"
    },
    {
     "name": "stdout",
     "output_type": "stream",
     "text": [
      "{'eval_loss': 0.4267614185810089, 'eval_accuracy': 0.805053125, 'eval_precision': 0.7912949026301498, 'eval_recall': 0.82866875, 'eval_f1': 0.8095507041522544, 'eval_runtime': 464.7881, 'eval_samples_per_second': 688.486, 'eval_steps_per_second': 21.515, 'epoch': 1.7}\n",
      "{'loss': 0.3981, 'grad_norm': 3.0608339309692383, 'learning_rate': 2.177563025210084e-05, 'epoch': 1.71}\n",
      "{'loss': 0.3981, 'grad_norm': 3.0608339309692383, 'learning_rate': 2.177563025210084e-05, 'epoch': 1.71}\n",
      "{'loss': 0.4092, 'grad_norm': 3.1686625480651855, 'learning_rate': 2.1691596638655463e-05, 'epoch': 1.71}\n",
      "{'loss': 0.4092, 'grad_norm': 3.1686625480651855, 'learning_rate': 2.1691596638655463e-05, 'epoch': 1.71}\n",
      "{'loss': 0.3894, 'grad_norm': 3.032302141189575, 'learning_rate': 2.1607563025210084e-05, 'epoch': 1.71}\n",
      "{'loss': 0.3894, 'grad_norm': 3.032302141189575, 'learning_rate': 2.1607563025210084e-05, 'epoch': 1.71}\n",
      "{'loss': 0.4045, 'grad_norm': 2.7752699851989746, 'learning_rate': 2.1523529411764705e-05, 'epoch': 1.72}\n",
      "{'loss': 0.4045, 'grad_norm': 2.7752699851989746, 'learning_rate': 2.1523529411764705e-05, 'epoch': 1.72}\n",
      "{'loss': 0.3989, 'grad_norm': 3.666527271270752, 'learning_rate': 2.1439495798319327e-05, 'epoch': 1.73}\n",
      "{'loss': 0.3989, 'grad_norm': 3.666527271270752, 'learning_rate': 2.1439495798319327e-05, 'epoch': 1.73}\n",
      "{'loss': 0.3952, 'grad_norm': 2.604302167892456, 'learning_rate': 2.135546218487395e-05, 'epoch': 1.73}\n",
      "{'loss': 0.3952, 'grad_norm': 2.604302167892456, 'learning_rate': 2.135546218487395e-05, 'epoch': 1.73}\n",
      "{'loss': 0.4188, 'grad_norm': 2.586031913757324, 'learning_rate': 2.1271428571428573e-05, 'epoch': 1.73}\n",
      "{'loss': 0.4188, 'grad_norm': 2.586031913757324, 'learning_rate': 2.1271428571428573e-05, 'epoch': 1.73}\n",
      "{'loss': 0.4009, 'grad_norm': 3.155163049697876, 'learning_rate': 2.1187394957983194e-05, 'epoch': 1.74}\n",
      "{'loss': 0.4009, 'grad_norm': 3.155163049697876, 'learning_rate': 2.1187394957983194e-05, 'epoch': 1.74}\n",
      "{'loss': 0.3889, 'grad_norm': 2.6161532402038574, 'learning_rate': 2.1103361344537816e-05, 'epoch': 1.75}\n",
      "{'loss': 0.3889, 'grad_norm': 2.6161532402038574, 'learning_rate': 2.1103361344537816e-05, 'epoch': 1.75}\n",
      "{'loss': 0.4009, 'grad_norm': 2.9098827838897705, 'learning_rate': 2.101932773109244e-05, 'epoch': 1.75}\n",
      "{'loss': 0.4009, 'grad_norm': 2.9098827838897705, 'learning_rate': 2.101932773109244e-05, 'epoch': 1.75}\n"
     ]
    },
    {
     "data": {
      "application/vnd.jupyter.widget-view+json": {
       "model_id": "bb9fdf341f59488fa87166ab5902cf76",
       "version_major": 2,
       "version_minor": 0
      },
      "text/plain": [
       "  0%|          | 0/10000 [00:00<?, ?it/s]"
      ]
     },
     "metadata": {},
     "output_type": "display_data"
    },
    {
     "name": "stdout",
     "output_type": "stream",
     "text": [
      "{'eval_loss': 0.42727378010749817, 'eval_accuracy': 0.804103125, 'eval_precision': 0.827995550911726, 'eval_recall': 0.76768125, 'eval_f1': 0.7966985032998751, 'eval_runtime': 472.1324, 'eval_samples_per_second': 677.776, 'eval_steps_per_second': 21.18, 'epoch': 1.75}\n",
      "{'loss': 0.4057, 'grad_norm': 2.3752732276916504, 'learning_rate': 2.093529411764706e-05, 'epoch': 1.75}\n",
      "{'loss': 0.4057, 'grad_norm': 2.3752732276916504, 'learning_rate': 2.093529411764706e-05, 'epoch': 1.75}\n",
      "{'loss': 0.3946, 'grad_norm': 2.8832547664642334, 'learning_rate': 2.085126050420168e-05, 'epoch': 1.76}\n",
      "{'loss': 0.3946, 'grad_norm': 2.8832547664642334, 'learning_rate': 2.085126050420168e-05, 'epoch': 1.76}\n",
      "{'loss': 0.4026, 'grad_norm': 2.589488983154297, 'learning_rate': 2.07672268907563e-05, 'epoch': 1.77}\n",
      "{'loss': 0.4026, 'grad_norm': 2.589488983154297, 'learning_rate': 2.07672268907563e-05, 'epoch': 1.77}\n",
      "{'loss': 0.4066, 'grad_norm': 3.701611280441284, 'learning_rate': 2.0683193277310926e-05, 'epoch': 1.77}\n",
      "{'loss': 0.4066, 'grad_norm': 3.701611280441284, 'learning_rate': 2.0683193277310926e-05, 'epoch': 1.77}\n",
      "{'loss': 0.3992, 'grad_norm': 3.032301664352417, 'learning_rate': 2.0599159663865547e-05, 'epoch': 1.77}\n",
      "{'loss': 0.3992, 'grad_norm': 3.032301664352417, 'learning_rate': 2.0599159663865547e-05, 'epoch': 1.77}\n",
      "{'loss': 0.4071, 'grad_norm': 2.6452488899230957, 'learning_rate': 2.051512605042017e-05, 'epoch': 1.78}\n",
      "{'loss': 0.4071, 'grad_norm': 2.6452488899230957, 'learning_rate': 2.051512605042017e-05, 'epoch': 1.78}\n",
      "{'loss': 0.4044, 'grad_norm': 2.0847887992858887, 'learning_rate': 2.043109243697479e-05, 'epoch': 1.79}\n",
      "{'loss': 0.4044, 'grad_norm': 2.0847887992858887, 'learning_rate': 2.043109243697479e-05, 'epoch': 1.79}\n",
      "{'loss': 0.412, 'grad_norm': 2.5200185775756836, 'learning_rate': 2.0347058823529415e-05, 'epoch': 1.79}\n",
      "{'loss': 0.412, 'grad_norm': 2.5200185775756836, 'learning_rate': 2.0347058823529415e-05, 'epoch': 1.79}\n",
      "{'loss': 0.4013, 'grad_norm': 2.5399861335754395, 'learning_rate': 2.0263025210084036e-05, 'epoch': 1.79}\n",
      "{'loss': 0.4013, 'grad_norm': 2.5399861335754395, 'learning_rate': 2.0263025210084036e-05, 'epoch': 1.79}\n",
      "{'loss': 0.4106, 'grad_norm': 2.7895100116729736, 'learning_rate': 2.0178991596638658e-05, 'epoch': 1.8}\n",
      "{'loss': 0.4106, 'grad_norm': 2.7895100116729736, 'learning_rate': 2.0178991596638658e-05, 'epoch': 1.8}\n"
     ]
    },
    {
     "data": {
      "application/vnd.jupyter.widget-view+json": {
       "model_id": "dc93479e14dd4a55a31d5b697d3e9f5c",
       "version_major": 2,
       "version_minor": 0
      },
      "text/plain": [
       "  0%|          | 0/10000 [00:00<?, ?it/s]"
      ]
     },
     "metadata": {},
     "output_type": "display_data"
    },
    {
     "name": "stdout",
     "output_type": "stream",
     "text": [
      "{'eval_loss': 0.4241916537284851, 'eval_accuracy': 0.806346875, 'eval_precision': 0.8081979891724671, 'eval_recall': 0.80334375, 'eval_f1': 0.8057635586871824, 'eval_runtime': 451.2245, 'eval_samples_per_second': 709.181, 'eval_steps_per_second': 22.162, 'epoch': 1.8}\n",
      "{'loss': 0.3914, 'grad_norm': 2.760058641433716, 'learning_rate': 2.0094957983193276e-05, 'epoch': 1.81}\n",
      "{'loss': 0.3914, 'grad_norm': 2.760058641433716, 'learning_rate': 2.0094957983193276e-05, 'epoch': 1.81}\n",
      "{'loss': 0.397, 'grad_norm': 2.7899560928344727, 'learning_rate': 2.00109243697479e-05, 'epoch': 1.81}\n",
      "{'loss': 0.397, 'grad_norm': 2.7899560928344727, 'learning_rate': 2.00109243697479e-05, 'epoch': 1.81}\n",
      "{'loss': 0.3984, 'grad_norm': 2.375798463821411, 'learning_rate': 1.9926890756302522e-05, 'epoch': 1.81}\n",
      "{'loss': 0.3984, 'grad_norm': 2.375798463821411, 'learning_rate': 1.9926890756302522e-05, 'epoch': 1.81}\n",
      "{'loss': 0.419, 'grad_norm': 2.978212833404541, 'learning_rate': 1.9843697478991595e-05, 'epoch': 1.82}\n",
      "{'loss': 0.419, 'grad_norm': 2.978212833404541, 'learning_rate': 1.9843697478991595e-05, 'epoch': 1.82}\n",
      "{'loss': 0.4176, 'grad_norm': 2.321457862854004, 'learning_rate': 1.975966386554622e-05, 'epoch': 1.82}\n",
      "{'loss': 0.4176, 'grad_norm': 2.321457862854004, 'learning_rate': 1.975966386554622e-05, 'epoch': 1.82}\n",
      "{'loss': 0.4022, 'grad_norm': 3.2650833129882812, 'learning_rate': 1.967563025210084e-05, 'epoch': 1.83}\n",
      "{'loss': 0.4022, 'grad_norm': 3.2650833129882812, 'learning_rate': 1.967563025210084e-05, 'epoch': 1.83}\n",
      "{'loss': 0.4064, 'grad_norm': 3.6946909427642822, 'learning_rate': 1.9591596638655463e-05, 'epoch': 1.83}\n",
      "{'loss': 0.4064, 'grad_norm': 3.6946909427642822, 'learning_rate': 1.9591596638655463e-05, 'epoch': 1.83}\n",
      "{'loss': 0.3974, 'grad_norm': 3.053285598754883, 'learning_rate': 1.9507563025210084e-05, 'epoch': 1.84}\n",
      "{'loss': 0.3974, 'grad_norm': 3.053285598754883, 'learning_rate': 1.9507563025210084e-05, 'epoch': 1.84}\n",
      "{'loss': 0.407, 'grad_norm': 2.5530099868774414, 'learning_rate': 1.942352941176471e-05, 'epoch': 1.84}\n",
      "{'loss': 0.407, 'grad_norm': 2.5530099868774414, 'learning_rate': 1.942352941176471e-05, 'epoch': 1.84}\n",
      "{'loss': 0.4178, 'grad_norm': 2.722836494445801, 'learning_rate': 1.933949579831933e-05, 'epoch': 1.85}\n",
      "{'loss': 0.4178, 'grad_norm': 2.722836494445801, 'learning_rate': 1.933949579831933e-05, 'epoch': 1.85}\n"
     ]
    },
    {
     "data": {
      "application/vnd.jupyter.widget-view+json": {
       "model_id": "fb49a8bda8b44cedb28196c14c52ad2f",
       "version_major": 2,
       "version_minor": 0
      },
      "text/plain": [
       "  0%|          | 0/10000 [00:00<?, ?it/s]"
      ]
     },
     "metadata": {},
     "output_type": "display_data"
    },
    {
     "name": "stdout",
     "output_type": "stream",
     "text": [
      "{'eval_loss': 0.422268807888031, 'eval_accuracy': 0.806178125, 'eval_precision': 0.8102049733097776, 'eval_recall': 0.7996875, 'eval_f1': 0.804911881178776, 'eval_runtime': 451.4257, 'eval_samples_per_second': 708.865, 'eval_steps_per_second': 22.152, 'epoch': 1.85}\n",
      "{'loss': 0.3968, 'grad_norm': 2.8770456314086914, 'learning_rate': 1.925546218487395e-05, 'epoch': 1.85}\n",
      "{'loss': 0.3968, 'grad_norm': 2.8770456314086914, 'learning_rate': 1.925546218487395e-05, 'epoch': 1.85}\n",
      "{'loss': 0.4103, 'grad_norm': 2.885089159011841, 'learning_rate': 1.9171428571428573e-05, 'epoch': 1.86}\n",
      "{'loss': 0.4103, 'grad_norm': 2.885089159011841, 'learning_rate': 1.9171428571428573e-05, 'epoch': 1.86}\n",
      "{'loss': 0.4091, 'grad_norm': 4.035820484161377, 'learning_rate': 1.9087394957983194e-05, 'epoch': 1.86}\n",
      "{'loss': 0.4091, 'grad_norm': 4.035820484161377, 'learning_rate': 1.9087394957983194e-05, 'epoch': 1.86}\n",
      "{'loss': 0.3925, 'grad_norm': 2.093470811843872, 'learning_rate': 1.9003361344537816e-05, 'epoch': 1.87}\n",
      "{'loss': 0.3925, 'grad_norm': 2.093470811843872, 'learning_rate': 1.9003361344537816e-05, 'epoch': 1.87}\n",
      "{'loss': 0.4043, 'grad_norm': 2.5267624855041504, 'learning_rate': 1.8919327731092437e-05, 'epoch': 1.88}\n",
      "{'loss': 0.4043, 'grad_norm': 2.5267624855041504, 'learning_rate': 1.8919327731092437e-05, 'epoch': 1.88}\n",
      "{'loss': 0.4022, 'grad_norm': 2.301821708679199, 'learning_rate': 1.8835294117647058e-05, 'epoch': 1.88}\n",
      "{'loss': 0.4022, 'grad_norm': 2.301821708679199, 'learning_rate': 1.8835294117647058e-05, 'epoch': 1.88}\n",
      "{'loss': 0.4047, 'grad_norm': 3.1990087032318115, 'learning_rate': 1.8751260504201683e-05, 'epoch': 1.89}\n",
      "{'loss': 0.4047, 'grad_norm': 3.1990087032318115, 'learning_rate': 1.8751260504201683e-05, 'epoch': 1.89}\n",
      "{'loss': 0.3869, 'grad_norm': 2.022980213165283, 'learning_rate': 1.8667226890756304e-05, 'epoch': 1.89}\n",
      "{'loss': 0.3869, 'grad_norm': 2.022980213165283, 'learning_rate': 1.8667226890756304e-05, 'epoch': 1.89}\n",
      "{'loss': 0.3987, 'grad_norm': 2.2225687503814697, 'learning_rate': 1.8583193277310926e-05, 'epoch': 1.9}\n",
      "{'loss': 0.3987, 'grad_norm': 2.2225687503814697, 'learning_rate': 1.8583193277310926e-05, 'epoch': 1.9}\n",
      "{'loss': 0.4118, 'grad_norm': 2.4278106689453125, 'learning_rate': 1.8499159663865547e-05, 'epoch': 1.9}\n",
      "{'loss': 0.4118, 'grad_norm': 2.4278106689453125, 'learning_rate': 1.8499159663865547e-05, 'epoch': 1.9}\n"
     ]
    },
    {
     "data": {
      "application/vnd.jupyter.widget-view+json": {
       "model_id": "4c2d1e0b3bb0441c9113fabbb0b1ff0d",
       "version_major": 2,
       "version_minor": 0
      },
      "text/plain": [
       "  0%|          | 0/10000 [00:00<?, ?it/s]"
      ]
     },
     "metadata": {},
     "output_type": "display_data"
    },
    {
     "name": "stdout",
     "output_type": "stream",
     "text": [
      "{'eval_loss': 0.4216327667236328, 'eval_accuracy': 0.806596875, 'eval_precision': 0.8095824103700058, 'eval_recall': 0.801775, 'eval_f1': 0.805659790803782, 'eval_runtime': 451.7996, 'eval_samples_per_second': 708.279, 'eval_steps_per_second': 22.134, 'epoch': 1.9}\n",
      "{'loss': 0.405, 'grad_norm': 3.2006633281707764, 'learning_rate': 1.841512605042017e-05, 'epoch': 1.91}\n",
      "{'loss': 0.405, 'grad_norm': 3.2006633281707764, 'learning_rate': 1.841512605042017e-05, 'epoch': 1.91}\n",
      "{'loss': 0.3974, 'grad_norm': 2.2088587284088135, 'learning_rate': 1.8331092436974793e-05, 'epoch': 1.91}\n",
      "{'loss': 0.3974, 'grad_norm': 2.2088587284088135, 'learning_rate': 1.8331092436974793e-05, 'epoch': 1.91}\n",
      "{'loss': 0.3966, 'grad_norm': 2.852299451828003, 'learning_rate': 1.824705882352941e-05, 'epoch': 1.92}\n",
      "{'loss': 0.3966, 'grad_norm': 2.852299451828003, 'learning_rate': 1.824705882352941e-05, 'epoch': 1.92}\n",
      "{'loss': 0.4006, 'grad_norm': 3.1655893325805664, 'learning_rate': 1.8163025210084033e-05, 'epoch': 1.92}\n",
      "{'loss': 0.4006, 'grad_norm': 3.1655893325805664, 'learning_rate': 1.8163025210084033e-05, 'epoch': 1.92}\n",
      "{'loss': 0.4047, 'grad_norm': 2.55757212638855, 'learning_rate': 1.8078991596638657e-05, 'epoch': 1.93}\n",
      "{'loss': 0.4047, 'grad_norm': 2.55757212638855, 'learning_rate': 1.8078991596638657e-05, 'epoch': 1.93}\n",
      "{'loss': 0.405, 'grad_norm': 2.85575532913208, 'learning_rate': 1.799495798319328e-05, 'epoch': 1.93}\n",
      "{'loss': 0.405, 'grad_norm': 2.85575532913208, 'learning_rate': 1.799495798319328e-05, 'epoch': 1.93}\n",
      "{'loss': 0.4088, 'grad_norm': 2.471705436706543, 'learning_rate': 1.79109243697479e-05, 'epoch': 1.94}\n",
      "{'loss': 0.4088, 'grad_norm': 2.471705436706543, 'learning_rate': 1.79109243697479e-05, 'epoch': 1.94}\n",
      "{'loss': 0.3957, 'grad_norm': 2.423546314239502, 'learning_rate': 1.782689075630252e-05, 'epoch': 1.94}\n",
      "{'loss': 0.3957, 'grad_norm': 2.423546314239502, 'learning_rate': 1.782689075630252e-05, 'epoch': 1.94}\n",
      "{'loss': 0.4012, 'grad_norm': 3.2437093257904053, 'learning_rate': 1.7742857142857143e-05, 'epoch': 1.94}\n",
      "{'loss': 0.4012, 'grad_norm': 3.2437093257904053, 'learning_rate': 1.7742857142857143e-05, 'epoch': 1.94}\n",
      "{'loss': 0.3999, 'grad_norm': 2.538552761077881, 'learning_rate': 1.7658823529411768e-05, 'epoch': 1.95}\n",
      "{'loss': 0.3999, 'grad_norm': 2.538552761077881, 'learning_rate': 1.7658823529411768e-05, 'epoch': 1.95}\n"
     ]
    },
    {
     "data": {
      "application/vnd.jupyter.widget-view+json": {
       "model_id": "57a9d155c18648b088dfb6ff1919a252",
       "version_major": 2,
       "version_minor": 0
      },
      "text/plain": [
       "  0%|          | 0/10000 [00:00<?, ?it/s]"
      ]
     },
     "metadata": {},
     "output_type": "display_data"
    },
    {
     "name": "stdout",
     "output_type": "stream",
     "text": [
      "{'eval_loss': 0.4306868612766266, 'eval_accuracy': 0.80721875, 'eval_precision': 0.8075801566841038, 'eval_recall': 0.80663125, 'eval_f1': 0.8071054244368566, 'eval_runtime': 451.204, 'eval_samples_per_second': 709.214, 'eval_steps_per_second': 22.163, 'epoch': 1.95}\n",
      "{'loss': 0.4092, 'grad_norm': 1.9053245782852173, 'learning_rate': 1.757478991596639e-05, 'epoch': 1.96}\n",
      "{'loss': 0.4092, 'grad_norm': 1.9053245782852173, 'learning_rate': 1.757478991596639e-05, 'epoch': 1.96}\n",
      "{'loss': 0.4015, 'grad_norm': 2.84304141998291, 'learning_rate': 1.7490756302521007e-05, 'epoch': 1.96}\n",
      "{'loss': 0.4015, 'grad_norm': 2.84304141998291, 'learning_rate': 1.7490756302521007e-05, 'epoch': 1.96}\n",
      "{'loss': 0.4038, 'grad_norm': 2.239461660385132, 'learning_rate': 1.7406722689075632e-05, 'epoch': 1.96}\n",
      "{'loss': 0.4038, 'grad_norm': 2.239461660385132, 'learning_rate': 1.7406722689075632e-05, 'epoch': 1.96}\n",
      "{'loss': 0.3977, 'grad_norm': 3.1134402751922607, 'learning_rate': 1.7322689075630253e-05, 'epoch': 1.97}\n",
      "{'loss': 0.3977, 'grad_norm': 3.1134402751922607, 'learning_rate': 1.7322689075630253e-05, 'epoch': 1.97}\n",
      "{'loss': 0.4063, 'grad_norm': 2.1406779289245605, 'learning_rate': 1.7238655462184874e-05, 'epoch': 1.98}\n",
      "{'loss': 0.4063, 'grad_norm': 2.1406779289245605, 'learning_rate': 1.7238655462184874e-05, 'epoch': 1.98}\n",
      "{'loss': 0.4045, 'grad_norm': 3.1935534477233887, 'learning_rate': 1.7154621848739496e-05, 'epoch': 1.98}\n",
      "{'loss': 0.4045, 'grad_norm': 3.1935534477233887, 'learning_rate': 1.7154621848739496e-05, 'epoch': 1.98}\n",
      "{'loss': 0.4006, 'grad_norm': 2.922067165374756, 'learning_rate': 1.7070588235294117e-05, 'epoch': 1.98}\n",
      "{'loss': 0.4006, 'grad_norm': 2.922067165374756, 'learning_rate': 1.7070588235294117e-05, 'epoch': 1.98}\n",
      "{'loss': 0.3913, 'grad_norm': 3.6314291954040527, 'learning_rate': 1.6986554621848742e-05, 'epoch': 1.99}\n",
      "{'loss': 0.3913, 'grad_norm': 3.6314291954040527, 'learning_rate': 1.6986554621848742e-05, 'epoch': 1.99}\n",
      "{'loss': 0.4017, 'grad_norm': 2.911393165588379, 'learning_rate': 1.6902521008403363e-05, 'epoch': 2.0}\n",
      "{'loss': 0.4017, 'grad_norm': 2.911393165588379, 'learning_rate': 1.6902521008403363e-05, 'epoch': 2.0}\n",
      "{'loss': 0.4048, 'grad_norm': 2.3573007583618164, 'learning_rate': 1.6818487394957985e-05, 'epoch': 2.0}\n",
      "{'loss': 0.4048, 'grad_norm': 2.3573007583618164, 'learning_rate': 1.6818487394957985e-05, 'epoch': 2.0}\n"
     ]
    },
    {
     "data": {
      "application/vnd.jupyter.widget-view+json": {
       "model_id": "668e1c264115458a84961897ba4ed711",
       "version_major": 2,
       "version_minor": 0
      },
      "text/plain": [
       "  0%|          | 0/10000 [00:00<?, ?it/s]"
      ]
     },
     "metadata": {},
     "output_type": "display_data"
    },
    {
     "name": "stdout",
     "output_type": "stream",
     "text": [
      "{'eval_loss': 0.4188728928565979, 'eval_accuracy': 0.80615625, 'eval_precision': 0.8176636144328292, 'eval_recall': 0.78804375, 'eval_f1': 0.8025804891089865, 'eval_runtime': 454.3915, 'eval_samples_per_second': 704.239, 'eval_steps_per_second': 22.007, 'epoch': 2.0}\n",
      "{'loss': 0.3741, 'grad_norm': 2.6009678840637207, 'learning_rate': 1.6734453781512606e-05, 'epoch': 2.0}\n",
      "{'loss': 0.3741, 'grad_norm': 2.6009678840637207, 'learning_rate': 1.6734453781512606e-05, 'epoch': 2.0}\n",
      "{'loss': 0.3563, 'grad_norm': 3.303574323654175, 'learning_rate': 1.6650420168067227e-05, 'epoch': 2.01}\n",
      "{'loss': 0.3563, 'grad_norm': 3.303574323654175, 'learning_rate': 1.6650420168067227e-05, 'epoch': 2.01}\n",
      "{'loss': 0.377, 'grad_norm': 6.592339515686035, 'learning_rate': 1.656638655462185e-05, 'epoch': 2.02}\n",
      "{'loss': 0.377, 'grad_norm': 6.592339515686035, 'learning_rate': 1.656638655462185e-05, 'epoch': 2.02}\n",
      "{'loss': 0.3676, 'grad_norm': 4.189804553985596, 'learning_rate': 1.6483193277310922e-05, 'epoch': 2.02}\n",
      "{'loss': 0.3676, 'grad_norm': 4.189804553985596, 'learning_rate': 1.6483193277310922e-05, 'epoch': 2.02}\n",
      "{'loss': 0.3764, 'grad_norm': 4.1580915451049805, 'learning_rate': 1.6399159663865547e-05, 'epoch': 2.02}\n",
      "{'loss': 0.3764, 'grad_norm': 4.1580915451049805, 'learning_rate': 1.6399159663865547e-05, 'epoch': 2.02}\n",
      "{'loss': 0.3571, 'grad_norm': 3.7389743328094482, 'learning_rate': 1.6315126050420168e-05, 'epoch': 2.03}\n",
      "{'loss': 0.3571, 'grad_norm': 3.7389743328094482, 'learning_rate': 1.6315126050420168e-05, 'epoch': 2.03}\n",
      "{'loss': 0.3642, 'grad_norm': 2.8670804500579834, 'learning_rate': 1.623109243697479e-05, 'epoch': 2.04}\n",
      "{'loss': 0.3642, 'grad_norm': 2.8670804500579834, 'learning_rate': 1.623109243697479e-05, 'epoch': 2.04}\n",
      "{'loss': 0.3591, 'grad_norm': 3.2240989208221436, 'learning_rate': 1.6147899159663866e-05, 'epoch': 2.04}\n",
      "{'loss': 0.3591, 'grad_norm': 3.2240989208221436, 'learning_rate': 1.6147899159663866e-05, 'epoch': 2.04}\n",
      "{'loss': 0.3624, 'grad_norm': 4.647980690002441, 'learning_rate': 1.6063865546218488e-05, 'epoch': 2.04}\n",
      "{'loss': 0.3624, 'grad_norm': 4.647980690002441, 'learning_rate': 1.6063865546218488e-05, 'epoch': 2.04}\n",
      "{'loss': 0.3453, 'grad_norm': 3.216783046722412, 'learning_rate': 1.597983193277311e-05, 'epoch': 2.05}\n",
      "{'loss': 0.3453, 'grad_norm': 3.216783046722412, 'learning_rate': 1.597983193277311e-05, 'epoch': 2.05}\n"
     ]
    },
    {
     "data": {
      "application/vnd.jupyter.widget-view+json": {
       "model_id": "5a74eac8a13f4d7b8d6c2f8f6d7ea2f5",
       "version_major": 2,
       "version_minor": 0
      },
      "text/plain": [
       "  0%|          | 0/10000 [00:00<?, ?it/s]"
      ]
     },
     "metadata": {},
     "output_type": "display_data"
    },
    {
     "name": "stdout",
     "output_type": "stream",
     "text": [
      "{'eval_loss': 0.4444977939128876, 'eval_accuracy': 0.80631875, 'eval_precision': 0.8054329943164822, 'eval_recall': 0.80776875, 'eval_f1': 0.8065991811872785, 'eval_runtime': 455.1645, 'eval_samples_per_second': 703.043, 'eval_steps_per_second': 21.97, 'epoch': 2.05}\n",
      "{'loss': 0.352, 'grad_norm': 3.8451173305511475, 'learning_rate': 1.589579831932773e-05, 'epoch': 2.06}\n",
      "{'loss': 0.352, 'grad_norm': 3.8451173305511475, 'learning_rate': 1.589579831932773e-05, 'epoch': 2.06}\n",
      "{'loss': 0.3528, 'grad_norm': 3.0150346755981445, 'learning_rate': 1.5811764705882355e-05, 'epoch': 2.06}\n",
      "{'loss': 0.3528, 'grad_norm': 3.0150346755981445, 'learning_rate': 1.5811764705882355e-05, 'epoch': 2.06}\n",
      "{'loss': 0.3616, 'grad_norm': 3.2994768619537354, 'learning_rate': 1.5727731092436977e-05, 'epoch': 2.06}\n",
      "{'loss': 0.3616, 'grad_norm': 3.2994768619537354, 'learning_rate': 1.5727731092436977e-05, 'epoch': 2.06}\n",
      "{'loss': 0.3547, 'grad_norm': 4.287217617034912, 'learning_rate': 1.5643697478991598e-05, 'epoch': 2.07}\n",
      "{'loss': 0.3547, 'grad_norm': 4.287217617034912, 'learning_rate': 1.5643697478991598e-05, 'epoch': 2.07}\n",
      "{'loss': 0.3556, 'grad_norm': 3.746899127960205, 'learning_rate': 1.555966386554622e-05, 'epoch': 2.08}\n",
      "{'loss': 0.3556, 'grad_norm': 3.746899127960205, 'learning_rate': 1.555966386554622e-05, 'epoch': 2.08}\n",
      "{'loss': 0.3815, 'grad_norm': 5.609861373901367, 'learning_rate': 1.547563025210084e-05, 'epoch': 2.08}\n",
      "{'loss': 0.3815, 'grad_norm': 5.609861373901367, 'learning_rate': 1.547563025210084e-05, 'epoch': 2.08}\n",
      "{'loss': 0.3744, 'grad_norm': 3.354253053665161, 'learning_rate': 1.5391596638655462e-05, 'epoch': 2.08}\n",
      "{'loss': 0.3744, 'grad_norm': 3.354253053665161, 'learning_rate': 1.5391596638655462e-05, 'epoch': 2.08}\n",
      "{'loss': 0.3802, 'grad_norm': 4.031870365142822, 'learning_rate': 1.5307563025210083e-05, 'epoch': 2.09}\n",
      "{'loss': 0.3802, 'grad_norm': 4.031870365142822, 'learning_rate': 1.5307563025210083e-05, 'epoch': 2.09}\n",
      "{'loss': 0.3625, 'grad_norm': 4.055242538452148, 'learning_rate': 1.5223529411764707e-05, 'epoch': 2.1}\n",
      "{'loss': 0.3625, 'grad_norm': 4.055242538452148, 'learning_rate': 1.5223529411764707e-05, 'epoch': 2.1}\n",
      "{'loss': 0.3689, 'grad_norm': 3.1763174533843994, 'learning_rate': 1.5139495798319328e-05, 'epoch': 2.1}\n",
      "{'loss': 0.3689, 'grad_norm': 3.1763174533843994, 'learning_rate': 1.5139495798319328e-05, 'epoch': 2.1}\n"
     ]
    },
    {
     "data": {
      "application/vnd.jupyter.widget-view+json": {
       "model_id": "e66e3cbec18946ee8432a424f82480bb",
       "version_major": 2,
       "version_minor": 0
      },
      "text/plain": [
       "  0%|          | 0/10000 [00:00<?, ?it/s]"
      ]
     },
     "metadata": {},
     "output_type": "display_data"
    },
    {
     "name": "stdout",
     "output_type": "stream",
     "text": [
      "{'eval_loss': 0.43390023708343506, 'eval_accuracy': 0.806084375, 'eval_precision': 0.8096237616250767, 'eval_recall': 0.80036875, 'eval_f1': 0.8049696546825449, 'eval_runtime': 457.3065, 'eval_samples_per_second': 699.749, 'eval_steps_per_second': 21.867, 'epoch': 2.1}\n",
      "{'loss': 0.3683, 'grad_norm': 3.430711269378662, 'learning_rate': 1.5055462184873951e-05, 'epoch': 2.1}\n",
      "{'loss': 0.3683, 'grad_norm': 3.430711269378662, 'learning_rate': 1.5055462184873951e-05, 'epoch': 2.1}\n",
      "{'loss': 0.3719, 'grad_norm': 4.163781642913818, 'learning_rate': 1.4971428571428572e-05, 'epoch': 2.11}\n",
      "{'loss': 0.3719, 'grad_norm': 4.163781642913818, 'learning_rate': 1.4971428571428572e-05, 'epoch': 2.11}\n",
      "{'loss': 0.3706, 'grad_norm': 3.121023416519165, 'learning_rate': 1.4887394957983194e-05, 'epoch': 2.12}\n",
      "{'loss': 0.3706, 'grad_norm': 3.121023416519165, 'learning_rate': 1.4887394957983194e-05, 'epoch': 2.12}\n",
      "{'loss': 0.3643, 'grad_norm': 3.755356550216675, 'learning_rate': 1.4803361344537817e-05, 'epoch': 2.12}\n",
      "{'loss': 0.3643, 'grad_norm': 3.755356550216675, 'learning_rate': 1.4803361344537817e-05, 'epoch': 2.12}\n",
      "{'loss': 0.3466, 'grad_norm': 3.4024507999420166, 'learning_rate': 1.4719327731092438e-05, 'epoch': 2.12}\n",
      "{'loss': 0.3466, 'grad_norm': 3.4024507999420166, 'learning_rate': 1.4719327731092438e-05, 'epoch': 2.12}\n",
      "{'loss': 0.3683, 'grad_norm': 3.4761531352996826, 'learning_rate': 1.4635294117647058e-05, 'epoch': 2.13}\n",
      "{'loss': 0.3683, 'grad_norm': 3.4761531352996826, 'learning_rate': 1.4635294117647058e-05, 'epoch': 2.13}\n",
      "{'loss': 0.3631, 'grad_norm': 2.440758228302002, 'learning_rate': 1.4551260504201681e-05, 'epoch': 2.13}\n",
      "{'loss': 0.3631, 'grad_norm': 2.440758228302002, 'learning_rate': 1.4551260504201681e-05, 'epoch': 2.13}\n",
      "{'loss': 0.3667, 'grad_norm': 3.8673181533813477, 'learning_rate': 1.4467226890756302e-05, 'epoch': 2.14}\n",
      "{'loss': 0.3667, 'grad_norm': 3.8673181533813477, 'learning_rate': 1.4467226890756302e-05, 'epoch': 2.14}\n",
      "{'loss': 0.3756, 'grad_norm': 4.616090297698975, 'learning_rate': 1.4383193277310925e-05, 'epoch': 2.15}\n",
      "{'loss': 0.3756, 'grad_norm': 4.616090297698975, 'learning_rate': 1.4383193277310925e-05, 'epoch': 2.15}\n",
      "{'loss': 0.3607, 'grad_norm': 4.50828742980957, 'learning_rate': 1.43e-05, 'epoch': 2.15}\n",
      "{'loss': 0.3607, 'grad_norm': 4.50828742980957, 'learning_rate': 1.43e-05, 'epoch': 2.15}\n"
     ]
    },
    {
     "data": {
      "application/vnd.jupyter.widget-view+json": {
       "model_id": "d729c11186f44d77b9c6f47b72549a49",
       "version_major": 2,
       "version_minor": 0
      },
      "text/plain": [
       "  0%|          | 0/10000 [00:00<?, ?it/s]"
      ]
     },
     "metadata": {},
     "output_type": "display_data"
    },
    {
     "name": "stdout",
     "output_type": "stream",
     "text": [
      "{'eval_loss': 0.44029751420021057, 'eval_accuracy': 0.8063625, 'eval_precision': 0.80809166446682, 'eval_recall': 0.80355625, 'eval_f1': 0.8058175755714474, 'eval_runtime': 457.271, 'eval_samples_per_second': 699.804, 'eval_steps_per_second': 21.869, 'epoch': 2.15}\n",
      "{'loss': 0.3552, 'grad_norm': 3.7850613594055176, 'learning_rate': 1.4215966386554622e-05, 'epoch': 2.15}\n",
      "{'loss': 0.3552, 'grad_norm': 3.7850613594055176, 'learning_rate': 1.4215966386554622e-05, 'epoch': 2.15}\n",
      "{'loss': 0.3642, 'grad_norm': 2.4216935634613037, 'learning_rate': 1.4131932773109243e-05, 'epoch': 2.16}\n",
      "{'loss': 0.3642, 'grad_norm': 2.4216935634613037, 'learning_rate': 1.4131932773109243e-05, 'epoch': 2.16}\n",
      "{'loss': 0.3621, 'grad_norm': 3.042602062225342, 'learning_rate': 1.4047899159663866e-05, 'epoch': 2.17}\n",
      "{'loss': 0.3621, 'grad_norm': 3.042602062225342, 'learning_rate': 1.4047899159663866e-05, 'epoch': 2.17}\n",
      "{'loss': 0.3685, 'grad_norm': 2.479935884475708, 'learning_rate': 1.3963865546218487e-05, 'epoch': 2.17}\n",
      "{'loss': 0.3685, 'grad_norm': 2.479935884475708, 'learning_rate': 1.3963865546218487e-05, 'epoch': 2.17}\n",
      "{'loss': 0.3661, 'grad_norm': 6.192637920379639, 'learning_rate': 1.387983193277311e-05, 'epoch': 2.17}\n",
      "{'loss': 0.3661, 'grad_norm': 6.192637920379639, 'learning_rate': 1.387983193277311e-05, 'epoch': 2.17}\n",
      "{'loss': 0.3699, 'grad_norm': 6.481415748596191, 'learning_rate': 1.3795798319327732e-05, 'epoch': 2.18}\n",
      "{'loss': 0.3699, 'grad_norm': 6.481415748596191, 'learning_rate': 1.3795798319327732e-05, 'epoch': 2.18}\n",
      "{'loss': 0.3741, 'grad_norm': 2.7639503479003906, 'learning_rate': 1.3711764705882355e-05, 'epoch': 2.19}\n",
      "{'loss': 0.3741, 'grad_norm': 2.7639503479003906, 'learning_rate': 1.3711764705882355e-05, 'epoch': 2.19}\n",
      "{'loss': 0.3701, 'grad_norm': 3.322349786758423, 'learning_rate': 1.3627731092436976e-05, 'epoch': 2.19}\n",
      "{'loss': 0.3701, 'grad_norm': 3.322349786758423, 'learning_rate': 1.3627731092436976e-05, 'epoch': 2.19}\n",
      "{'loss': 0.3657, 'grad_norm': 5.52821683883667, 'learning_rate': 1.3543697478991596e-05, 'epoch': 2.19}\n",
      "{'loss': 0.3657, 'grad_norm': 5.52821683883667, 'learning_rate': 1.3543697478991596e-05, 'epoch': 2.19}\n",
      "{'loss': 0.365, 'grad_norm': 5.865468978881836, 'learning_rate': 1.3459663865546217e-05, 'epoch': 2.2}\n",
      "{'loss': 0.365, 'grad_norm': 5.865468978881836, 'learning_rate': 1.3459663865546217e-05, 'epoch': 2.2}\n"
     ]
    },
    {
     "data": {
      "application/vnd.jupyter.widget-view+json": {
       "model_id": "24af2f6a5fc8404da96cbc9bfcab6200",
       "version_major": 2,
       "version_minor": 0
      },
      "text/plain": [
       "  0%|          | 0/10000 [00:00<?, ?it/s]"
      ]
     },
     "metadata": {},
     "output_type": "display_data"
    },
    {
     "name": "stdout",
     "output_type": "stream",
     "text": [
      "{'eval_loss': 0.4414796829223633, 'eval_accuracy': 0.804675, 'eval_precision': 0.8187435431351267, 'eval_recall': 0.78260625, 'eval_f1': 0.8002671455687708, 'eval_runtime': 460.6645, 'eval_samples_per_second': 694.649, 'eval_steps_per_second': 21.708, 'epoch': 2.2}\n",
      "{'loss': 0.3483, 'grad_norm': 3.3462815284729004, 'learning_rate': 1.337563025210084e-05, 'epoch': 2.21}\n",
      "{'loss': 0.3483, 'grad_norm': 3.3462815284729004, 'learning_rate': 1.337563025210084e-05, 'epoch': 2.21}\n",
      "{'loss': 0.3802, 'grad_norm': 5.202150344848633, 'learning_rate': 1.3291596638655462e-05, 'epoch': 2.21}\n",
      "{'loss': 0.3802, 'grad_norm': 5.202150344848633, 'learning_rate': 1.3291596638655462e-05, 'epoch': 2.21}\n",
      "{'loss': 0.3768, 'grad_norm': 3.1669013500213623, 'learning_rate': 1.3207563025210085e-05, 'epoch': 2.21}\n",
      "{'loss': 0.3768, 'grad_norm': 3.1669013500213623, 'learning_rate': 1.3207563025210085e-05, 'epoch': 2.21}\n",
      "{'loss': 0.3529, 'grad_norm': 3.520042657852173, 'learning_rate': 1.3123529411764706e-05, 'epoch': 2.22}\n",
      "{'loss': 0.3529, 'grad_norm': 3.520042657852173, 'learning_rate': 1.3123529411764706e-05, 'epoch': 2.22}\n",
      "{'loss': 0.3812, 'grad_norm': 2.234833240509033, 'learning_rate': 1.303949579831933e-05, 'epoch': 2.23}\n",
      "{'loss': 0.3812, 'grad_norm': 2.234833240509033, 'learning_rate': 1.303949579831933e-05, 'epoch': 2.23}\n",
      "{'loss': 0.3723, 'grad_norm': 3.0271012783050537, 'learning_rate': 1.295546218487395e-05, 'epoch': 2.23}\n",
      "{'loss': 0.3723, 'grad_norm': 3.0271012783050537, 'learning_rate': 1.295546218487395e-05, 'epoch': 2.23}\n",
      "{'loss': 0.3701, 'grad_norm': 4.0158867835998535, 'learning_rate': 1.2871428571428574e-05, 'epoch': 2.23}\n",
      "{'loss': 0.3701, 'grad_norm': 4.0158867835998535, 'learning_rate': 1.2871428571428574e-05, 'epoch': 2.23}\n",
      "{'loss': 0.3556, 'grad_norm': 3.017965793609619, 'learning_rate': 1.2787394957983192e-05, 'epoch': 2.24}\n",
      "{'loss': 0.3556, 'grad_norm': 3.017965793609619, 'learning_rate': 1.2787394957983192e-05, 'epoch': 2.24}\n",
      "{'loss': 0.3675, 'grad_norm': 3.510014533996582, 'learning_rate': 1.270420168067227e-05, 'epoch': 2.25}\n",
      "{'loss': 0.3675, 'grad_norm': 3.510014533996582, 'learning_rate': 1.270420168067227e-05, 'epoch': 2.25}\n",
      "{'loss': 0.3636, 'grad_norm': 4.516976833343506, 'learning_rate': 1.2620168067226893e-05, 'epoch': 2.25}\n",
      "{'loss': 0.3636, 'grad_norm': 4.516976833343506, 'learning_rate': 1.2620168067226893e-05, 'epoch': 2.25}\n"
     ]
    },
    {
     "data": {
      "application/vnd.jupyter.widget-view+json": {
       "model_id": "2bf9503f546344b2b1472600723f2cf8",
       "version_major": 2,
       "version_minor": 0
      },
      "text/plain": [
       "  0%|          | 0/10000 [00:00<?, ?it/s]"
      ]
     },
     "metadata": {},
     "output_type": "display_data"
    },
    {
     "name": "stdout",
     "output_type": "stream",
     "text": [
      "{'eval_loss': 0.44168639183044434, 'eval_accuracy': 0.805528125, 'eval_precision': 0.8022954529994868, 'eval_recall': 0.810875, 'eval_f1': 0.8065624116054472, 'eval_runtime': 462.9154, 'eval_samples_per_second': 691.271, 'eval_steps_per_second': 21.602, 'epoch': 2.25}\n",
      "{'loss': 0.3773, 'grad_norm': 3.0263400077819824, 'learning_rate': 1.2536134453781515e-05, 'epoch': 2.25}\n",
      "{'loss': 0.3773, 'grad_norm': 3.0263400077819824, 'learning_rate': 1.2536134453781515e-05, 'epoch': 2.25}\n",
      "{'loss': 0.3614, 'grad_norm': 2.9932641983032227, 'learning_rate': 1.2452100840336136e-05, 'epoch': 2.26}\n",
      "{'loss': 0.3614, 'grad_norm': 2.9932641983032227, 'learning_rate': 1.2452100840336136e-05, 'epoch': 2.26}\n",
      "{'loss': 0.3638, 'grad_norm': 3.407520055770874, 'learning_rate': 1.2368067226890757e-05, 'epoch': 2.27}\n",
      "{'loss': 0.3638, 'grad_norm': 3.407520055770874, 'learning_rate': 1.2368067226890757e-05, 'epoch': 2.27}\n",
      "{'loss': 0.3621, 'grad_norm': 3.6482131481170654, 'learning_rate': 1.2284033613445379e-05, 'epoch': 2.27}\n",
      "{'loss': 0.3621, 'grad_norm': 3.6482131481170654, 'learning_rate': 1.2284033613445379e-05, 'epoch': 2.27}\n",
      "{'loss': 0.3586, 'grad_norm': 3.73659610748291, 'learning_rate': 1.22e-05, 'epoch': 2.27}\n",
      "{'loss': 0.3586, 'grad_norm': 3.73659610748291, 'learning_rate': 1.22e-05, 'epoch': 2.27}\n",
      "{'loss': 0.3704, 'grad_norm': 2.982451915740967, 'learning_rate': 1.2115966386554623e-05, 'epoch': 2.28}\n",
      "{'loss': 0.3704, 'grad_norm': 2.982451915740967, 'learning_rate': 1.2115966386554623e-05, 'epoch': 2.28}\n",
      "{'loss': 0.3649, 'grad_norm': 3.4372479915618896, 'learning_rate': 1.2031932773109245e-05, 'epoch': 2.29}\n",
      "{'loss': 0.3649, 'grad_norm': 3.4372479915618896, 'learning_rate': 1.2031932773109245e-05, 'epoch': 2.29}\n",
      "{'loss': 0.3619, 'grad_norm': 3.83186411857605, 'learning_rate': 1.1947899159663868e-05, 'epoch': 2.29}\n",
      "{'loss': 0.3619, 'grad_norm': 3.83186411857605, 'learning_rate': 1.1947899159663868e-05, 'epoch': 2.29}\n",
      "{'loss': 0.3608, 'grad_norm': 4.086605548858643, 'learning_rate': 1.1863865546218487e-05, 'epoch': 2.29}\n",
      "{'loss': 0.3608, 'grad_norm': 4.086605548858643, 'learning_rate': 1.1863865546218487e-05, 'epoch': 2.29}\n",
      "{'loss': 0.3564, 'grad_norm': 2.5407216548919678, 'learning_rate': 1.177983193277311e-05, 'epoch': 2.3}\n",
      "{'loss': 0.3564, 'grad_norm': 2.5407216548919678, 'learning_rate': 1.177983193277311e-05, 'epoch': 2.3}\n"
     ]
    },
    {
     "data": {
      "application/vnd.jupyter.widget-view+json": {
       "model_id": "f1336a5e74304d5e964c03f325d7829a",
       "version_major": 2,
       "version_minor": 0
      },
      "text/plain": [
       "  0%|          | 0/10000 [00:00<?, ?it/s]"
      ]
     },
     "metadata": {},
     "output_type": "display_data"
    },
    {
     "name": "stdout",
     "output_type": "stream",
     "text": [
      "{'eval_loss': 0.44090747833251953, 'eval_accuracy': 0.805771875, 'eval_precision': 0.8122650360942856, 'eval_recall': 0.795375, 'eval_f1': 0.8037312937951767, 'eval_runtime': 464.3271, 'eval_samples_per_second': 689.169, 'eval_steps_per_second': 21.537, 'epoch': 2.3}\n",
      "{'loss': 0.369, 'grad_norm': 3.2982561588287354, 'learning_rate': 1.1695798319327732e-05, 'epoch': 2.31}\n",
      "{'loss': 0.369, 'grad_norm': 3.2982561588287354, 'learning_rate': 1.1695798319327732e-05, 'epoch': 2.31}\n",
      "{'loss': 0.3664, 'grad_norm': 3.118867874145508, 'learning_rate': 1.1611764705882355e-05, 'epoch': 2.31}\n",
      "{'loss': 0.3664, 'grad_norm': 3.118867874145508, 'learning_rate': 1.1611764705882355e-05, 'epoch': 2.31}\n",
      "{'loss': 0.385, 'grad_norm': 2.7712955474853516, 'learning_rate': 1.1527731092436974e-05, 'epoch': 2.31}\n",
      "{'loss': 0.385, 'grad_norm': 2.7712955474853516, 'learning_rate': 1.1527731092436974e-05, 'epoch': 2.31}\n",
      "{'loss': 0.3584, 'grad_norm': 3.244591474533081, 'learning_rate': 1.1443697478991598e-05, 'epoch': 2.32}\n",
      "{'loss': 0.3584, 'grad_norm': 3.244591474533081, 'learning_rate': 1.1443697478991598e-05, 'epoch': 2.32}\n",
      "{'loss': 0.3552, 'grad_norm': 3.7979016304016113, 'learning_rate': 1.1359663865546219e-05, 'epoch': 2.33}\n",
      "{'loss': 0.3552, 'grad_norm': 3.7979016304016113, 'learning_rate': 1.1359663865546219e-05, 'epoch': 2.33}\n",
      "{'loss': 0.3581, 'grad_norm': 3.863412857055664, 'learning_rate': 1.1275630252100842e-05, 'epoch': 2.33}\n",
      "{'loss': 0.3581, 'grad_norm': 3.863412857055664, 'learning_rate': 1.1275630252100842e-05, 'epoch': 2.33}\n",
      "{'loss': 0.3652, 'grad_norm': 3.609916925430298, 'learning_rate': 1.1191596638655463e-05, 'epoch': 2.33}\n",
      "{'loss': 0.3652, 'grad_norm': 3.609916925430298, 'learning_rate': 1.1191596638655463e-05, 'epoch': 2.33}\n",
      "{'loss': 0.3678, 'grad_norm': 3.618847608566284, 'learning_rate': 1.1108403361344538e-05, 'epoch': 2.34}\n",
      "{'loss': 0.3678, 'grad_norm': 3.618847608566284, 'learning_rate': 1.1108403361344538e-05, 'epoch': 2.34}\n",
      "{'loss': 0.3765, 'grad_norm': 4.247918605804443, 'learning_rate': 1.102436974789916e-05, 'epoch': 2.34}\n",
      "{'loss': 0.3765, 'grad_norm': 4.247918605804443, 'learning_rate': 1.102436974789916e-05, 'epoch': 2.34}\n",
      "{'loss': 0.3788, 'grad_norm': 2.7827281951904297, 'learning_rate': 1.0940336134453783e-05, 'epoch': 2.35}\n",
      "{'loss': 0.3788, 'grad_norm': 2.7827281951904297, 'learning_rate': 1.0940336134453783e-05, 'epoch': 2.35}\n"
     ]
    },
    {
     "data": {
      "application/vnd.jupyter.widget-view+json": {
       "model_id": "c2fb5e25d56c4b78aaf419e4bebabf87",
       "version_major": 2,
       "version_minor": 0
      },
      "text/plain": [
       "  0%|          | 0/10000 [00:00<?, ?it/s]"
      ]
     },
     "metadata": {},
     "output_type": "display_data"
    },
    {
     "name": "stdout",
     "output_type": "stream",
     "text": [
      "{'eval_loss': 0.42940834164619446, 'eval_accuracy': 0.807046875, 'eval_precision': 0.8108450124964409, 'eval_recall': 0.8009375, 'eval_f1': 0.8058608058608059, 'eval_runtime': 466.2356, 'eval_samples_per_second': 686.348, 'eval_steps_per_second': 21.448, 'epoch': 2.35}\n",
      "{'loss': 0.3686, 'grad_norm': 3.496999979019165, 'learning_rate': 1.0856302521008402e-05, 'epoch': 2.35}\n",
      "{'loss': 0.3686, 'grad_norm': 3.496999979019165, 'learning_rate': 1.0856302521008402e-05, 'epoch': 2.35}\n",
      "{'loss': 0.37, 'grad_norm': 3.40789532661438, 'learning_rate': 1.0772268907563025e-05, 'epoch': 2.36}\n",
      "{'loss': 0.37, 'grad_norm': 3.40789532661438, 'learning_rate': 1.0772268907563025e-05, 'epoch': 2.36}\n",
      "{'loss': 0.372, 'grad_norm': 2.1933681964874268, 'learning_rate': 1.0688235294117647e-05, 'epoch': 2.37}\n",
      "{'loss': 0.372, 'grad_norm': 2.1933681964874268, 'learning_rate': 1.0688235294117647e-05, 'epoch': 2.37}\n",
      "{'loss': 0.3571, 'grad_norm': 3.5330958366394043, 'learning_rate': 1.060420168067227e-05, 'epoch': 2.37}\n",
      "{'loss': 0.3571, 'grad_norm': 3.5330958366394043, 'learning_rate': 1.060420168067227e-05, 'epoch': 2.37}\n",
      "{'loss': 0.363, 'grad_norm': 4.1127777099609375, 'learning_rate': 1.0520168067226891e-05, 'epoch': 2.38}\n",
      "{'loss': 0.363, 'grad_norm': 4.1127777099609375, 'learning_rate': 1.0520168067226891e-05, 'epoch': 2.38}\n",
      "{'loss': 0.3581, 'grad_norm': 3.1860902309417725, 'learning_rate': 1.0436134453781513e-05, 'epoch': 2.38}\n",
      "{'loss': 0.3581, 'grad_norm': 3.1860902309417725, 'learning_rate': 1.0436134453781513e-05, 'epoch': 2.38}\n",
      "{'loss': 0.3651, 'grad_norm': 3.6267096996307373, 'learning_rate': 1.0352100840336134e-05, 'epoch': 2.38}\n",
      "{'loss': 0.3651, 'grad_norm': 3.6267096996307373, 'learning_rate': 1.0352100840336134e-05, 'epoch': 2.38}\n",
      "{'loss': 0.3551, 'grad_norm': 3.8511245250701904, 'learning_rate': 1.0268067226890757e-05, 'epoch': 2.39}\n",
      "{'loss': 0.3551, 'grad_norm': 3.8511245250701904, 'learning_rate': 1.0268067226890757e-05, 'epoch': 2.39}\n",
      "{'loss': 0.359, 'grad_norm': 2.6811742782592773, 'learning_rate': 1.0184033613445378e-05, 'epoch': 2.4}\n",
      "{'loss': 0.359, 'grad_norm': 2.6811742782592773, 'learning_rate': 1.0184033613445378e-05, 'epoch': 2.4}\n",
      "{'loss': 0.3658, 'grad_norm': 3.923811912536621, 'learning_rate': 1.0100000000000002e-05, 'epoch': 2.4}\n",
      "{'loss': 0.3658, 'grad_norm': 3.923811912536621, 'learning_rate': 1.0100000000000002e-05, 'epoch': 2.4}\n"
     ]
    },
    {
     "data": {
      "application/vnd.jupyter.widget-view+json": {
       "model_id": "8c8ca5dd993446899447d6c082c3ffd3",
       "version_major": 2,
       "version_minor": 0
      },
      "text/plain": [
       "  0%|          | 0/10000 [00:00<?, ?it/s]"
      ]
     },
     "metadata": {},
     "output_type": "display_data"
    },
    {
     "name": "stdout",
     "output_type": "stream",
     "text": [
      "{'eval_loss': 0.43210747838020325, 'eval_accuracy': 0.80681875, 'eval_precision': 0.805315073264174, 'eval_recall': 0.80928125, 'eval_f1': 0.8072932902727035, 'eval_runtime': 468.2382, 'eval_samples_per_second': 683.413, 'eval_steps_per_second': 21.357, 'epoch': 2.4}\n",
      "{'loss': 0.3657, 'grad_norm': 4.06287956237793, 'learning_rate': 1.0015966386554621e-05, 'epoch': 2.41}\n",
      "{'loss': 0.3657, 'grad_norm': 4.06287956237793, 'learning_rate': 1.0015966386554621e-05, 'epoch': 2.41}\n",
      "{'loss': 0.3583, 'grad_norm': 5.037991523742676, 'learning_rate': 9.931932773109244e-06, 'epoch': 2.41}\n",
      "{'loss': 0.3583, 'grad_norm': 5.037991523742676, 'learning_rate': 9.931932773109244e-06, 'epoch': 2.41}\n",
      "{'loss': 0.3651, 'grad_norm': 3.7355504035949707, 'learning_rate': 9.847899159663866e-06, 'epoch': 2.42}\n",
      "{'loss': 0.3651, 'grad_norm': 3.7355504035949707, 'learning_rate': 9.847899159663866e-06, 'epoch': 2.42}\n",
      "{'loss': 0.3656, 'grad_norm': 3.2487335205078125, 'learning_rate': 9.763865546218489e-06, 'epoch': 2.42}\n",
      "{'loss': 0.3656, 'grad_norm': 3.2487335205078125, 'learning_rate': 9.763865546218489e-06, 'epoch': 2.42}\n",
      "{'loss': 0.368, 'grad_norm': 2.9232847690582275, 'learning_rate': 9.679831932773108e-06, 'epoch': 2.42}\n",
      "{'loss': 0.368, 'grad_norm': 2.9232847690582275, 'learning_rate': 9.679831932773108e-06, 'epoch': 2.42}\n",
      "{'loss': 0.3777, 'grad_norm': 4.722205638885498, 'learning_rate': 9.595798319327731e-06, 'epoch': 2.43}\n",
      "{'loss': 0.3777, 'grad_norm': 4.722205638885498, 'learning_rate': 9.595798319327731e-06, 'epoch': 2.43}\n",
      "{'loss': 0.36, 'grad_norm': 3.096068859100342, 'learning_rate': 9.511764705882353e-06, 'epoch': 2.44}\n",
      "{'loss': 0.36, 'grad_norm': 3.096068859100342, 'learning_rate': 9.511764705882353e-06, 'epoch': 2.44}\n",
      "{'loss': 0.363, 'grad_norm': 4.434360504150391, 'learning_rate': 9.427731092436976e-06, 'epoch': 2.44}\n",
      "{'loss': 0.363, 'grad_norm': 4.434360504150391, 'learning_rate': 9.427731092436976e-06, 'epoch': 2.44}\n",
      "{'loss': 0.3625, 'grad_norm': 4.064091205596924, 'learning_rate': 9.343697478991597e-06, 'epoch': 2.44}\n",
      "{'loss': 0.3625, 'grad_norm': 4.064091205596924, 'learning_rate': 9.343697478991597e-06, 'epoch': 2.44}\n",
      "{'loss': 0.3601, 'grad_norm': 2.932659864425659, 'learning_rate': 9.259663865546219e-06, 'epoch': 2.45}\n",
      "{'loss': 0.3601, 'grad_norm': 2.932659864425659, 'learning_rate': 9.259663865546219e-06, 'epoch': 2.45}\n"
     ]
    },
    {
     "data": {
      "application/vnd.jupyter.widget-view+json": {
       "model_id": "c4fb01fa2af6418f9432d190c5e293d7",
       "version_major": 2,
       "version_minor": 0
      },
      "text/plain": [
       "  0%|          | 0/10000 [00:00<?, ?it/s]"
      ]
     },
     "metadata": {},
     "output_type": "display_data"
    },
    {
     "name": "stdout",
     "output_type": "stream",
     "text": [
      "{'eval_loss': 0.43463507294654846, 'eval_accuracy': 0.806775, 'eval_precision': 0.8016766643721113, 'eval_recall': 0.815225, 'eval_f1': 0.8083940701075909, 'eval_runtime': 473.7382, 'eval_samples_per_second': 675.479, 'eval_steps_per_second': 21.109, 'epoch': 2.45}\n",
      "{'loss': 0.3658, 'grad_norm': 3.0209121704101562, 'learning_rate': 9.17563025210084e-06, 'epoch': 2.46}\n",
      "{'loss': 0.3658, 'grad_norm': 3.0209121704101562, 'learning_rate': 9.17563025210084e-06, 'epoch': 2.46}\n",
      "{'loss': 0.3583, 'grad_norm': 3.164851188659668, 'learning_rate': 9.091596638655463e-06, 'epoch': 2.46}\n",
      "{'loss': 0.3583, 'grad_norm': 3.164851188659668, 'learning_rate': 9.091596638655463e-06, 'epoch': 2.46}\n",
      "{'loss': 0.362, 'grad_norm': 2.8076250553131104, 'learning_rate': 9.007563025210084e-06, 'epoch': 2.46}\n",
      "{'loss': 0.362, 'grad_norm': 2.8076250553131104, 'learning_rate': 9.007563025210084e-06, 'epoch': 2.46}\n",
      "{'loss': 0.3657, 'grad_norm': 5.1139421463012695, 'learning_rate': 8.923529411764708e-06, 'epoch': 2.47}\n",
      "{'loss': 0.3657, 'grad_norm': 5.1139421463012695, 'learning_rate': 8.923529411764708e-06, 'epoch': 2.47}\n",
      "{'loss': 0.3753, 'grad_norm': 3.890134811401367, 'learning_rate': 8.839495798319327e-06, 'epoch': 2.48}\n",
      "{'loss': 0.3753, 'grad_norm': 3.890134811401367, 'learning_rate': 8.839495798319327e-06, 'epoch': 2.48}\n",
      "{'loss': 0.353, 'grad_norm': 4.568110942840576, 'learning_rate': 8.75546218487395e-06, 'epoch': 2.48}\n",
      "{'loss': 0.353, 'grad_norm': 4.568110942840576, 'learning_rate': 8.75546218487395e-06, 'epoch': 2.48}\n",
      "{'loss': 0.3652, 'grad_norm': 3.109487533569336, 'learning_rate': 8.671428571428572e-06, 'epoch': 2.48}\n",
      "{'loss': 0.3652, 'grad_norm': 3.109487533569336, 'learning_rate': 8.671428571428572e-06, 'epoch': 2.48}\n",
      "{'loss': 0.3654, 'grad_norm': 3.547450542449951, 'learning_rate': 8.587394957983195e-06, 'epoch': 2.49}\n",
      "{'loss': 0.3654, 'grad_norm': 3.547450542449951, 'learning_rate': 8.587394957983195e-06, 'epoch': 2.49}\n",
      "{'loss': 0.3691, 'grad_norm': 4.156483173370361, 'learning_rate': 8.503361344537814e-06, 'epoch': 2.5}\n",
      "{'loss': 0.3691, 'grad_norm': 4.156483173370361, 'learning_rate': 8.503361344537814e-06, 'epoch': 2.5}\n",
      "{'loss': 0.3657, 'grad_norm': 3.6655335426330566, 'learning_rate': 8.419327731092437e-06, 'epoch': 2.5}\n",
      "{'loss': 0.3657, 'grad_norm': 3.6655335426330566, 'learning_rate': 8.419327731092437e-06, 'epoch': 2.5}\n"
     ]
    },
    {
     "data": {
      "application/vnd.jupyter.widget-view+json": {
       "model_id": "f5f64853e3b8423caa215c4ee13efc5b",
       "version_major": 2,
       "version_minor": 0
      },
      "text/plain": [
       "  0%|          | 0/10000 [00:00<?, ?it/s]"
      ]
     },
     "metadata": {},
     "output_type": "display_data"
    },
    {
     "name": "stdout",
     "output_type": "stream",
     "text": [
      "{'eval_loss': 0.43387895822525024, 'eval_accuracy': 0.8067625, 'eval_precision': 0.8125485551267846, 'eval_recall': 0.79750625, 'eval_f1': 0.8049571344759934, 'eval_runtime': 467.8945, 'eval_samples_per_second': 683.915, 'eval_steps_per_second': 21.372, 'epoch': 2.5}\n",
      "{'loss': 0.3644, 'grad_norm': 4.358745574951172, 'learning_rate': 8.335294117647059e-06, 'epoch': 2.5}\n",
      "{'loss': 0.3644, 'grad_norm': 4.358745574951172, 'learning_rate': 8.335294117647059e-06, 'epoch': 2.5}\n",
      "{'loss': 0.3722, 'grad_norm': 4.321442127227783, 'learning_rate': 8.251260504201682e-06, 'epoch': 2.51}\n",
      "{'loss': 0.3722, 'grad_norm': 4.321442127227783, 'learning_rate': 8.251260504201682e-06, 'epoch': 2.51}\n",
      "{'loss': 0.3643, 'grad_norm': 3.889826774597168, 'learning_rate': 8.167226890756303e-06, 'epoch': 2.52}\n",
      "{'loss': 0.3643, 'grad_norm': 3.889826774597168, 'learning_rate': 8.167226890756303e-06, 'epoch': 2.52}\n",
      "{'loss': 0.359, 'grad_norm': 3.4543046951293945, 'learning_rate': 8.083193277310925e-06, 'epoch': 2.52}\n",
      "{'loss': 0.359, 'grad_norm': 3.4543046951293945, 'learning_rate': 8.083193277310925e-06, 'epoch': 2.52}\n",
      "{'loss': 0.3683, 'grad_norm': 4.956137180328369, 'learning_rate': 7.999159663865546e-06, 'epoch': 2.52}\n",
      "{'loss': 0.3683, 'grad_norm': 4.956137180328369, 'learning_rate': 7.999159663865546e-06, 'epoch': 2.52}\n",
      "{'loss': 0.3524, 'grad_norm': 2.5497865676879883, 'learning_rate': 7.915126050420169e-06, 'epoch': 2.53}\n",
      "{'loss': 0.3524, 'grad_norm': 2.5497865676879883, 'learning_rate': 7.915126050420169e-06, 'epoch': 2.53}\n",
      "{'loss': 0.3616, 'grad_norm': 3.763620138168335, 'learning_rate': 7.83109243697479e-06, 'epoch': 2.54}\n",
      "{'loss': 0.3616, 'grad_norm': 3.763620138168335, 'learning_rate': 7.83109243697479e-06, 'epoch': 2.54}\n",
      "{'loss': 0.3475, 'grad_norm': 3.082756757736206, 'learning_rate': 7.747058823529414e-06, 'epoch': 2.54}\n",
      "{'loss': 0.3475, 'grad_norm': 3.082756757736206, 'learning_rate': 7.747058823529414e-06, 'epoch': 2.54}\n",
      "{'loss': 0.3637, 'grad_norm': 2.5417654514312744, 'learning_rate': 7.663025210084033e-06, 'epoch': 2.54}\n",
      "{'loss': 0.3637, 'grad_norm': 2.5417654514312744, 'learning_rate': 7.663025210084033e-06, 'epoch': 2.54}\n",
      "{'loss': 0.3544, 'grad_norm': 2.870575428009033, 'learning_rate': 7.578991596638655e-06, 'epoch': 2.55}\n",
      "{'loss': 0.3544, 'grad_norm': 2.870575428009033, 'learning_rate': 7.578991596638655e-06, 'epoch': 2.55}\n"
     ]
    },
    {
     "data": {
      "application/vnd.jupyter.widget-view+json": {
       "model_id": "d8699aed7e0547c499423adef78c2369",
       "version_major": 2,
       "version_minor": 0
      },
      "text/plain": [
       "  0%|          | 0/10000 [00:00<?, ?it/s]"
      ]
     },
     "metadata": {},
     "output_type": "display_data"
    },
    {
     "name": "stdout",
     "output_type": "stream",
     "text": [
      "{'eval_loss': 0.43813955783843994, 'eval_accuracy': 0.807178125, 'eval_precision': 0.8032154777254752, 'eval_recall': 0.8137125, 'eval_f1': 0.808429915769146, 'eval_runtime': 466.294, 'eval_samples_per_second': 686.262, 'eval_steps_per_second': 21.446, 'epoch': 2.55}\n",
      "{'loss': 0.3578, 'grad_norm': 3.013256549835205, 'learning_rate': 7.494957983193278e-06, 'epoch': 2.56}\n",
      "{'loss': 0.3578, 'grad_norm': 3.013256549835205, 'learning_rate': 7.494957983193278e-06, 'epoch': 2.56}\n",
      "{'loss': 0.363, 'grad_norm': 2.8059334754943848, 'learning_rate': 7.4109243697479e-06, 'epoch': 2.56}\n",
      "{'loss': 0.363, 'grad_norm': 2.8059334754943848, 'learning_rate': 7.4109243697479e-06, 'epoch': 2.56}\n",
      "{'loss': 0.3596, 'grad_norm': 4.01305627822876, 'learning_rate': 7.32689075630252e-06, 'epoch': 2.56}\n",
      "{'loss': 0.3596, 'grad_norm': 4.01305627822876, 'learning_rate': 7.32689075630252e-06, 'epoch': 2.56}\n",
      "{'loss': 0.3775, 'grad_norm': 3.5984859466552734, 'learning_rate': 7.242857142857143e-06, 'epoch': 2.57}\n",
      "{'loss': 0.3775, 'grad_norm': 3.5984859466552734, 'learning_rate': 7.242857142857143e-06, 'epoch': 2.57}\n",
      "{'loss': 0.3495, 'grad_norm': 4.855819225311279, 'learning_rate': 7.158823529411765e-06, 'epoch': 2.58}\n",
      "{'loss': 0.3495, 'grad_norm': 4.855819225311279, 'learning_rate': 7.158823529411765e-06, 'epoch': 2.58}\n",
      "{'loss': 0.3585, 'grad_norm': 3.2609004974365234, 'learning_rate': 7.074789915966387e-06, 'epoch': 2.58}\n",
      "{'loss': 0.3585, 'grad_norm': 3.2609004974365234, 'learning_rate': 7.074789915966387e-06, 'epoch': 2.58}\n",
      "{'loss': 0.3774, 'grad_norm': 2.7713496685028076, 'learning_rate': 6.990756302521009e-06, 'epoch': 2.58}\n",
      "{'loss': 0.3774, 'grad_norm': 2.7713496685028076, 'learning_rate': 6.990756302521009e-06, 'epoch': 2.58}\n",
      "{'loss': 0.3686, 'grad_norm': 3.3221118450164795, 'learning_rate': 6.90672268907563e-06, 'epoch': 2.59}\n",
      "{'loss': 0.3686, 'grad_norm': 3.3221118450164795, 'learning_rate': 6.90672268907563e-06, 'epoch': 2.59}\n",
      "{'loss': 0.3629, 'grad_norm': 2.686314344406128, 'learning_rate': 6.822689075630252e-06, 'epoch': 2.59}\n",
      "{'loss': 0.3629, 'grad_norm': 2.686314344406128, 'learning_rate': 6.822689075630252e-06, 'epoch': 2.59}\n",
      "{'loss': 0.3601, 'grad_norm': 4.048009395599365, 'learning_rate': 6.738655462184874e-06, 'epoch': 2.6}\n",
      "{'loss': 0.3601, 'grad_norm': 4.048009395599365, 'learning_rate': 6.738655462184874e-06, 'epoch': 2.6}\n"
     ]
    },
    {
     "data": {
      "application/vnd.jupyter.widget-view+json": {
       "model_id": "6818c58c079d4332b0f917177128e056",
       "version_major": 2,
       "version_minor": 0
      },
      "text/plain": [
       "  0%|          | 0/10000 [00:00<?, ?it/s]"
      ]
     },
     "metadata": {},
     "output_type": "display_data"
    },
    {
     "name": "stdout",
     "output_type": "stream",
     "text": [
      "{'eval_loss': 0.434721976518631, 'eval_accuracy': 0.807415625, 'eval_precision': 0.802189633033723, 'eval_recall': 0.8160625, 'eval_f1': 0.8090666022238953, 'eval_runtime': 463.6878, 'eval_samples_per_second': 690.119, 'eval_steps_per_second': 21.566, 'epoch': 2.6}\n",
      "{'loss': 0.3545, 'grad_norm': 3.395611524581909, 'learning_rate': 6.6546218487394964e-06, 'epoch': 2.6}\n",
      "{'loss': 0.3545, 'grad_norm': 3.395611524581909, 'learning_rate': 6.6546218487394964e-06, 'epoch': 2.6}\n",
      "{'loss': 0.3706, 'grad_norm': 2.8047001361846924, 'learning_rate': 6.570588235294119e-06, 'epoch': 2.61}\n",
      "{'loss': 0.3706, 'grad_norm': 2.8047001361846924, 'learning_rate': 6.570588235294119e-06, 'epoch': 2.61}\n",
      "{'loss': 0.3595, 'grad_norm': 3.246629238128662, 'learning_rate': 6.486554621848739e-06, 'epoch': 2.62}\n",
      "{'loss': 0.3595, 'grad_norm': 3.246629238128662, 'learning_rate': 6.486554621848739e-06, 'epoch': 2.62}\n",
      "{'loss': 0.356, 'grad_norm': 3.81441068649292, 'learning_rate': 6.402521008403361e-06, 'epoch': 2.62}\n",
      "{'loss': 0.356, 'grad_norm': 3.81441068649292, 'learning_rate': 6.402521008403361e-06, 'epoch': 2.62}\n",
      "{'loss': 0.3584, 'grad_norm': 4.37061071395874, 'learning_rate': 6.318487394957984e-06, 'epoch': 2.62}\n",
      "{'loss': 0.3584, 'grad_norm': 4.37061071395874, 'learning_rate': 6.318487394957984e-06, 'epoch': 2.62}\n",
      "{'loss': 0.3659, 'grad_norm': 3.3764655590057373, 'learning_rate': 6.234453781512605e-06, 'epoch': 2.63}\n",
      "{'loss': 0.3659, 'grad_norm': 3.3764655590057373, 'learning_rate': 6.234453781512605e-06, 'epoch': 2.63}\n",
      "{'loss': 0.3688, 'grad_norm': 3.731424331665039, 'learning_rate': 6.150420168067227e-06, 'epoch': 2.63}\n",
      "{'loss': 0.3688, 'grad_norm': 3.731424331665039, 'learning_rate': 6.150420168067227e-06, 'epoch': 2.63}\n",
      "{'loss': 0.3706, 'grad_norm': 2.8978281021118164, 'learning_rate': 6.066386554621849e-06, 'epoch': 2.64}\n",
      "{'loss': 0.3706, 'grad_norm': 2.8978281021118164, 'learning_rate': 6.066386554621849e-06, 'epoch': 2.64}\n",
      "{'loss': 0.356, 'grad_norm': 4.253604888916016, 'learning_rate': 5.982352941176471e-06, 'epoch': 2.65}\n",
      "{'loss': 0.356, 'grad_norm': 4.253604888916016, 'learning_rate': 5.982352941176471e-06, 'epoch': 2.65}\n",
      "{'loss': 0.3654, 'grad_norm': 3.696899175643921, 'learning_rate': 5.898319327731093e-06, 'epoch': 2.65}\n",
      "{'loss': 0.3654, 'grad_norm': 3.696899175643921, 'learning_rate': 5.898319327731093e-06, 'epoch': 2.65}\n"
     ]
    },
    {
     "data": {
      "application/vnd.jupyter.widget-view+json": {
       "model_id": "b0875dd1429d464b814d4032f29bdc22",
       "version_major": 2,
       "version_minor": 0
      },
      "text/plain": [
       "  0%|          | 0/10000 [00:00<?, ?it/s]"
      ]
     },
     "metadata": {},
     "output_type": "display_data"
    },
    {
     "name": "stdout",
     "output_type": "stream",
     "text": [
      "{'eval_loss': 0.4337010681629181, 'eval_accuracy': 0.807090625, 'eval_precision': 0.8129247151582313, 'eval_recall': 0.79776875, 'eval_f1': 0.8052754268698524, 'eval_runtime': 462.7689, 'eval_samples_per_second': 691.49, 'eval_steps_per_second': 21.609, 'epoch': 2.65}\n",
      "{'loss': 0.3637, 'grad_norm': 2.9709739685058594, 'learning_rate': 5.814285714285714e-06, 'epoch': 2.66}\n",
      "{'loss': 0.3637, 'grad_norm': 2.9709739685058594, 'learning_rate': 5.814285714285714e-06, 'epoch': 2.66}\n",
      "{'loss': 0.3712, 'grad_norm': 2.2226054668426514, 'learning_rate': 5.730252100840337e-06, 'epoch': 2.66}\n",
      "{'loss': 0.3712, 'grad_norm': 2.2226054668426514, 'learning_rate': 5.730252100840337e-06, 'epoch': 2.66}\n",
      "{'loss': 0.361, 'grad_norm': 3.4462101459503174, 'learning_rate': 5.646218487394958e-06, 'epoch': 2.67}\n",
      "{'loss': 0.361, 'grad_norm': 3.4462101459503174, 'learning_rate': 5.646218487394958e-06, 'epoch': 2.67}\n",
      "{'loss': 0.3611, 'grad_norm': 3.117433547973633, 'learning_rate': 5.56218487394958e-06, 'epoch': 2.67}\n",
      "{'loss': 0.3611, 'grad_norm': 3.117433547973633, 'learning_rate': 5.56218487394958e-06, 'epoch': 2.67}\n",
      "{'loss': 0.3719, 'grad_norm': 3.20524263381958, 'learning_rate': 5.478991596638656e-06, 'epoch': 2.67}\n",
      "{'loss': 0.3719, 'grad_norm': 3.20524263381958, 'learning_rate': 5.478991596638656e-06, 'epoch': 2.67}\n",
      "{'loss': 0.3692, 'grad_norm': 4.14384651184082, 'learning_rate': 5.394957983193277e-06, 'epoch': 2.68}\n",
      "{'loss': 0.3692, 'grad_norm': 4.14384651184082, 'learning_rate': 5.394957983193277e-06, 'epoch': 2.68}\n",
      "{'loss': 0.3572, 'grad_norm': 3.6305127143859863, 'learning_rate': 5.3109243697479e-06, 'epoch': 2.69}\n",
      "{'loss': 0.3572, 'grad_norm': 3.6305127143859863, 'learning_rate': 5.3109243697479e-06, 'epoch': 2.69}\n",
      "{'loss': 0.3668, 'grad_norm': 5.079906940460205, 'learning_rate': 5.226890756302522e-06, 'epoch': 2.69}\n",
      "{'loss': 0.3668, 'grad_norm': 5.079906940460205, 'learning_rate': 5.226890756302522e-06, 'epoch': 2.69}\n",
      "{'loss': 0.3618, 'grad_norm': 3.2499771118164062, 'learning_rate': 5.142857142857143e-06, 'epoch': 2.69}\n",
      "{'loss': 0.3618, 'grad_norm': 3.2499771118164062, 'learning_rate': 5.142857142857143e-06, 'epoch': 2.69}\n",
      "{'loss': 0.3627, 'grad_norm': 2.9289395809173584, 'learning_rate': 5.0588235294117654e-06, 'epoch': 2.7}\n",
      "{'loss': 0.3627, 'grad_norm': 2.9289395809173584, 'learning_rate': 5.0588235294117654e-06, 'epoch': 2.7}\n"
     ]
    },
    {
     "data": {
      "application/vnd.jupyter.widget-view+json": {
       "model_id": "bf55e2235771441b803fcb77def07fc9",
       "version_major": 2,
       "version_minor": 0
      },
      "text/plain": [
       "  0%|          | 0/10000 [00:00<?, ?it/s]"
      ]
     },
     "metadata": {},
     "output_type": "display_data"
    },
    {
     "name": "stdout",
     "output_type": "stream",
     "text": [
      "{'eval_loss': 0.4315516948699951, 'eval_accuracy': 0.80688125, 'eval_precision': 0.8129565184137061, 'eval_recall': 0.797175, 'eval_f1': 0.8049884188403693, 'eval_runtime': 462.4674, 'eval_samples_per_second': 691.941, 'eval_steps_per_second': 21.623, 'epoch': 2.7}\n",
      "{'loss': 0.3554, 'grad_norm': 4.063676834106445, 'learning_rate': 4.974789915966387e-06, 'epoch': 2.71}\n",
      "{'loss': 0.3554, 'grad_norm': 4.063676834106445, 'learning_rate': 4.974789915966387e-06, 'epoch': 2.71}\n",
      "{'loss': 0.3631, 'grad_norm': 2.7016756534576416, 'learning_rate': 4.890756302521009e-06, 'epoch': 2.71}\n",
      "{'loss': 0.3631, 'grad_norm': 2.7016756534576416, 'learning_rate': 4.890756302521009e-06, 'epoch': 2.71}\n",
      "{'loss': 0.3654, 'grad_norm': 4.077674388885498, 'learning_rate': 4.80672268907563e-06, 'epoch': 2.71}\n",
      "{'loss': 0.3654, 'grad_norm': 4.077674388885498, 'learning_rate': 4.80672268907563e-06, 'epoch': 2.71}\n",
      "{'loss': 0.3563, 'grad_norm': 3.7798328399658203, 'learning_rate': 4.722689075630253e-06, 'epoch': 2.72}\n",
      "{'loss': 0.3563, 'grad_norm': 3.7798328399658203, 'learning_rate': 4.722689075630253e-06, 'epoch': 2.72}\n",
      "{'loss': 0.3585, 'grad_norm': 2.7892794609069824, 'learning_rate': 4.638655462184875e-06, 'epoch': 2.73}\n",
      "{'loss': 0.3585, 'grad_norm': 2.7892794609069824, 'learning_rate': 4.638655462184875e-06, 'epoch': 2.73}\n",
      "{'loss': 0.3559, 'grad_norm': 4.033677101135254, 'learning_rate': 4.554621848739496e-06, 'epoch': 2.73}\n",
      "{'loss': 0.3559, 'grad_norm': 4.033677101135254, 'learning_rate': 4.554621848739496e-06, 'epoch': 2.73}\n",
      "{'loss': 0.3747, 'grad_norm': 4.244355201721191, 'learning_rate': 4.4705882352941184e-06, 'epoch': 2.73}\n",
      "{'loss': 0.3747, 'grad_norm': 4.244355201721191, 'learning_rate': 4.4705882352941184e-06, 'epoch': 2.73}\n",
      "{'loss': 0.3571, 'grad_norm': 4.413523197174072, 'learning_rate': 4.38655462184874e-06, 'epoch': 2.74}\n",
      "{'loss': 0.3571, 'grad_norm': 4.413523197174072, 'learning_rate': 4.38655462184874e-06, 'epoch': 2.74}\n",
      "{'loss': 0.3691, 'grad_norm': 3.268427848815918, 'learning_rate': 4.302521008403362e-06, 'epoch': 2.75}\n",
      "{'loss': 0.3691, 'grad_norm': 3.268427848815918, 'learning_rate': 4.302521008403362e-06, 'epoch': 2.75}\n",
      "{'loss': 0.3548, 'grad_norm': 3.8768792152404785, 'learning_rate': 4.218487394957983e-06, 'epoch': 2.75}\n",
      "{'loss': 0.3548, 'grad_norm': 3.8768792152404785, 'learning_rate': 4.218487394957983e-06, 'epoch': 2.75}\n"
     ]
    },
    {
     "data": {
      "application/vnd.jupyter.widget-view+json": {
       "model_id": "f48702e89c5f4516a4f320a0faaa8395",
       "version_major": 2,
       "version_minor": 0
      },
      "text/plain": [
       "  0%|          | 0/10000 [00:00<?, ?it/s]"
      ]
     },
     "metadata": {},
     "output_type": "display_data"
    },
    {
     "name": "stdout",
     "output_type": "stream",
     "text": [
      "{'eval_loss': 0.4337719678878784, 'eval_accuracy': 0.807634375, 'eval_precision': 0.8068538156065508, 'eval_recall': 0.80890625, 'eval_f1': 0.8078787292412463, 'eval_runtime': 462.5109, 'eval_samples_per_second': 691.876, 'eval_steps_per_second': 21.621, 'epoch': 2.75}\n",
      "{'loss': 0.3525, 'grad_norm': 3.4897801876068115, 'learning_rate': 4.134453781512606e-06, 'epoch': 2.75}\n",
      "{'loss': 0.3525, 'grad_norm': 3.4897801876068115, 'learning_rate': 4.134453781512606e-06, 'epoch': 2.75}\n",
      "{'loss': 0.3569, 'grad_norm': 2.9122769832611084, 'learning_rate': 4.050420168067227e-06, 'epoch': 2.76}\n",
      "{'loss': 0.3569, 'grad_norm': 2.9122769832611084, 'learning_rate': 4.050420168067227e-06, 'epoch': 2.76}\n",
      "{'loss': 0.3789, 'grad_norm': 3.458432197570801, 'learning_rate': 3.966386554621849e-06, 'epoch': 2.77}\n",
      "{'loss': 0.3789, 'grad_norm': 3.458432197570801, 'learning_rate': 3.966386554621849e-06, 'epoch': 2.77}\n",
      "{'loss': 0.3538, 'grad_norm': 3.1511495113372803, 'learning_rate': 3.882352941176471e-06, 'epoch': 2.77}\n",
      "{'loss': 0.3538, 'grad_norm': 3.1511495113372803, 'learning_rate': 3.882352941176471e-06, 'epoch': 2.77}\n",
      "{'loss': 0.3485, 'grad_norm': 4.099519729614258, 'learning_rate': 3.7983193277310924e-06, 'epoch': 2.77}\n",
      "{'loss': 0.3485, 'grad_norm': 4.099519729614258, 'learning_rate': 3.7983193277310924e-06, 'epoch': 2.77}\n",
      "{'loss': 0.3629, 'grad_norm': 3.750619888305664, 'learning_rate': 3.7142857142857146e-06, 'epoch': 2.78}\n",
      "{'loss': 0.3629, 'grad_norm': 3.750619888305664, 'learning_rate': 3.7142857142857146e-06, 'epoch': 2.78}\n",
      "{'loss': 0.3574, 'grad_norm': 4.757400035858154, 'learning_rate': 3.630252100840336e-06, 'epoch': 2.79}\n",
      "{'loss': 0.3574, 'grad_norm': 4.757400035858154, 'learning_rate': 3.630252100840336e-06, 'epoch': 2.79}\n",
      "{'loss': 0.3478, 'grad_norm': 4.4363322257995605, 'learning_rate': 3.546218487394958e-06, 'epoch': 2.79}\n",
      "{'loss': 0.3478, 'grad_norm': 4.4363322257995605, 'learning_rate': 3.546218487394958e-06, 'epoch': 2.79}\n",
      "{'loss': 0.3672, 'grad_norm': 4.0407915115356445, 'learning_rate': 3.4621848739495804e-06, 'epoch': 2.79}\n",
      "{'loss': 0.3672, 'grad_norm': 4.0407915115356445, 'learning_rate': 3.4621848739495804e-06, 'epoch': 2.79}\n",
      "{'loss': 0.3489, 'grad_norm': 3.574646234512329, 'learning_rate': 3.3781512605042018e-06, 'epoch': 2.8}\n",
      "{'loss': 0.3489, 'grad_norm': 3.574646234512329, 'learning_rate': 3.3781512605042018e-06, 'epoch': 2.8}\n"
     ]
    },
    {
     "data": {
      "application/vnd.jupyter.widget-view+json": {
       "model_id": "c95a81afc47d4afaa91ae04328f41ef5",
       "version_major": 2,
       "version_minor": 0
      },
      "text/plain": [
       "  0%|          | 0/10000 [00:00<?, ?it/s]"
      ]
     },
     "metadata": {},
     "output_type": "display_data"
    },
    {
     "name": "stdout",
     "output_type": "stream",
     "text": [
      "{'eval_loss': 0.4356626570224762, 'eval_accuracy': 0.80761875, 'eval_precision': 0.813078048470199, 'eval_recall': 0.7989, 'eval_f1': 0.8059266731818039, 'eval_runtime': 462.4378, 'eval_samples_per_second': 691.985, 'eval_steps_per_second': 21.625, 'epoch': 2.8}\n",
      "{'loss': 0.3641, 'grad_norm': 3.950730562210083, 'learning_rate': 3.294117647058824e-06, 'epoch': 2.81}\n",
      "{'loss': 0.3641, 'grad_norm': 3.950730562210083, 'learning_rate': 3.294117647058824e-06, 'epoch': 2.81}\n",
      "{'loss': 0.3672, 'grad_norm': 3.322188138961792, 'learning_rate': 3.2100840336134454e-06, 'epoch': 2.81}\n",
      "{'loss': 0.3672, 'grad_norm': 3.322188138961792, 'learning_rate': 3.2100840336134454e-06, 'epoch': 2.81}\n",
      "{'loss': 0.3715, 'grad_norm': 2.8341684341430664, 'learning_rate': 3.1260504201680676e-06, 'epoch': 2.81}\n",
      "{'loss': 0.3715, 'grad_norm': 2.8341684341430664, 'learning_rate': 3.1260504201680676e-06, 'epoch': 2.81}\n",
      "{'loss': 0.362, 'grad_norm': 3.1307616233825684, 'learning_rate': 3.0420168067226894e-06, 'epoch': 2.82}\n",
      "{'loss': 0.362, 'grad_norm': 3.1307616233825684, 'learning_rate': 3.0420168067226894e-06, 'epoch': 2.82}\n",
      "{'loss': 0.354, 'grad_norm': 3.86755633354187, 'learning_rate': 2.957983193277311e-06, 'epoch': 2.83}\n",
      "{'loss': 0.354, 'grad_norm': 3.86755633354187, 'learning_rate': 2.957983193277311e-06, 'epoch': 2.83}\n",
      "{'loss': 0.3544, 'grad_norm': 4.426420211791992, 'learning_rate': 2.8747899159663866e-06, 'epoch': 2.83}\n",
      "{'loss': 0.3544, 'grad_norm': 4.426420211791992, 'learning_rate': 2.8747899159663866e-06, 'epoch': 2.83}\n",
      "{'loss': 0.3599, 'grad_norm': 2.879105806350708, 'learning_rate': 2.7907563025210084e-06, 'epoch': 2.83}\n",
      "{'loss': 0.3599, 'grad_norm': 2.879105806350708, 'learning_rate': 2.7907563025210084e-06, 'epoch': 2.83}\n",
      "{'loss': 0.3501, 'grad_norm': 3.3966238498687744, 'learning_rate': 2.70672268907563e-06, 'epoch': 2.84}\n",
      "{'loss': 0.3501, 'grad_norm': 3.3966238498687744, 'learning_rate': 2.70672268907563e-06, 'epoch': 2.84}\n",
      "{'loss': 0.3655, 'grad_norm': 3.244149923324585, 'learning_rate': 2.622689075630252e-06, 'epoch': 2.84}\n",
      "{'loss': 0.3655, 'grad_norm': 3.244149923324585, 'learning_rate': 2.622689075630252e-06, 'epoch': 2.84}\n",
      "{'loss': 0.3608, 'grad_norm': 3.412602186203003, 'learning_rate': 2.5386554621848738e-06, 'epoch': 2.85}\n",
      "{'loss': 0.3608, 'grad_norm': 3.412602186203003, 'learning_rate': 2.5386554621848738e-06, 'epoch': 2.85}\n"
     ]
    },
    {
     "data": {
      "application/vnd.jupyter.widget-view+json": {
       "model_id": "4b5468c8b90242799f31ba967571bf67",
       "version_major": 2,
       "version_minor": 0
      },
      "text/plain": [
       "  0%|          | 0/10000 [00:00<?, ?it/s]"
      ]
     },
     "metadata": {},
     "output_type": "display_data"
    },
    {
     "name": "stdout",
     "output_type": "stream",
     "text": [
      "{'eval_loss': 0.43298783898353577, 'eval_accuracy': 0.807865625, 'eval_precision': 0.8100690532093691, 'eval_recall': 0.8043125, 'eval_f1': 0.8071805132611811, 'eval_runtime': 462.4195, 'eval_samples_per_second': 692.012, 'eval_steps_per_second': 21.625, 'epoch': 2.85}\n",
      "{'loss': 0.3589, 'grad_norm': 3.523514986038208, 'learning_rate': 2.454621848739496e-06, 'epoch': 2.85}\n",
      "{'loss': 0.3589, 'grad_norm': 3.523514986038208, 'learning_rate': 2.454621848739496e-06, 'epoch': 2.85}\n",
      "{'loss': 0.369, 'grad_norm': 3.2874841690063477, 'learning_rate': 2.371428571428572e-06, 'epoch': 2.86}\n",
      "{'loss': 0.369, 'grad_norm': 3.2874841690063477, 'learning_rate': 2.371428571428572e-06, 'epoch': 2.86}\n",
      "{'loss': 0.3561, 'grad_norm': 3.9042906761169434, 'learning_rate': 2.2873949579831936e-06, 'epoch': 2.87}\n",
      "{'loss': 0.3561, 'grad_norm': 3.9042906761169434, 'learning_rate': 2.2873949579831936e-06, 'epoch': 2.87}\n",
      "{'loss': 0.3623, 'grad_norm': 3.6977880001068115, 'learning_rate': 2.2033613445378154e-06, 'epoch': 2.87}\n",
      "{'loss': 0.3623, 'grad_norm': 3.6977880001068115, 'learning_rate': 2.2033613445378154e-06, 'epoch': 2.87}\n",
      "{'loss': 0.3651, 'grad_norm': 4.50881290435791, 'learning_rate': 2.1193277310924372e-06, 'epoch': 2.88}\n",
      "{'loss': 0.3651, 'grad_norm': 4.50881290435791, 'learning_rate': 2.1193277310924372e-06, 'epoch': 2.88}\n",
      "{'loss': 0.369, 'grad_norm': 3.3889122009277344, 'learning_rate': 2.035294117647059e-06, 'epoch': 2.88}\n",
      "{'loss': 0.369, 'grad_norm': 3.3889122009277344, 'learning_rate': 2.035294117647059e-06, 'epoch': 2.88}\n",
      "{'loss': 0.3634, 'grad_norm': 3.697882890701294, 'learning_rate': 1.951260504201681e-06, 'epoch': 2.88}\n",
      "{'loss': 0.3634, 'grad_norm': 3.697882890701294, 'learning_rate': 1.951260504201681e-06, 'epoch': 2.88}\n",
      "{'loss': 0.3541, 'grad_norm': 2.9635555744171143, 'learning_rate': 1.8672268907563024e-06, 'epoch': 2.89}\n",
      "{'loss': 0.3541, 'grad_norm': 2.9635555744171143, 'learning_rate': 1.8672268907563024e-06, 'epoch': 2.89}\n",
      "{'loss': 0.3567, 'grad_norm': 4.3974127769470215, 'learning_rate': 1.7831932773109246e-06, 'epoch': 2.9}\n",
      "{'loss': 0.3567, 'grad_norm': 4.3974127769470215, 'learning_rate': 1.7831932773109246e-06, 'epoch': 2.9}\n",
      "{'loss': 0.3528, 'grad_norm': 3.5881171226501465, 'learning_rate': 1.6991596638655464e-06, 'epoch': 2.9}\n",
      "{'loss': 0.3528, 'grad_norm': 3.5881171226501465, 'learning_rate': 1.6991596638655464e-06, 'epoch': 2.9}\n"
     ]
    },
    {
     "data": {
      "application/vnd.jupyter.widget-view+json": {
       "model_id": "2d34d2abaede411d852a7cbb41cfbbb5",
       "version_major": 2,
       "version_minor": 0
      },
      "text/plain": [
       "  0%|          | 0/10000 [00:00<?, ?it/s]"
      ]
     },
     "metadata": {},
     "output_type": "display_data"
    },
    {
     "name": "stdout",
     "output_type": "stream",
     "text": [
      "{'eval_loss': 0.43408945202827454, 'eval_accuracy': 0.80795625, 'eval_precision': 0.8119176035652791, 'eval_recall': 0.80160625, 'eval_f1': 0.8067289790167564, 'eval_runtime': 462.6816, 'eval_samples_per_second': 691.62, 'eval_steps_per_second': 21.613, 'epoch': 2.9}\n",
      "{'loss': 0.3448, 'grad_norm': 4.174258708953857, 'learning_rate': 1.6151260504201682e-06, 'epoch': 2.91}\n",
      "{'loss': 0.3448, 'grad_norm': 4.174258708953857, 'learning_rate': 1.6151260504201682e-06, 'epoch': 2.91}\n",
      "{'loss': 0.3519, 'grad_norm': 3.925903558731079, 'learning_rate': 1.53109243697479e-06, 'epoch': 2.91}\n",
      "{'loss': 0.3519, 'grad_norm': 3.925903558731079, 'learning_rate': 1.53109243697479e-06, 'epoch': 2.91}\n",
      "{'loss': 0.3627, 'grad_norm': 4.065759181976318, 'learning_rate': 1.4470588235294118e-06, 'epoch': 2.92}\n",
      "{'loss': 0.3627, 'grad_norm': 4.065759181976318, 'learning_rate': 1.4470588235294118e-06, 'epoch': 2.92}\n",
      "{'loss': 0.3582, 'grad_norm': 3.159656047821045, 'learning_rate': 1.3630252100840338e-06, 'epoch': 2.92}\n",
      "{'loss': 0.3582, 'grad_norm': 3.159656047821045, 'learning_rate': 1.3630252100840338e-06, 'epoch': 2.92}\n",
      "{'loss': 0.3653, 'grad_norm': 3.684258222579956, 'learning_rate': 1.2789915966386556e-06, 'epoch': 2.92}\n",
      "{'loss': 0.3653, 'grad_norm': 3.684258222579956, 'learning_rate': 1.2789915966386556e-06, 'epoch': 2.92}\n",
      "{'loss': 0.3575, 'grad_norm': 3.1009292602539062, 'learning_rate': 1.1949579831932774e-06, 'epoch': 2.93}\n",
      "{'loss': 0.3575, 'grad_norm': 3.1009292602539062, 'learning_rate': 1.1949579831932774e-06, 'epoch': 2.93}\n",
      "{'loss': 0.3472, 'grad_norm': 3.5617048740386963, 'learning_rate': 1.1109243697478992e-06, 'epoch': 2.94}\n",
      "{'loss': 0.3472, 'grad_norm': 3.5617048740386963, 'learning_rate': 1.1109243697478992e-06, 'epoch': 2.94}\n",
      "{'loss': 0.3625, 'grad_norm': 6.008450508117676, 'learning_rate': 1.0268907563025212e-06, 'epoch': 2.94}\n",
      "{'loss': 0.3625, 'grad_norm': 6.008450508117676, 'learning_rate': 1.0268907563025212e-06, 'epoch': 2.94}\n",
      "{'loss': 0.3696, 'grad_norm': 4.270593166351318, 'learning_rate': 9.428571428571429e-07, 'epoch': 2.94}\n",
      "{'loss': 0.3696, 'grad_norm': 4.270593166351318, 'learning_rate': 9.428571428571429e-07, 'epoch': 2.94}\n",
      "{'loss': 0.3519, 'grad_norm': 3.5984580516815186, 'learning_rate': 8.588235294117647e-07, 'epoch': 2.95}\n",
      "{'loss': 0.3519, 'grad_norm': 3.5984580516815186, 'learning_rate': 8.588235294117647e-07, 'epoch': 2.95}\n"
     ]
    },
    {
     "data": {
      "application/vnd.jupyter.widget-view+json": {
       "model_id": "30000ab935fe417e935d5211e2230857",
       "version_major": 2,
       "version_minor": 0
      },
      "text/plain": [
       "  0%|          | 0/10000 [00:00<?, ?it/s]"
      ]
     },
     "metadata": {},
     "output_type": "display_data"
    },
    {
     "name": "stdout",
     "output_type": "stream",
     "text": [
      "{'eval_loss': 0.4352602958679199, 'eval_accuracy': 0.80791875, 'eval_precision': 0.8140786168734302, 'eval_recall': 0.7981125, 'eval_f1': 0.8060164992962235, 'eval_runtime': 462.9264, 'eval_samples_per_second': 691.255, 'eval_steps_per_second': 21.602, 'epoch': 2.95}\n",
      "{'loss': 0.3554, 'grad_norm': 3.080665349960327, 'learning_rate': 7.747899159663866e-07, 'epoch': 2.96}\n",
      "{'loss': 0.3554, 'grad_norm': 3.080665349960327, 'learning_rate': 7.747899159663866e-07, 'epoch': 2.96}\n",
      "{'loss': 0.3561, 'grad_norm': 3.598229169845581, 'learning_rate': 6.907563025210085e-07, 'epoch': 2.96}\n",
      "{'loss': 0.3561, 'grad_norm': 3.598229169845581, 'learning_rate': 6.907563025210085e-07, 'epoch': 2.96}\n",
      "{'loss': 0.3624, 'grad_norm': 2.6212384700775146, 'learning_rate': 6.067226890756303e-07, 'epoch': 2.96}\n",
      "{'loss': 0.3624, 'grad_norm': 2.6212384700775146, 'learning_rate': 6.067226890756303e-07, 'epoch': 2.96}\n",
      "{'loss': 0.3636, 'grad_norm': 3.9599032402038574, 'learning_rate': 5.226890756302522e-07, 'epoch': 2.97}\n",
      "{'loss': 0.3636, 'grad_norm': 3.9599032402038574, 'learning_rate': 5.226890756302522e-07, 'epoch': 2.97}\n",
      "{'loss': 0.3539, 'grad_norm': 3.2078890800476074, 'learning_rate': 4.3865546218487393e-07, 'epoch': 2.98}\n",
      "{'loss': 0.3539, 'grad_norm': 3.2078890800476074, 'learning_rate': 4.3865546218487393e-07, 'epoch': 2.98}\n",
      "{'loss': 0.3495, 'grad_norm': 3.148422956466675, 'learning_rate': 3.5462184873949583e-07, 'epoch': 2.98}\n",
      "{'loss': 0.3495, 'grad_norm': 3.148422956466675, 'learning_rate': 3.5462184873949583e-07, 'epoch': 2.98}\n",
      "{'loss': 0.3498, 'grad_norm': 2.781010389328003, 'learning_rate': 2.705882352941177e-07, 'epoch': 2.98}\n",
      "{'loss': 0.3498, 'grad_norm': 2.781010389328003, 'learning_rate': 2.705882352941177e-07, 'epoch': 2.98}\n",
      "{'loss': 0.3661, 'grad_norm': 3.647160530090332, 'learning_rate': 1.865546218487395e-07, 'epoch': 2.99}\n",
      "{'loss': 0.3661, 'grad_norm': 3.647160530090332, 'learning_rate': 1.865546218487395e-07, 'epoch': 2.99}\n",
      "{'loss': 0.3688, 'grad_norm': 3.828693389892578, 'learning_rate': 1.0252100840336136e-07, 'epoch': 3.0}\n",
      "{'loss': 0.3688, 'grad_norm': 3.828693389892578, 'learning_rate': 1.0252100840336136e-07, 'epoch': 3.0}\n",
      "{'loss': 0.3583, 'grad_norm': 4.201720237731934, 'learning_rate': 1.8487394957983194e-08, 'epoch': 3.0}\n",
      "{'loss': 0.3583, 'grad_norm': 4.201720237731934, 'learning_rate': 1.8487394957983194e-08, 'epoch': 3.0}\n"
     ]
    },
    {
     "data": {
      "application/vnd.jupyter.widget-view+json": {
       "model_id": "5a6a044d616c486c985e701d82f3a631",
       "version_major": 2,
       "version_minor": 0
      },
      "text/plain": [
       "  0%|          | 0/10000 [00:00<?, ?it/s]"
      ]
     },
     "metadata": {},
     "output_type": "display_data"
    },
    {
     "name": "stdout",
     "output_type": "stream",
     "text": [
      "{'eval_loss': 0.4332085847854614, 'eval_accuracy': 0.8082, 'eval_precision': 0.8126593033135089, 'eval_recall': 0.80106875, 'eval_f1': 0.8068224022560887, 'eval_runtime': 462.983, 'eval_samples_per_second': 691.17, 'eval_steps_per_second': 21.599, 'epoch': 3.0}\n",
      "{'train_runtime': 49425.3774, 'train_samples_per_second': 77.693, 'train_steps_per_second': 1.214, 'train_loss': 0.40783132718404136, 'epoch': 3.0}\n",
      "RoBERTa model training complete!\n",
      "{'train_runtime': 49425.3774, 'train_samples_per_second': 77.693, 'train_steps_per_second': 1.214, 'train_loss': 0.40783132718404136, 'epoch': 3.0}\n",
      "RoBERTa model training complete!\n"
     ]
    }
   ],
   "source": [
    "# Load the pre-trained model for binary classification\n",
    "# Add ignore_mismatched_sizes=True to handle the label count difference (pre-trained model has 3 classes)\n",
    "roberta_model = AutoModelForSequenceClassification.from_pretrained(\n",
    "    model_name, \n",
    "    num_labels=2,\n",
    "    ignore_mismatched_sizes=True  # This parameter allows loading with different output layer sizes\n",
    ")\n",
    "\n",
    "# Enhanced training arguments for better performance\n",
    "from transformers import get_scheduler\n",
    "\n",
    "training_args = TrainingArguments(\n",
    "    output_dir='./results',\n",
    "    num_train_epochs=3,  # Increased from 1 to 3 for better performance\n",
    "    per_device_train_batch_size=16,  # Reduced for larger dataset to avoid memory issues\n",
    "    per_device_eval_batch_size=32,\n",
    "    evaluation_strategy='steps',  # Evaluate at steps rather than just epochs for better monitoring\n",
    "    eval_steps=1000,  # Evaluate every 1000 steps\n",
    "    save_strategy='steps',\n",
    "    save_steps=1000,\n",
    "    logging_dir='./logs',\n",
    "    logging_steps=100,\n",
    "    load_best_model_at_end=True,\n",
    "    metric_for_best_model='accuracy',  # Use accuracy instead of loss\n",
    "    save_total_limit=2,  # Keep more checkpoints\n",
    "    report_to='none',  # Disable wandb reporting\n",
    "    # Add learning rate scheduling\n",
    "    learning_rate=5e-5,\n",
    "    warmup_steps=500,\n",
    "    weight_decay=0.01,  # Add weight decay for regularization\n",
    "    gradient_accumulation_steps=4,  # Accumulate gradients to effectively increase batch size\n",
    "    fp16=True  # Use mixed precision training if GPU supports it\n",
    ")\n",
    "\n",
    "# Enhanced metrics calculation\n",
    "def compute_metrics(eval_pred):\n",
    "    logits, labels = eval_pred\n",
    "    predictions = np.argmax(logits, axis=-1)\n",
    "    \n",
    "    metrics = {\n",
    "        'accuracy': accuracy_score(labels, predictions),\n",
    "        'precision': precision_score(labels, predictions, pos_label=1),\n",
    "        'recall': recall_score(labels, predictions, pos_label=1),\n",
    "        'f1': f1_score(labels, predictions, pos_label=1)\n",
    "    }\n",
    "    .DS_Store\n",
    "    return metrics\n",
    "\n",
    "# Create Trainer with enhanced configuration\n",
    "trainer = Trainer(\n",
    "    model=roberta_model,\n",
    "    args=training_args,\n",
    "    train_dataset=train_dataset,\n",
    "    eval_dataset=test_dataset,\n",
    "    compute_metrics=compute_metrics\n",
    ")\n",
    "\n",
    "# Train the model on full dataset\n",
    "print(\"Training RoBERTa model on full dataset (this may take several hours)...\")\n",
    "trainer.train()\n",
    "\n",
    "models['RoBERTa'] = trainer.model\n",
    "print(\"RoBERTa model training complete!\")"
   ]
  },
  {
   "cell_type": "markdown",
   "id": "10f2876a",
   "metadata": {},
   "source": [
    "### Hardware Optimization for Large Dataset Training\n",
    "\n",
    "When training on the full dataset, we need to be mindful of memory and speed optimizations."
   ]
  },
  {
   "cell_type": "code",
   "execution_count": 9,
   "id": "560212a1",
   "metadata": {},
   "outputs": [
    {
     "name": "stdout",
     "output_type": "stream",
     "text": [
      "GPU available: NVIDIA GeForce RTX 4060\n",
      "GPU memory allocated: 1.54 GB\n",
      "GPU memory cached: 3.58 GB\n",
      "GPU memory reserved: 3.58 GB\n",
      "\n",
      "To optimize memory usage for large dataset training:\n",
      "1. Consider using gradient checkpointing if memory is an issue\n",
      "2. Use smaller batch sizes and larger gradient_accumulation_steps\n",
      "3. Enable mixed precision training (fp16=True)\n",
      "4. If you still encounter memory issues, you might need to sample the dataset\n",
      "\n",
      "To enable gradient checkpointing, use:\n",
      "```\n",
      "roberta_model.gradient_checkpointing_enable()\n",
      "```\n"
     ]
    },
    {
     "name": "stderr",
     "output_type": "stream",
     "text": [
      "C:\\Users\\queri\\AppData\\Local\\Temp\\ipykernel_33032\\298541685.py:5: FutureWarning: `torch.cuda.memory_cached` has been renamed to `torch.cuda.memory_reserved`\n",
      "  print(f\"GPU memory cached: {torch.cuda.memory_cached(0) / 1e9:.2f} GB\")\n"
     ]
    }
   ],
   "source": [
    "# Check if GPU is available and show memory stats\n",
    "if torch.cuda.is_available():\n",
    "    print(f\"GPU available: {torch.cuda.get_device_name(0)}\")\n",
    "    print(f\"GPU memory allocated: {torch.cuda.memory_allocated(0) / 1e9:.2f} GB\")\n",
    "    print(f\"GPU memory cached: {torch.cuda.memory_cached(0) / 1e9:.2f} GB\")\n",
    "    print(f\"GPU memory reserved: {torch.cuda.max_memory_reserved(0) / 1e9:.2f} GB\")\n",
    "else:\n",
    "    print(\"No GPU available, using CPU for training (this will be slow)\")\n",
    "\n",
    "# Memory optimization tips:\n",
    "print(\"\\nTo optimize memory usage for large dataset training:\")\n",
    "print(\"1. Consider using gradient checkpointing if memory is an issue\")\n",
    "print(\"2. Use smaller batch sizes and larger gradient_accumulation_steps\")\n",
    "print(\"3. Enable mixed precision training (fp16=True)\")\n",
    "print(\"4. If you still encounter memory issues, you might need to sample the dataset\")\n",
    "\n",
    "# Add this code to enable gradient checkpointing if needed\n",
    "print(\"\\nTo enable gradient checkpointing, use:\")\n",
    "print(\"```\")\n",
    "print(\"roberta_model.gradient_checkpointing_enable()\")\n",
    "print(\"```\")"
   ]
  },
  {
   "cell_type": "markdown",
   "id": "20cc6d14",
   "metadata": {},
   "source": [
    "### Monitor Training Progress\n",
    "\n",
    "Let's visualize the training progress and learning curves."
   ]
  },
  {
   "cell_type": "code",
   "execution_count": 10,
   "id": "9c125666",
   "metadata": {},
   "outputs": [
    {
     "name": "stdout",
     "output_type": "stream",
     "text": [
      "No training logs found. Skipping learning curve visualization.\n"
     ]
    }
   ],
   "source": [
    "# Plot training metrics if the data is available\n",
    "try:\n",
    "    import pandas as pd\n",
    "    import matplotlib.pyplot as plt\n",
    "    import json\n",
    "    import glob\n",
    "    \n",
    "    # Find the training log file\n",
    "    log_files = sorted(glob.glob('./logs/run-*/*/*/events.out.tfevents.*'))\n",
    "    if len(log_files) > 0:\n",
    "        # Use tensorboard to extract data\n",
    "        import tensorflow as tf\n",
    "        metrics_data = []\n",
    "        \n",
    "        for event_file in log_files:\n",
    "            for e in tf.compat.v1.train.summary_iterator(event_file):\n",
    "                for v in e.summary.value:\n",
    "                    if v.tag in [\"train_loss\", \"eval_loss\", \"eval_accuracy\", \"eval_precision\", \"eval_recall\", \"eval_f1\"]:\n",
    "                        metrics_data.append({\"step\": e.step, \"metric\": v.tag, \"value\": v.simple_value})\n",
    "        \n",
    "        # Convert to DataFrame for easier plotting\n",
    "        metrics_df = pd.DataFrame(metrics_data)\n",
    "        \n",
    "        # Plot metrics\n",
    "        plt.figure(figsize=(15, 10))\n",
    "        \n",
    "        # Loss plot\n",
    "        plt.subplot(2, 2, 1)\n",
    "        for metric in [\"train_loss\", \"eval_loss\"]:\n",
    "            if metric in metrics_df[\"metric\"].values:\n",
    "                metric_data = metrics_df[metrics_df[\"metric\"] == metric]\n",
    "                plt.plot(metric_data[\"step\"], metric_data[\"value\"], label=metric)\n",
    "        plt.title(\"Training and Evaluation Loss\")\n",
    "        plt.xlabel(\"Step\")\n",
    "        plt.ylabel(\"Loss\")\n",
    "        plt.legend()\n",
    "        \n",
    "        # Accuracy plot\n",
    "        plt.subplot(2, 2, 2)\n",
    "        if \"eval_accuracy\" in metrics_df[\"metric\"].values:\n",
    "            metric_data = metrics_df[metrics_df[\"metric\"] == \"eval_accuracy\"]\n",
    "            plt.plot(metric_data[\"step\"], metric_data[\"value\"], label=\"Accuracy\")\n",
    "        plt.title(\"Validation Accuracy\")\n",
    "        plt.xlabel(\"Step\")\n",
    "        plt.ylabel(\"Accuracy\")\n",
    "        plt.legend()\n",
    "        \n",
    "        # Precision & Recall plot\n",
    "        plt.subplot(2, 2, 3)\n",
    "        for metric in [\"eval_precision\", \"eval_recall\"]:\n",
    "            if metric in metrics_df[\"metric\"].values:\n",
    "                metric_data = metrics_df[metrics_df[\"metric\"] == metric]\n",
    "                plt.plot(metric_data[\"step\"], metric_data[\"value\"], label=metric.split('_')[1])\n",
    "        plt.title(\"Precision and Recall\")\n",
    "        plt.xlabel(\"Step\")\n",
    "        plt.ylabel(\"Score\")\n",
    "        plt.legend()\n",
    "        \n",
    "        # F1 plot\n",
    "        plt.subplot(2, 2, 4)\n",
    "        if \"eval_f1\" in metrics_df[\"metric\"].values:\n",
    "            metric_data = metrics_df[metrics_df[\"metric\"] == \"eval_f1\"]\n",
    "            plt.plot(metric_data[\"step\"], metric_data[\"value\"], label=\"F1\")\n",
    "        plt.title(\"F1 Score\")\n",
    "        plt.xlabel(\"Step\")\n",
    "        plt.ylabel(\"F1 Score\")\n",
    "        plt.legend()\n",
    "        \n",
    "        plt.tight_layout()\n",
    "        plt.show()\n",
    "    else:\n",
    "        print(\"No training logs found. Skipping learning curve visualization.\")\n",
    "except Exception as e:\n",
    "    print(f\"Error generating training plots: {e}\")"
   ]
  },
  {
   "cell_type": "markdown",
   "id": "ebd3cf9f",
   "metadata": {},
   "source": [
    "### In-depth RoBERTa Model Evaluation\n",
    "\n",
    "Let's perform a more thorough evaluation of the RoBERTa model."
   ]
  },
  {
   "cell_type": "code",
   "execution_count": 11,
   "id": "565b0618",
   "metadata": {},
   "outputs": [
    {
     "data": {
      "application/vnd.jupyter.widget-view+json": {
       "model_id": "06830b4a7d1240e7b1969efabc7b2e9b",
       "version_major": 2,
       "version_minor": 0
      },
      "text/plain": [
       "  0%|          | 0/10000 [00:00<?, ?it/s]"
      ]
     },
     "metadata": {},
     "output_type": "display_data"
    },
    {
     "data": {
      "image/png": "[encoded data removed]",
      "text/plain": [
       "<Figure size 1200x500 with 2 Axes>"
      ]
     },
     "metadata": {},
     "output_type": "display_data"
    },
    {
     "name": "stdout",
     "output_type": "stream",
     "text": [
      "\n",
      "Classification Report:\n",
      "              precision    recall  f1-score   support\n",
      "\n",
      "    Negative       0.80      0.82      0.81    160000\n",
      "    Positive       0.81      0.80      0.81    160000\n",
      "\n",
      "    accuracy                           0.81    320000\n",
      "   macro avg       0.81      0.81      0.81    320000\n",
      "weighted avg       0.81      0.81      0.81    320000\n",
      "\n",
      "              precision    recall  f1-score   support\n",
      "\n",
      "    Negative       0.80      0.82      0.81    160000\n",
      "    Positive       0.81      0.80      0.81    160000\n",
      "\n",
      "    accuracy                           0.81    320000\n",
      "   macro avg       0.81      0.81      0.81    320000\n",
      "weighted avg       0.81      0.81      0.81    320000\n",
      "\n"
     ]
    },
    {
     "data": {
      "image/png": "[encoded data removed]",
      "text/plain": [
       "<Figure size 1000x800 with 2 Axes>"
      ]
     },
     "metadata": {},
     "output_type": "display_data"
    },
    {
     "data": {
      "image/png": "[encoded data removed]",
      "text/plain": [
       "<Figure size 1000x800 with 2 Axes>"
      ]
     },
     "metadata": {},
     "output_type": "display_data"
    }
   ],
   "source": [
    "# Enhanced RoBERTa evaluation with additional metrics\n",
    "from sklearn.metrics import roc_curve, auc, precision_recall_curve\n",
    "import matplotlib.pyplot as plt\n",
    "import numpy as np\n",
    "\n",
    "# Get predictions with probabilities (not just class labels)\n",
    "raw_pred, labels, _ = trainer.predict(test_dataset)\n",
    "y_scores = raw_pred[:, 1]  # Probability for positive class\n",
    "y_pred = np.argmax(raw_pred, axis=1)\n",
    "\n",
    "# ROC Curve and AUC\n",
    "fpr, tpr, _ = roc_curve(labels, y_scores)\n",
    "roc_auc = auc(fpr, tpr)\n",
    "\n",
    "# Precision-Recall Curve\n",
    "precision, recall, _ = precision_recall_curve(labels, y_scores, pos_label=1)\n",
    "pr_auc = auc(recall, precision)\n",
    "\n",
    "# Plot ROC curve\n",
    "plt.figure(figsize=(12, 5))\n",
    "plt.subplot(1, 2, 1)\n",
    "plt.plot(fpr, tpr, color='darkorange', lw=2, label=f'ROC curve (area = {roc_auc:.3f})')\n",
    "plt.plot([0, 1], [0, 1], color='navy', lw=2, linestyle='--')\n",
    "plt.xlim([0.0, 1.0])\n",
    "plt.ylim([0.0, 1.05])\n",
    "plt.xlabel('False Positive Rate')\n",
    "plt.ylabel('True Positive Rate')\n",
    "plt.title('ROC Curve')\n",
    "plt.legend(loc=\"lower right\")\n",
    "\n",
    "# Plot Precision-Recall curve\n",
    "plt.subplot(1, 2, 2)\n",
    "plt.plot(recall, precision, color='blue', lw=2, label=f'PR curve (area = {pr_auc:.3f})')\n",
    "plt.xlim([0.0, 1.0])\n",
    "plt.ylim([0.0, 1.05])\n",
    "plt.xlabel('Recall')\n",
    "plt.ylabel('Precision')\n",
    "plt.title('Precision-Recall Curve')\n",
    "plt.legend(loc=\"lower left\")\n",
    "plt.tight_layout()\n",
    "plt.show()\n",
    "\n",
    "# Print detailed metrics\n",
    "from sklearn.metrics import classification_report, confusion_matrix\n",
    "print(\"\\nClassification Report:\")\n",
    "print(classification_report(labels, y_pred, target_names=['Negative', 'Positive']))\n",
    "\n",
    "# Confusion Matrix with percentages\n",
    "cm = confusion_matrix(labels, y_pred)\n",
    "cm_norm = cm.astype('float') / cm.sum(axis=1)[:, np.newaxis]\n",
    "\n",
    "plt.figure(figsize=(10, 8))\n",
    "sns.heatmap(cm, annot=True, fmt='d', cmap='Blues', \n",
    "            xticklabels=['Negative', 'Positive'], \n",
    "            yticklabels=['Negative', 'Positive'])\n",
    "plt.title('Confusion Matrix')\n",
    "plt.ylabel('True Label')\n",
    "plt.xlabel('Predicted Label')\n",
    "plt.show()\n",
    "\n",
    "plt.figure(figsize=(10, 8))\n",
    "sns.heatmap(cm_norm, annot=True, fmt='.2f', cmap='Blues', \n",
    "            xticklabels=['Negative', 'Positive'], \n",
    "            yticklabels=['Negative', 'Positive'])\n",
    "plt.title('Normalized Confusion Matrix')\n",
    "plt.ylabel('True Label')\n",
    "plt.xlabel('Predicted Label')\n",
    "plt.show()"
   ]
  },
  {
   "cell_type": "markdown",
   "id": "470013f6",
   "metadata": {},
   "source": [
    "### Error Analysis - Examine Misclassifications"
   ]
  },
  {
   "cell_type": "code",
   "execution_count": 12,
   "id": "9342eb94",
   "metadata": {},
   "outputs": [
    {
     "name": "stdout",
     "output_type": "stream",
     "text": [
      "Total misclassifications: 61376 / 320000 (19.18%)\n",
      "False positives: 29547 (Negative classified as Positive)\n",
      "False negatives: 31829 (Positive classified as Negative)\n",
      "\n",
      "Top 5 Most Confident False Positives (Negative predicted as Positive):\n",
      "1. Text: out of bath bombs  time to go to lush!\n",
      "   Confidence: 1.8330\n",
      "\n",
      "2. Text: @10TheDoctor10 ( *comfort*  We're all your friends here or good acquaintances. We all share a common interest. )\n",
      "   Confidence: 1.8330\n",
      "\n",
      "3. Text: @billpalmer welcome to the new facebook! \n",
      "   Confidence: 1.8330\n",
      "\n",
      "4. Text: @ramn Welcome back... Talk to you soon... I am up resolving a production issue \n",
      "   Confidence: 1.8330\n",
      "\n",
      "5. Text: Diversity was pretty awesome. There was a beautiful rainbow in the sky yesterday, but no pot of gold \n",
      "   Confidence: 1.8330\n",
      "\n",
      "\n",
      "Top 5 Most Confident False Negatives (Positive predicted as Negative):\n",
      "1. Text: I cut my hand while doing pull-ups, I did a few more sets after the minor injury. \n",
      "   Confidence: 2.8555\n",
      "\n",
      "2. Text: @Wendy_AM Not sad at all!  I want to go see it but nobody will go with me.  \n",
      "   Confidence: 2.8545\n",
      "\n",
      "3. Text: why are you mad?   i miss you too baby \n",
      "   Confidence: 2.8535\n",
      "\n",
      "4. Text: my mom was here today  it's not allowed 2 leave the hospital but my dad picked her up  But now she's back there &amp; I'm lonely &amp; sad again\n",
      "   Confidence: 2.8516\n",
      "\n",
      "5. Text: Coming down with a cold. Darn wife.  Stiff neck and very achy\n",
      "   Confidence: 2.8506\n",
      "\n"
     ]
    }
   ],
   "source": [
    "# Identify and analyze misclassifications\n",
    "test_texts = test_df['text'].values\n",
    "test_labels = test_df['label'].values\n",
    "\n",
    "# Create a DataFrame to store predictions and analysis\n",
    "analysis_df = pd.DataFrame({\n",
    "    'text': test_texts,\n",
    "    'true_label': test_labels,\n",
    "    'predicted_label': y_pred,\n",
    "    'positive_prob': y_scores,\n",
    "})\n",
    "\n",
    "# Add a column to identify misclassifications\n",
    "analysis_df['correct'] = analysis_df['true_label'] == analysis_df['predicted_label']\n",
    "\n",
    "# Add human-readable labels\n",
    "analysis_df['true_sentiment'] = analysis_df['true_label'].map({0: 'Negative', 1: 'Positive'})\n",
    "analysis_df['predicted_sentiment'] = analysis_df['predicted_label'].map({0: 'Negative', 1: 'Positive'})\n",
    "\n",
    "# Examine the most confidently wrong predictions\n",
    "false_pos = analysis_df[(analysis_df['true_label'] == 0) & (analysis_df['predicted_label'] == 1)]\n",
    "false_neg = analysis_df[(analysis_df['true_label'] == 1) & (analysis_df['predicted_label'] == 0)]\n",
    "\n",
    "# Sort by confidence (probability)\n",
    "false_pos = false_pos.sort_values(by='positive_prob', ascending=False)\n",
    "false_neg = false_neg.sort_values(by='positive_prob')\n",
    "\n",
    "print(f\"Total misclassifications: {len(analysis_df) - analysis_df['correct'].sum()} / {len(analysis_df)} \"\n",
    "      f\"({(1 - analysis_df['correct'].mean()) * 100:.2f}%)\")\n",
    "print(f\"False positives: {len(false_pos)} (Negative classified as Positive)\")\n",
    "print(f\"False negatives: {len(false_neg)} (Positive classified as Negative)\")\n",
    "\n",
    "# Display most confidently incorrect predictions\n",
    "print(\"\\nTop 5 Most Confident False Positives (Negative predicted as Positive):\")\n",
    "for i, (_, row) in enumerate(false_pos.head(5).iterrows()):\n",
    "    print(f\"{i+1}. Text: {row['text']}\")\n",
    "    print(f\"   Confidence: {row['positive_prob']:.4f}\\n\")\n",
    "\n",
    "print(\"\\nTop 5 Most Confident False Negatives (Positive predicted as Negative):\")\n",
    "for i, (_, row) in enumerate(false_neg.head(5).iterrows()):\n",
    "    print(f\"{i+1}. Text: {row['text']}\")\n",
    "    print(f\"   Confidence: {1 - row['positive_prob']:.4f}\\n\")"
   ]
  },
  {
   "cell_type": "markdown",
   "id": "3333d83c",
   "metadata": {},
   "source": [
    "## Save Models for Deployment"
   ]
  },
  {
   "cell_type": "code",
   "execution_count": 13,
   "id": "61de36b8",
   "metadata": {},
   "outputs": [
    {
     "name": "stdout",
     "output_type": "stream",
     "text": [
      "All models saved successfully\n"
     ]
    }
   ],
   "source": [
    "import os\n",
    "\n",
    "# Create directory for saved models\n",
    "os.makedirs('./saved_models', exist_ok=True)\n",
    "\n",
    "# Save classical models\n",
    "joblib.dump(models['Naive Bayes'], './saved_models/naive_bayes_model.pkl')\n",
    "joblib.dump(models['Logistic Regression'], './saved_models/logistic_regression_model.pkl')\n",
    "joblib.dump(tfidf_vectorizer, './saved_models/tfidf_vectorizer.pkl')\n",
    "\n",
    "# Save preprocessing function for deployment\n",
    "joblib.dump(clean_tweet, './saved_models/tweet_cleaner.pkl')\n",
    "\n",
    "# Save RoBERTa model with version name indicating full training\n",
    "roberta_path = './saved_models/roberta_full_model'\n",
    "trainer.model.save_pretrained(roberta_path)\n",
    "tokenizer.save_pretrained(roberta_path)\n",
    "\n",
    "# Save model performance metrics for reference\n",
    "with open('./saved_models/model_metrics.json', 'w') as f:\n",
    "    import json\n",
    "    json.dump(results, f, default=str)\n",
    "\n",
    "print(\"All models saved successfully\")"
   ]
  }
 ],
 "metadata": {
  "kernelspec": {
   "display_name": "base",
   "language": "python",
   "name": "python3"
  },
  "language_info": {
   "codemirror_mode": {
    "name": "ipython",
    "version": 3
   },
   "file_extension": ".py",
   "mimetype": "text/x-python",
   "name": "python",
   "nbconvert_exporter": "python",
   "pygments_lexer": "ipython3",
   "version": "3.12.7"
  }
 },
 "nbformat": 4,
 "nbformat_minor": 5
}
